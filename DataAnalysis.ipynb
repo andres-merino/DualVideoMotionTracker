{
 "cells": [
  {
   "cell_type": "markdown",
   "metadata": {},
   "source": [
    "# DataAnalysis"
   ]
  },
  {
   "cell_type": "markdown",
   "metadata": {},
   "source": [
    "## Paquetes"
   ]
  },
  {
   "cell_type": "code",
   "execution_count": 42,
   "metadata": {},
   "outputs": [],
   "source": [
    "import pandas as pd\n",
    "import numpy as np\n",
    "\n",
    "import plotly.graph_objects as go"
   ]
  },
  {
   "cell_type": "markdown",
   "metadata": {},
   "source": [
    "## Funciones"
   ]
  },
  {
   "cell_type": "code",
   "execution_count": 43,
   "metadata": {},
   "outputs": [],
   "source": [
    "def extract_coordinates(point):\n",
    "    point = point.strip(\"()\")\n",
    "    x, y = point.split(\", \")\n",
    "    return int(x), int(y)"
   ]
  },
  {
   "cell_type": "markdown",
   "metadata": {},
   "source": [
    "## Código"
   ]
  },
  {
   "cell_type": "markdown",
   "metadata": {},
   "source": [
    "### Lectura de datos"
   ]
  },
  {
   "cell_type": "code",
   "execution_count": 44,
   "metadata": {},
   "outputs": [
    {
     "name": "stdout",
     "output_type": "stream",
     "text": [
      "        x      y    z\n",
      "0   412.0  315.0  370\n",
      "1   377.0  258.0  295\n",
      "2   342.0  201.0  221\n",
      "3   300.0  160.0  163\n",
      "4   273.0  131.0   82\n",
      "5   257.0  111.0   73\n",
      "6   265.0  103.0   45\n",
      "7   269.0  110.0   50\n",
      "8   267.5  111.0   67\n",
      "9   266.0  112.0   75\n",
      "10  268.0  109.0   87\n",
      "11  263.0  101.0   95\n",
      "12  263.0   99.0   95\n",
      "13  260.0   94.0   99\n"
     ]
    }
   ],
   "source": [
    "# Read the data from the excel file\n",
    "data = pd.read_excel('data/output_points_6.xlsx')\n",
    "\n",
    "# Split columns into two\n",
    "for column in data.columns:\n",
    "    data[column + ' (x)'] = data[column].apply(lambda p: extract_coordinates(p)[0])\n",
    "    data[column + ' (y)'] = data[column].apply(lambda p: extract_coordinates(p)[1])\n",
    "\n",
    "# Drop the original columns\n",
    "data = data.drop(columns=data.columns[:6])\n",
    "\n",
    "# Take Left Point 2 and Right Point 2\n",
    "data_point_2 = data[['Left Point 2 (x)', 'Left Point 2 (y)', 'Right Point 2 (x)', 'Right Point 2 (y)']]\n",
    "\n",
    "# Delete rows with 0 values, reindex\n",
    "data_point_2 = data_point_2[(data_point_2.T != 0).all()]\n",
    "data_point_2 = data_point_2.reset_index(drop=True)\n",
    "\n",
    "# Find first row with the value equal to -2\n",
    "index = data_point_2.index[data_point_2['Left Point 2 (x)'] == -2].tolist()[0]\n",
    "\n",
    "# Delete rows after the first row with the value equal to -2\n",
    "data_point_2 = data_point_2.iloc[:index]\n",
    "\n",
    "# Change -1 values to nan\n",
    "data_point_2 = data_point_2.replace(-1, np.nan)\n",
    "\n",
    "# Complete nan by interpolation\n",
    "data_point_2 = data_point_2.interpolate()\n",
    "\n",
    "# Delete column Right Point 2 (x)\n",
    "data_point_2 = data_point_2.drop(columns='Right Point 2 (x)')\n",
    "\n",
    "# Rename columns: x, y, z\n",
    "data_point_2.columns = ['x', 'y', 'z']\n",
    "\n",
    "# Show the data\n",
    "print(data_point_2.head(20))\n"
   ]
  },
  {
   "cell_type": "markdown",
   "metadata": {},
   "source": [
    "### Gráfico 3D"
   ]
  },
  {
   "cell_type": "code",
   "execution_count": 45,
   "metadata": {},
   "outputs": [],
   "source": [
    "df = data_point_2.copy()"
   ]
  },
  {
   "cell_type": "code",
   "execution_count": 46,
   "metadata": {},
   "outputs": [
    {
     "data": {
      "application/vnd.plotly.v1+json": {
       "config": {
        "plotlyServerURL": "https://plot.ly"
       },
       "data": [
        {
         "line": {
          "width": 2
         },
         "marker": {
          "size": 2
         },
         "mode": "lines+markers",
         "name": "Trayectoria",
         "type": "scatter3d",
         "x": [
          412,
          377,
          342,
          300,
          273,
          257,
          265,
          269,
          267.5,
          266,
          268,
          263,
          263
         ],
         "y": [
          315,
          258,
          201,
          160,
          131,
          111,
          103,
          110,
          111,
          112,
          109,
          101,
          99
         ],
         "z": [
          370,
          295,
          221,
          163,
          82,
          73,
          45,
          50,
          67,
          75,
          87,
          95,
          95
         ]
        },
        {
         "marker": {
          "color": "red",
          "size": 5
         },
         "mode": "markers",
         "name": "Flor",
         "type": "scatter3d",
         "x": [
          260
         ],
         "y": [
          94
         ],
         "z": [
          99
         ]
        }
       ],
       "layout": {
        "scene": {
         "camera": {
          "eye": {
           "x": 1.5,
           "y": 1.5,
           "z": 1.5
          }
         },
         "xaxis": {
          "backgroundcolor": "lightblue",
          "dtick": 50,
          "gridwidth": 0.5,
          "range": [
           247,
           422
          ],
          "showticklabels": false,
          "tickmode": "linear",
          "title": {
           "text": "X"
          }
         },
         "yaxis": {
          "backgroundcolor": "lightblue",
          "dtick": 50,
          "gridwidth": 0.5,
          "range": [
           84,
           325
          ],
          "showticklabels": false,
          "tickmode": "linear",
          "title": {
           "text": "Y"
          }
         },
         "zaxis": {
          "backgroundcolor": "lightblue",
          "dtick": 50,
          "gridwidth": 0.5,
          "range": [
           35,
           380
          ],
          "showticklabels": false,
          "tickmode": "linear",
          "title": {
           "text": "Z"
          }
         }
        },
        "template": {
         "data": {
          "bar": [
           {
            "error_x": {
             "color": "#2a3f5f"
            },
            "error_y": {
             "color": "#2a3f5f"
            },
            "marker": {
             "line": {
              "color": "#E5ECF6",
              "width": 0.5
             },
             "pattern": {
              "fillmode": "overlay",
              "size": 10,
              "solidity": 0.2
             }
            },
            "type": "bar"
           }
          ],
          "barpolar": [
           {
            "marker": {
             "line": {
              "color": "#E5ECF6",
              "width": 0.5
             },
             "pattern": {
              "fillmode": "overlay",
              "size": 10,
              "solidity": 0.2
             }
            },
            "type": "barpolar"
           }
          ],
          "carpet": [
           {
            "aaxis": {
             "endlinecolor": "#2a3f5f",
             "gridcolor": "white",
             "linecolor": "white",
             "minorgridcolor": "white",
             "startlinecolor": "#2a3f5f"
            },
            "baxis": {
             "endlinecolor": "#2a3f5f",
             "gridcolor": "white",
             "linecolor": "white",
             "minorgridcolor": "white",
             "startlinecolor": "#2a3f5f"
            },
            "type": "carpet"
           }
          ],
          "choropleth": [
           {
            "colorbar": {
             "outlinewidth": 0,
             "ticks": ""
            },
            "type": "choropleth"
           }
          ],
          "contour": [
           {
            "colorbar": {
             "outlinewidth": 0,
             "ticks": ""
            },
            "colorscale": [
             [
              0,
              "#0d0887"
             ],
             [
              0.1111111111111111,
              "#46039f"
             ],
             [
              0.2222222222222222,
              "#7201a8"
             ],
             [
              0.3333333333333333,
              "#9c179e"
             ],
             [
              0.4444444444444444,
              "#bd3786"
             ],
             [
              0.5555555555555556,
              "#d8576b"
             ],
             [
              0.6666666666666666,
              "#ed7953"
             ],
             [
              0.7777777777777778,
              "#fb9f3a"
             ],
             [
              0.8888888888888888,
              "#fdca26"
             ],
             [
              1,
              "#f0f921"
             ]
            ],
            "type": "contour"
           }
          ],
          "contourcarpet": [
           {
            "colorbar": {
             "outlinewidth": 0,
             "ticks": ""
            },
            "type": "contourcarpet"
           }
          ],
          "heatmap": [
           {
            "colorbar": {
             "outlinewidth": 0,
             "ticks": ""
            },
            "colorscale": [
             [
              0,
              "#0d0887"
             ],
             [
              0.1111111111111111,
              "#46039f"
             ],
             [
              0.2222222222222222,
              "#7201a8"
             ],
             [
              0.3333333333333333,
              "#9c179e"
             ],
             [
              0.4444444444444444,
              "#bd3786"
             ],
             [
              0.5555555555555556,
              "#d8576b"
             ],
             [
              0.6666666666666666,
              "#ed7953"
             ],
             [
              0.7777777777777778,
              "#fb9f3a"
             ],
             [
              0.8888888888888888,
              "#fdca26"
             ],
             [
              1,
              "#f0f921"
             ]
            ],
            "type": "heatmap"
           }
          ],
          "heatmapgl": [
           {
            "colorbar": {
             "outlinewidth": 0,
             "ticks": ""
            },
            "colorscale": [
             [
              0,
              "#0d0887"
             ],
             [
              0.1111111111111111,
              "#46039f"
             ],
             [
              0.2222222222222222,
              "#7201a8"
             ],
             [
              0.3333333333333333,
              "#9c179e"
             ],
             [
              0.4444444444444444,
              "#bd3786"
             ],
             [
              0.5555555555555556,
              "#d8576b"
             ],
             [
              0.6666666666666666,
              "#ed7953"
             ],
             [
              0.7777777777777778,
              "#fb9f3a"
             ],
             [
              0.8888888888888888,
              "#fdca26"
             ],
             [
              1,
              "#f0f921"
             ]
            ],
            "type": "heatmapgl"
           }
          ],
          "histogram": [
           {
            "marker": {
             "pattern": {
              "fillmode": "overlay",
              "size": 10,
              "solidity": 0.2
             }
            },
            "type": "histogram"
           }
          ],
          "histogram2d": [
           {
            "colorbar": {
             "outlinewidth": 0,
             "ticks": ""
            },
            "colorscale": [
             [
              0,
              "#0d0887"
             ],
             [
              0.1111111111111111,
              "#46039f"
             ],
             [
              0.2222222222222222,
              "#7201a8"
             ],
             [
              0.3333333333333333,
              "#9c179e"
             ],
             [
              0.4444444444444444,
              "#bd3786"
             ],
             [
              0.5555555555555556,
              "#d8576b"
             ],
             [
              0.6666666666666666,
              "#ed7953"
             ],
             [
              0.7777777777777778,
              "#fb9f3a"
             ],
             [
              0.8888888888888888,
              "#fdca26"
             ],
             [
              1,
              "#f0f921"
             ]
            ],
            "type": "histogram2d"
           }
          ],
          "histogram2dcontour": [
           {
            "colorbar": {
             "outlinewidth": 0,
             "ticks": ""
            },
            "colorscale": [
             [
              0,
              "#0d0887"
             ],
             [
              0.1111111111111111,
              "#46039f"
             ],
             [
              0.2222222222222222,
              "#7201a8"
             ],
             [
              0.3333333333333333,
              "#9c179e"
             ],
             [
              0.4444444444444444,
              "#bd3786"
             ],
             [
              0.5555555555555556,
              "#d8576b"
             ],
             [
              0.6666666666666666,
              "#ed7953"
             ],
             [
              0.7777777777777778,
              "#fb9f3a"
             ],
             [
              0.8888888888888888,
              "#fdca26"
             ],
             [
              1,
              "#f0f921"
             ]
            ],
            "type": "histogram2dcontour"
           }
          ],
          "mesh3d": [
           {
            "colorbar": {
             "outlinewidth": 0,
             "ticks": ""
            },
            "type": "mesh3d"
           }
          ],
          "parcoords": [
           {
            "line": {
             "colorbar": {
              "outlinewidth": 0,
              "ticks": ""
             }
            },
            "type": "parcoords"
           }
          ],
          "pie": [
           {
            "automargin": true,
            "type": "pie"
           }
          ],
          "scatter": [
           {
            "fillpattern": {
             "fillmode": "overlay",
             "size": 10,
             "solidity": 0.2
            },
            "type": "scatter"
           }
          ],
          "scatter3d": [
           {
            "line": {
             "colorbar": {
              "outlinewidth": 0,
              "ticks": ""
             }
            },
            "marker": {
             "colorbar": {
              "outlinewidth": 0,
              "ticks": ""
             }
            },
            "type": "scatter3d"
           }
          ],
          "scattercarpet": [
           {
            "marker": {
             "colorbar": {
              "outlinewidth": 0,
              "ticks": ""
             }
            },
            "type": "scattercarpet"
           }
          ],
          "scattergeo": [
           {
            "marker": {
             "colorbar": {
              "outlinewidth": 0,
              "ticks": ""
             }
            },
            "type": "scattergeo"
           }
          ],
          "scattergl": [
           {
            "marker": {
             "colorbar": {
              "outlinewidth": 0,
              "ticks": ""
             }
            },
            "type": "scattergl"
           }
          ],
          "scattermapbox": [
           {
            "marker": {
             "colorbar": {
              "outlinewidth": 0,
              "ticks": ""
             }
            },
            "type": "scattermapbox"
           }
          ],
          "scatterpolar": [
           {
            "marker": {
             "colorbar": {
              "outlinewidth": 0,
              "ticks": ""
             }
            },
            "type": "scatterpolar"
           }
          ],
          "scatterpolargl": [
           {
            "marker": {
             "colorbar": {
              "outlinewidth": 0,
              "ticks": ""
             }
            },
            "type": "scatterpolargl"
           }
          ],
          "scatterternary": [
           {
            "marker": {
             "colorbar": {
              "outlinewidth": 0,
              "ticks": ""
             }
            },
            "type": "scatterternary"
           }
          ],
          "surface": [
           {
            "colorbar": {
             "outlinewidth": 0,
             "ticks": ""
            },
            "colorscale": [
             [
              0,
              "#0d0887"
             ],
             [
              0.1111111111111111,
              "#46039f"
             ],
             [
              0.2222222222222222,
              "#7201a8"
             ],
             [
              0.3333333333333333,
              "#9c179e"
             ],
             [
              0.4444444444444444,
              "#bd3786"
             ],
             [
              0.5555555555555556,
              "#d8576b"
             ],
             [
              0.6666666666666666,
              "#ed7953"
             ],
             [
              0.7777777777777778,
              "#fb9f3a"
             ],
             [
              0.8888888888888888,
              "#fdca26"
             ],
             [
              1,
              "#f0f921"
             ]
            ],
            "type": "surface"
           }
          ],
          "table": [
           {
            "cells": {
             "fill": {
              "color": "#EBF0F8"
             },
             "line": {
              "color": "white"
             }
            },
            "header": {
             "fill": {
              "color": "#C8D4E3"
             },
             "line": {
              "color": "white"
             }
            },
            "type": "table"
           }
          ]
         },
         "layout": {
          "annotationdefaults": {
           "arrowcolor": "#2a3f5f",
           "arrowhead": 0,
           "arrowwidth": 1
          },
          "autotypenumbers": "strict",
          "coloraxis": {
           "colorbar": {
            "outlinewidth": 0,
            "ticks": ""
           }
          },
          "colorscale": {
           "diverging": [
            [
             0,
             "#8e0152"
            ],
            [
             0.1,
             "#c51b7d"
            ],
            [
             0.2,
             "#de77ae"
            ],
            [
             0.3,
             "#f1b6da"
            ],
            [
             0.4,
             "#fde0ef"
            ],
            [
             0.5,
             "#f7f7f7"
            ],
            [
             0.6,
             "#e6f5d0"
            ],
            [
             0.7,
             "#b8e186"
            ],
            [
             0.8,
             "#7fbc41"
            ],
            [
             0.9,
             "#4d9221"
            ],
            [
             1,
             "#276419"
            ]
           ],
           "sequential": [
            [
             0,
             "#0d0887"
            ],
            [
             0.1111111111111111,
             "#46039f"
            ],
            [
             0.2222222222222222,
             "#7201a8"
            ],
            [
             0.3333333333333333,
             "#9c179e"
            ],
            [
             0.4444444444444444,
             "#bd3786"
            ],
            [
             0.5555555555555556,
             "#d8576b"
            ],
            [
             0.6666666666666666,
             "#ed7953"
            ],
            [
             0.7777777777777778,
             "#fb9f3a"
            ],
            [
             0.8888888888888888,
             "#fdca26"
            ],
            [
             1,
             "#f0f921"
            ]
           ],
           "sequentialminus": [
            [
             0,
             "#0d0887"
            ],
            [
             0.1111111111111111,
             "#46039f"
            ],
            [
             0.2222222222222222,
             "#7201a8"
            ],
            [
             0.3333333333333333,
             "#9c179e"
            ],
            [
             0.4444444444444444,
             "#bd3786"
            ],
            [
             0.5555555555555556,
             "#d8576b"
            ],
            [
             0.6666666666666666,
             "#ed7953"
            ],
            [
             0.7777777777777778,
             "#fb9f3a"
            ],
            [
             0.8888888888888888,
             "#fdca26"
            ],
            [
             1,
             "#f0f921"
            ]
           ]
          },
          "colorway": [
           "#636efa",
           "#EF553B",
           "#00cc96",
           "#ab63fa",
           "#FFA15A",
           "#19d3f3",
           "#FF6692",
           "#B6E880",
           "#FF97FF",
           "#FECB52"
          ],
          "font": {
           "color": "#2a3f5f"
          },
          "geo": {
           "bgcolor": "white",
           "lakecolor": "white",
           "landcolor": "#E5ECF6",
           "showlakes": true,
           "showland": true,
           "subunitcolor": "white"
          },
          "hoverlabel": {
           "align": "left"
          },
          "hovermode": "closest",
          "mapbox": {
           "style": "light"
          },
          "paper_bgcolor": "white",
          "plot_bgcolor": "#E5ECF6",
          "polar": {
           "angularaxis": {
            "gridcolor": "white",
            "linecolor": "white",
            "ticks": ""
           },
           "bgcolor": "#E5ECF6",
           "radialaxis": {
            "gridcolor": "white",
            "linecolor": "white",
            "ticks": ""
           }
          },
          "scene": {
           "xaxis": {
            "backgroundcolor": "#E5ECF6",
            "gridcolor": "white",
            "gridwidth": 2,
            "linecolor": "white",
            "showbackground": true,
            "ticks": "",
            "zerolinecolor": "white"
           },
           "yaxis": {
            "backgroundcolor": "#E5ECF6",
            "gridcolor": "white",
            "gridwidth": 2,
            "linecolor": "white",
            "showbackground": true,
            "ticks": "",
            "zerolinecolor": "white"
           },
           "zaxis": {
            "backgroundcolor": "#E5ECF6",
            "gridcolor": "white",
            "gridwidth": 2,
            "linecolor": "white",
            "showbackground": true,
            "ticks": "",
            "zerolinecolor": "white"
           }
          },
          "shapedefaults": {
           "line": {
            "color": "#2a3f5f"
           }
          },
          "ternary": {
           "aaxis": {
            "gridcolor": "white",
            "linecolor": "white",
            "ticks": ""
           },
           "baxis": {
            "gridcolor": "white",
            "linecolor": "white",
            "ticks": ""
           },
           "bgcolor": "#E5ECF6",
           "caxis": {
            "gridcolor": "white",
            "linecolor": "white",
            "ticks": ""
           }
          },
          "title": {
           "x": 0.05
          },
          "xaxis": {
           "automargin": true,
           "gridcolor": "white",
           "linecolor": "white",
           "ticks": "",
           "title": {
            "standoff": 15
           },
           "zerolinecolor": "white",
           "zerolinewidth": 2
          },
          "yaxis": {
           "automargin": true,
           "gridcolor": "white",
           "linecolor": "white",
           "ticks": "",
           "title": {
            "standoff": 15
           },
           "zerolinecolor": "white",
           "zerolinewidth": 2
          }
         }
        },
        "title": {
         "text": "Trayectoria 3D Interactiva"
        }
       }
      }
     },
     "metadata": {},
     "output_type": "display_data"
    }
   ],
   "source": [
    "# Crear los tamaños de los marcadores, haciendo el último punto más grande\n",
    "marker_sizes = [5] * (len(df) - 1) + [10]  # Último punto con tamaño 10\n",
    "\n",
    "# Crear el gráfico 3D interactivo\n",
    "fig = go.Figure()\n",
    "\n",
    "# Añadir la trayectoria con todos los puntos menos el último\n",
    "fig.add_trace(go.Scatter3d(\n",
    "    x=df['x'][:-1],\n",
    "    y=df['y'][:-1],\n",
    "    z=df['z'][:-1],\n",
    "    mode='lines+markers',\n",
    "    marker=dict(size=2),\n",
    "    line=dict(width=2),\n",
    "    name = 'Trayectoria'\n",
    "))\n",
    "\n",
    "# Añadir el último punto con un tamaño más grande\n",
    "fig.add_trace(go.Scatter3d(\n",
    "    x=[df['x'].iloc[-1]],\n",
    "    y=[df['y'].iloc[-1]],\n",
    "    z=[df['z'].iloc[-1]],\n",
    "    mode='markers',\n",
    "    marker=dict(size=5, color='red'),  # Color opcional para diferenciar el último punto\n",
    "    name='Flor'\n",
    "))\n",
    "\n",
    "# Configurar el diseño del gráfico\n",
    "fig.update_layout(\n",
    "    scene=dict(\n",
    "        xaxis_title='X',\n",
    "        yaxis_title='Y',\n",
    "        zaxis_title='Z',\n",
    "        xaxis=dict(showticklabels=False, tickmode=\"linear\", dtick=50, range=[min(df['x']) - 10, max(df['x']) + 10], backgroundcolor=\"lightblue\", gridwidth=0.5),\n",
    "        yaxis=dict(showticklabels=False, tickmode=\"linear\", dtick=50, range=[min(df['y']) - 10, max(df['y']) + 10], backgroundcolor=\"lightblue\", gridwidth=0.5),\n",
    "        zaxis=dict(showticklabels=False, tickmode=\"linear\", dtick=50,  range=[min(df['z']) - 10, max(df['z']) + 10], backgroundcolor=\"lightblue\", gridwidth=0.5)\n",
    "    ),\n",
    "    title='Trayectoria 3D Interactiva'\n",
    ")\n",
    "\n",
    "# Configurar la cámara para que salga cuadrado y alejado de los puntos\n",
    "camera = dict(\n",
    "    eye=dict(x=1.5, y=1.5, z=1.5)\n",
    ")\n",
    "\n",
    "fig.update_layout(scene_camera=camera) \n",
    "\n",
    "# Mostrar el gráfico\n",
    "fig.show()"
   ]
  },
  {
   "cell_type": "markdown",
   "metadata": {},
   "source": [
    "### Curvatura"
   ]
  },
  {
   "cell_type": "code",
   "execution_count": 47,
   "metadata": {},
   "outputs": [
    {
     "name": "stdout",
     "output_type": "stream",
     "text": [
      "Desviación Estándar de la Curvatura: 0.02257447205537303\n",
      "        x      y    z  curvatura\n",
      "0   412.0  315.0  370   0.000033\n",
      "1   377.0  258.0  295   0.000376\n",
      "2   342.0  201.0  221   0.000982\n",
      "3   300.0  160.0  163   0.000891\n",
      "4   273.0  131.0   82   0.001476\n",
      "5   257.0  111.0   73   0.018159\n",
      "6   265.0  103.0   45   0.074266\n",
      "7   269.0  110.0   50   0.043345\n",
      "8   267.5  111.0   67   0.015797\n",
      "9   266.0  112.0   75   0.033230\n",
      "10  268.0  109.0   87   0.026923\n",
      "11  263.0  101.0   95   0.058601\n",
      "12  263.0   99.0   95   0.012665\n",
      "13  260.0   94.0   99   0.014142\n"
     ]
    }
   ],
   "source": [
    "# Convertir a arrays de numpy\n",
    "x = np.array(df['x'])\n",
    "y = np.array(df['y'])\n",
    "z = np.array(df['z'])\n",
    "\n",
    "# Calcular las derivadas usando diferencias finitas\n",
    "dx = np.gradient(x)\n",
    "dy = np.gradient(y)\n",
    "dz = np.gradient(z)\n",
    "\n",
    "ddx = np.gradient(dx)\n",
    "ddy = np.gradient(dy)\n",
    "ddz = np.gradient(dz)\n",
    "\n",
    "# Calcular la curvatura\n",
    "curvatura = np.zeros(len(x))\n",
    "\n",
    "for i in range(len(x)):\n",
    "    # Vectores de la primera y segunda derivada\n",
    "    r_prime = np.array([dx[i], dy[i], dz[i]])\n",
    "    r_double_prime = np.array([ddx[i], ddy[i], ddz[i]])\n",
    "    \n",
    "    # Producto cruzado de r' y r''\n",
    "    cross_product = np.cross(r_prime, r_double_prime)\n",
    "    \n",
    "    # Magnitud de r'\n",
    "    norm_r_prime = np.linalg.norm(r_prime)\n",
    "    \n",
    "    # Curvatura\n",
    "    curvatura[i] = np.linalg.norm(cross_product) / (norm_r_prime**3)\n",
    "\n",
    "# Añadir la curvatura al DataFrame\n",
    "df['curvatura'] = curvatura\n",
    "\n",
    "# Desviación Estánda de la curvatura\n",
    "std_curvatura = np.std(curvatura)\n",
    "\n",
    "# Mostrar la desviación estándar de la curvatura\n",
    "print('Desviación Estándar de la Curvatura:', std_curvatura)\n",
    "\n",
    "\n",
    "# Mostrar el DataFrame\n",
    "print(df.head(20))"
   ]
  },
  {
   "cell_type": "markdown",
   "metadata": {},
   "source": [
    "### Animación"
   ]
  },
  {
   "cell_type": "code",
   "execution_count": 123,
   "metadata": {},
   "outputs": [
    {
     "data": {
      "application/vnd.plotly.v1+json": {
       "config": {
        "plotlyServerURL": "https://plot.ly"
       },
       "data": [
        {
         "type": "scatter3d"
        },
        {
         "marker": {
          "color": "red",
          "size": 5
         },
         "mode": "markers",
         "name": "Flor",
         "type": "scatter3d",
         "x": [
          260
         ],
         "y": [
          94
         ],
         "z": [
          99
         ]
        },
        {
         "line": {
          "width": 0.1
         },
         "marker": {
          "color": "blue",
          "size": 0.1
         },
         "mode": "lines+markers",
         "name": "Trayectoria",
         "type": "scatter3d",
         "x": [
          412,
          377,
          342,
          300,
          273,
          257,
          265,
          269,
          267.5,
          266,
          268,
          263,
          263
         ],
         "y": [
          315,
          258,
          201,
          160,
          131,
          111,
          103,
          110,
          111,
          112,
          109,
          101,
          99
         ],
         "z": [
          370,
          295,
          221,
          163,
          82,
          73,
          45,
          50,
          67,
          75,
          87,
          95,
          95
         ]
        }
       ],
       "frames": [
        {
         "data": [
          {
           "line": {
            "color": "black",
            "width": 4
           },
           "marker": {
            "color": "black",
            "size": [
             5
            ]
           },
           "mode": "lines+markers",
           "name": "Murciélago",
           "type": "scatter3d",
           "x": [
            412
           ],
           "y": [
            315
           ],
           "z": [
            370
           ]
          }
         ]
        },
        {
         "data": [
          {
           "line": {
            "color": "black",
            "width": 4
           },
           "marker": {
            "color": "black",
            "size": [
             5
            ]
           },
           "mode": "lines+markers",
           "name": "Murciélago",
           "type": "scatter3d",
           "x": [
            412,
            377
           ],
           "y": [
            315,
            258
           ],
           "z": [
            370,
            295
           ]
          }
         ]
        },
        {
         "data": [
          {
           "line": {
            "color": "black",
            "width": 4
           },
           "marker": {
            "color": "black",
            "size": [
             0,
             5
            ]
           },
           "mode": "lines+markers",
           "name": "Murciélago",
           "type": "scatter3d",
           "x": [
            412,
            377,
            342
           ],
           "y": [
            315,
            258,
            201
           ],
           "z": [
            370,
            295,
            221
           ]
          }
         ]
        },
        {
         "data": [
          {
           "line": {
            "color": "black",
            "width": 4
           },
           "marker": {
            "color": "black",
            "size": [
             0,
             0,
             5
            ]
           },
           "mode": "lines+markers",
           "name": "Murciélago",
           "type": "scatter3d",
           "x": [
            412,
            377,
            342,
            300
           ],
           "y": [
            315,
            258,
            201,
            160
           ],
           "z": [
            370,
            295,
            221,
            163
           ]
          }
         ]
        },
        {
         "data": [
          {
           "line": {
            "color": "black",
            "width": 4
           },
           "marker": {
            "color": "black",
            "size": [
             0,
             0,
             0,
             5
            ]
           },
           "mode": "lines+markers",
           "name": "Murciélago",
           "type": "scatter3d",
           "x": [
            412,
            377,
            342,
            300,
            273
           ],
           "y": [
            315,
            258,
            201,
            160,
            131
           ],
           "z": [
            370,
            295,
            221,
            163,
            82
           ]
          }
         ]
        },
        {
         "data": [
          {
           "line": {
            "color": "black",
            "width": 4
           },
           "marker": {
            "color": "black",
            "size": [
             0,
             0,
             0,
             0,
             5
            ]
           },
           "mode": "lines+markers",
           "name": "Murciélago",
           "type": "scatter3d",
           "x": [
            412,
            377,
            342,
            300,
            273,
            257
           ],
           "y": [
            315,
            258,
            201,
            160,
            131,
            111
           ],
           "z": [
            370,
            295,
            221,
            163,
            82,
            73
           ]
          }
         ]
        },
        {
         "data": [
          {
           "line": {
            "color": "black",
            "width": 4
           },
           "marker": {
            "color": "black",
            "size": [
             0,
             0,
             0,
             0,
             0,
             5
            ]
           },
           "mode": "lines+markers",
           "name": "Murciélago",
           "type": "scatter3d",
           "x": [
            412,
            377,
            342,
            300,
            273,
            257,
            265
           ],
           "y": [
            315,
            258,
            201,
            160,
            131,
            111,
            103
           ],
           "z": [
            370,
            295,
            221,
            163,
            82,
            73,
            45
           ]
          }
         ]
        },
        {
         "data": [
          {
           "line": {
            "color": "black",
            "width": 4
           },
           "marker": {
            "color": "black",
            "size": [
             0,
             0,
             0,
             0,
             0,
             0,
             5
            ]
           },
           "mode": "lines+markers",
           "name": "Murciélago",
           "type": "scatter3d",
           "x": [
            412,
            377,
            342,
            300,
            273,
            257,
            265,
            269
           ],
           "y": [
            315,
            258,
            201,
            160,
            131,
            111,
            103,
            110
           ],
           "z": [
            370,
            295,
            221,
            163,
            82,
            73,
            45,
            50
           ]
          }
         ]
        },
        {
         "data": [
          {
           "line": {
            "color": "black",
            "width": 4
           },
           "marker": {
            "color": "black",
            "size": [
             0,
             0,
             0,
             0,
             0,
             0,
             0,
             5
            ]
           },
           "mode": "lines+markers",
           "name": "Murciélago",
           "type": "scatter3d",
           "x": [
            412,
            377,
            342,
            300,
            273,
            257,
            265,
            269,
            267.5
           ],
           "y": [
            315,
            258,
            201,
            160,
            131,
            111,
            103,
            110,
            111
           ],
           "z": [
            370,
            295,
            221,
            163,
            82,
            73,
            45,
            50,
            67
           ]
          }
         ]
        },
        {
         "data": [
          {
           "line": {
            "color": "black",
            "width": 4
           },
           "marker": {
            "color": "black",
            "size": [
             0,
             0,
             0,
             0,
             0,
             0,
             0,
             0,
             5
            ]
           },
           "mode": "lines+markers",
           "name": "Murciélago",
           "type": "scatter3d",
           "x": [
            412,
            377,
            342,
            300,
            273,
            257,
            265,
            269,
            267.5,
            266
           ],
           "y": [
            315,
            258,
            201,
            160,
            131,
            111,
            103,
            110,
            111,
            112
           ],
           "z": [
            370,
            295,
            221,
            163,
            82,
            73,
            45,
            50,
            67,
            75
           ]
          }
         ]
        },
        {
         "data": [
          {
           "line": {
            "color": "black",
            "width": 4
           },
           "marker": {
            "color": "black",
            "size": [
             0,
             0,
             0,
             0,
             0,
             0,
             0,
             0,
             0,
             5
            ]
           },
           "mode": "lines+markers",
           "name": "Murciélago",
           "type": "scatter3d",
           "x": [
            412,
            377,
            342,
            300,
            273,
            257,
            265,
            269,
            267.5,
            266,
            268
           ],
           "y": [
            315,
            258,
            201,
            160,
            131,
            111,
            103,
            110,
            111,
            112,
            109
           ],
           "z": [
            370,
            295,
            221,
            163,
            82,
            73,
            45,
            50,
            67,
            75,
            87
           ]
          }
         ]
        },
        {
         "data": [
          {
           "line": {
            "color": "black",
            "width": 4
           },
           "marker": {
            "color": "black",
            "size": [
             0,
             0,
             0,
             0,
             0,
             0,
             0,
             0,
             0,
             0,
             5
            ]
           },
           "mode": "lines+markers",
           "name": "Murciélago",
           "type": "scatter3d",
           "x": [
            412,
            377,
            342,
            300,
            273,
            257,
            265,
            269,
            267.5,
            266,
            268,
            263
           ],
           "y": [
            315,
            258,
            201,
            160,
            131,
            111,
            103,
            110,
            111,
            112,
            109,
            101
           ],
           "z": [
            370,
            295,
            221,
            163,
            82,
            73,
            45,
            50,
            67,
            75,
            87,
            95
           ]
          }
         ]
        },
        {
         "data": [
          {
           "line": {
            "color": "black",
            "width": 4
           },
           "marker": {
            "color": "black",
            "size": [
             0,
             0,
             0,
             0,
             0,
             0,
             0,
             0,
             0,
             0,
             0,
             5
            ]
           },
           "mode": "lines+markers",
           "name": "Murciélago",
           "type": "scatter3d",
           "x": [
            412,
            377,
            342,
            300,
            273,
            257,
            265,
            269,
            267.5,
            266,
            268,
            263,
            263
           ],
           "y": [
            315,
            258,
            201,
            160,
            131,
            111,
            103,
            110,
            111,
            112,
            109,
            101,
            99
           ],
           "z": [
            370,
            295,
            221,
            163,
            82,
            73,
            45,
            50,
            67,
            75,
            87,
            95,
            95
           ]
          }
         ]
        },
        {
         "data": [
          {
           "line": {
            "color": "black",
            "width": 4
           },
           "marker": {
            "color": "black",
            "size": [
             0,
             0,
             0,
             0,
             0,
             0,
             0,
             0,
             0,
             0,
             0,
             0,
             5
            ]
           },
           "mode": "lines+markers",
           "name": "Murciélago",
           "type": "scatter3d",
           "x": [
            412,
            377,
            342,
            300,
            273,
            257,
            265,
            269,
            267.5,
            266,
            268,
            263,
            263,
            260
           ],
           "y": [
            315,
            258,
            201,
            160,
            131,
            111,
            103,
            110,
            111,
            112,
            109,
            101,
            99,
            94
           ],
           "z": [
            370,
            295,
            221,
            163,
            82,
            73,
            45,
            50,
            67,
            75,
            87,
            95,
            95,
            99
           ]
          }
         ]
        }
       ],
       "layout": {
        "scene": {
         "xaxis": {
          "backgroundcolor": "lightblue",
          "dtick": 50,
          "gridwidth": 0.5,
          "range": [
           242,
           427
          ],
          "showticklabels": false,
          "tickmode": "linear",
          "title": {
           "text": "X"
          }
         },
         "yaxis": {
          "backgroundcolor": "lightblue",
          "dtick": 50,
          "gridwidth": 0.5,
          "range": [
           79,
           330
          ],
          "showticklabels": false,
          "tickmode": "linear",
          "title": {
           "text": "Y"
          }
         },
         "zaxis": {
          "backgroundcolor": "lightblue",
          "dtick": 50,
          "gridwidth": 0.5,
          "range": [
           30,
           385
          ],
          "showticklabels": false,
          "tickmode": "linear",
          "title": {
           "text": "Z"
          }
         }
        },
        "template": {
         "data": {
          "bar": [
           {
            "error_x": {
             "color": "#2a3f5f"
            },
            "error_y": {
             "color": "#2a3f5f"
            },
            "marker": {
             "line": {
              "color": "#E5ECF6",
              "width": 0.5
             },
             "pattern": {
              "fillmode": "overlay",
              "size": 10,
              "solidity": 0.2
             }
            },
            "type": "bar"
           }
          ],
          "barpolar": [
           {
            "marker": {
             "line": {
              "color": "#E5ECF6",
              "width": 0.5
             },
             "pattern": {
              "fillmode": "overlay",
              "size": 10,
              "solidity": 0.2
             }
            },
            "type": "barpolar"
           }
          ],
          "carpet": [
           {
            "aaxis": {
             "endlinecolor": "#2a3f5f",
             "gridcolor": "white",
             "linecolor": "white",
             "minorgridcolor": "white",
             "startlinecolor": "#2a3f5f"
            },
            "baxis": {
             "endlinecolor": "#2a3f5f",
             "gridcolor": "white",
             "linecolor": "white",
             "minorgridcolor": "white",
             "startlinecolor": "#2a3f5f"
            },
            "type": "carpet"
           }
          ],
          "choropleth": [
           {
            "colorbar": {
             "outlinewidth": 0,
             "ticks": ""
            },
            "type": "choropleth"
           }
          ],
          "contour": [
           {
            "colorbar": {
             "outlinewidth": 0,
             "ticks": ""
            },
            "colorscale": [
             [
              0,
              "#0d0887"
             ],
             [
              0.1111111111111111,
              "#46039f"
             ],
             [
              0.2222222222222222,
              "#7201a8"
             ],
             [
              0.3333333333333333,
              "#9c179e"
             ],
             [
              0.4444444444444444,
              "#bd3786"
             ],
             [
              0.5555555555555556,
              "#d8576b"
             ],
             [
              0.6666666666666666,
              "#ed7953"
             ],
             [
              0.7777777777777778,
              "#fb9f3a"
             ],
             [
              0.8888888888888888,
              "#fdca26"
             ],
             [
              1,
              "#f0f921"
             ]
            ],
            "type": "contour"
           }
          ],
          "contourcarpet": [
           {
            "colorbar": {
             "outlinewidth": 0,
             "ticks": ""
            },
            "type": "contourcarpet"
           }
          ],
          "heatmap": [
           {
            "colorbar": {
             "outlinewidth": 0,
             "ticks": ""
            },
            "colorscale": [
             [
              0,
              "#0d0887"
             ],
             [
              0.1111111111111111,
              "#46039f"
             ],
             [
              0.2222222222222222,
              "#7201a8"
             ],
             [
              0.3333333333333333,
              "#9c179e"
             ],
             [
              0.4444444444444444,
              "#bd3786"
             ],
             [
              0.5555555555555556,
              "#d8576b"
             ],
             [
              0.6666666666666666,
              "#ed7953"
             ],
             [
              0.7777777777777778,
              "#fb9f3a"
             ],
             [
              0.8888888888888888,
              "#fdca26"
             ],
             [
              1,
              "#f0f921"
             ]
            ],
            "type": "heatmap"
           }
          ],
          "heatmapgl": [
           {
            "colorbar": {
             "outlinewidth": 0,
             "ticks": ""
            },
            "colorscale": [
             [
              0,
              "#0d0887"
             ],
             [
              0.1111111111111111,
              "#46039f"
             ],
             [
              0.2222222222222222,
              "#7201a8"
             ],
             [
              0.3333333333333333,
              "#9c179e"
             ],
             [
              0.4444444444444444,
              "#bd3786"
             ],
             [
              0.5555555555555556,
              "#d8576b"
             ],
             [
              0.6666666666666666,
              "#ed7953"
             ],
             [
              0.7777777777777778,
              "#fb9f3a"
             ],
             [
              0.8888888888888888,
              "#fdca26"
             ],
             [
              1,
              "#f0f921"
             ]
            ],
            "type": "heatmapgl"
           }
          ],
          "histogram": [
           {
            "marker": {
             "pattern": {
              "fillmode": "overlay",
              "size": 10,
              "solidity": 0.2
             }
            },
            "type": "histogram"
           }
          ],
          "histogram2d": [
           {
            "colorbar": {
             "outlinewidth": 0,
             "ticks": ""
            },
            "colorscale": [
             [
              0,
              "#0d0887"
             ],
             [
              0.1111111111111111,
              "#46039f"
             ],
             [
              0.2222222222222222,
              "#7201a8"
             ],
             [
              0.3333333333333333,
              "#9c179e"
             ],
             [
              0.4444444444444444,
              "#bd3786"
             ],
             [
              0.5555555555555556,
              "#d8576b"
             ],
             [
              0.6666666666666666,
              "#ed7953"
             ],
             [
              0.7777777777777778,
              "#fb9f3a"
             ],
             [
              0.8888888888888888,
              "#fdca26"
             ],
             [
              1,
              "#f0f921"
             ]
            ],
            "type": "histogram2d"
           }
          ],
          "histogram2dcontour": [
           {
            "colorbar": {
             "outlinewidth": 0,
             "ticks": ""
            },
            "colorscale": [
             [
              0,
              "#0d0887"
             ],
             [
              0.1111111111111111,
              "#46039f"
             ],
             [
              0.2222222222222222,
              "#7201a8"
             ],
             [
              0.3333333333333333,
              "#9c179e"
             ],
             [
              0.4444444444444444,
              "#bd3786"
             ],
             [
              0.5555555555555556,
              "#d8576b"
             ],
             [
              0.6666666666666666,
              "#ed7953"
             ],
             [
              0.7777777777777778,
              "#fb9f3a"
             ],
             [
              0.8888888888888888,
              "#fdca26"
             ],
             [
              1,
              "#f0f921"
             ]
            ],
            "type": "histogram2dcontour"
           }
          ],
          "mesh3d": [
           {
            "colorbar": {
             "outlinewidth": 0,
             "ticks": ""
            },
            "type": "mesh3d"
           }
          ],
          "parcoords": [
           {
            "line": {
             "colorbar": {
              "outlinewidth": 0,
              "ticks": ""
             }
            },
            "type": "parcoords"
           }
          ],
          "pie": [
           {
            "automargin": true,
            "type": "pie"
           }
          ],
          "scatter": [
           {
            "fillpattern": {
             "fillmode": "overlay",
             "size": 10,
             "solidity": 0.2
            },
            "type": "scatter"
           }
          ],
          "scatter3d": [
           {
            "line": {
             "colorbar": {
              "outlinewidth": 0,
              "ticks": ""
             }
            },
            "marker": {
             "colorbar": {
              "outlinewidth": 0,
              "ticks": ""
             }
            },
            "type": "scatter3d"
           }
          ],
          "scattercarpet": [
           {
            "marker": {
             "colorbar": {
              "outlinewidth": 0,
              "ticks": ""
             }
            },
            "type": "scattercarpet"
           }
          ],
          "scattergeo": [
           {
            "marker": {
             "colorbar": {
              "outlinewidth": 0,
              "ticks": ""
             }
            },
            "type": "scattergeo"
           }
          ],
          "scattergl": [
           {
            "marker": {
             "colorbar": {
              "outlinewidth": 0,
              "ticks": ""
             }
            },
            "type": "scattergl"
           }
          ],
          "scattermapbox": [
           {
            "marker": {
             "colorbar": {
              "outlinewidth": 0,
              "ticks": ""
             }
            },
            "type": "scattermapbox"
           }
          ],
          "scatterpolar": [
           {
            "marker": {
             "colorbar": {
              "outlinewidth": 0,
              "ticks": ""
             }
            },
            "type": "scatterpolar"
           }
          ],
          "scatterpolargl": [
           {
            "marker": {
             "colorbar": {
              "outlinewidth": 0,
              "ticks": ""
             }
            },
            "type": "scatterpolargl"
           }
          ],
          "scatterternary": [
           {
            "marker": {
             "colorbar": {
              "outlinewidth": 0,
              "ticks": ""
             }
            },
            "type": "scatterternary"
           }
          ],
          "surface": [
           {
            "colorbar": {
             "outlinewidth": 0,
             "ticks": ""
            },
            "colorscale": [
             [
              0,
              "#0d0887"
             ],
             [
              0.1111111111111111,
              "#46039f"
             ],
             [
              0.2222222222222222,
              "#7201a8"
             ],
             [
              0.3333333333333333,
              "#9c179e"
             ],
             [
              0.4444444444444444,
              "#bd3786"
             ],
             [
              0.5555555555555556,
              "#d8576b"
             ],
             [
              0.6666666666666666,
              "#ed7953"
             ],
             [
              0.7777777777777778,
              "#fb9f3a"
             ],
             [
              0.8888888888888888,
              "#fdca26"
             ],
             [
              1,
              "#f0f921"
             ]
            ],
            "type": "surface"
           }
          ],
          "table": [
           {
            "cells": {
             "fill": {
              "color": "#EBF0F8"
             },
             "line": {
              "color": "white"
             }
            },
            "header": {
             "fill": {
              "color": "#C8D4E3"
             },
             "line": {
              "color": "white"
             }
            },
            "type": "table"
           }
          ]
         },
         "layout": {
          "annotationdefaults": {
           "arrowcolor": "#2a3f5f",
           "arrowhead": 0,
           "arrowwidth": 1
          },
          "autotypenumbers": "strict",
          "coloraxis": {
           "colorbar": {
            "outlinewidth": 0,
            "ticks": ""
           }
          },
          "colorscale": {
           "diverging": [
            [
             0,
             "#8e0152"
            ],
            [
             0.1,
             "#c51b7d"
            ],
            [
             0.2,
             "#de77ae"
            ],
            [
             0.3,
             "#f1b6da"
            ],
            [
             0.4,
             "#fde0ef"
            ],
            [
             0.5,
             "#f7f7f7"
            ],
            [
             0.6,
             "#e6f5d0"
            ],
            [
             0.7,
             "#b8e186"
            ],
            [
             0.8,
             "#7fbc41"
            ],
            [
             0.9,
             "#4d9221"
            ],
            [
             1,
             "#276419"
            ]
           ],
           "sequential": [
            [
             0,
             "#0d0887"
            ],
            [
             0.1111111111111111,
             "#46039f"
            ],
            [
             0.2222222222222222,
             "#7201a8"
            ],
            [
             0.3333333333333333,
             "#9c179e"
            ],
            [
             0.4444444444444444,
             "#bd3786"
            ],
            [
             0.5555555555555556,
             "#d8576b"
            ],
            [
             0.6666666666666666,
             "#ed7953"
            ],
            [
             0.7777777777777778,
             "#fb9f3a"
            ],
            [
             0.8888888888888888,
             "#fdca26"
            ],
            [
             1,
             "#f0f921"
            ]
           ],
           "sequentialminus": [
            [
             0,
             "#0d0887"
            ],
            [
             0.1111111111111111,
             "#46039f"
            ],
            [
             0.2222222222222222,
             "#7201a8"
            ],
            [
             0.3333333333333333,
             "#9c179e"
            ],
            [
             0.4444444444444444,
             "#bd3786"
            ],
            [
             0.5555555555555556,
             "#d8576b"
            ],
            [
             0.6666666666666666,
             "#ed7953"
            ],
            [
             0.7777777777777778,
             "#fb9f3a"
            ],
            [
             0.8888888888888888,
             "#fdca26"
            ],
            [
             1,
             "#f0f921"
            ]
           ]
          },
          "colorway": [
           "#636efa",
           "#EF553B",
           "#00cc96",
           "#ab63fa",
           "#FFA15A",
           "#19d3f3",
           "#FF6692",
           "#B6E880",
           "#FF97FF",
           "#FECB52"
          ],
          "font": {
           "color": "#2a3f5f"
          },
          "geo": {
           "bgcolor": "white",
           "lakecolor": "white",
           "landcolor": "#E5ECF6",
           "showlakes": true,
           "showland": true,
           "subunitcolor": "white"
          },
          "hoverlabel": {
           "align": "left"
          },
          "hovermode": "closest",
          "mapbox": {
           "style": "light"
          },
          "paper_bgcolor": "white",
          "plot_bgcolor": "#E5ECF6",
          "polar": {
           "angularaxis": {
            "gridcolor": "white",
            "linecolor": "white",
            "ticks": ""
           },
           "bgcolor": "#E5ECF6",
           "radialaxis": {
            "gridcolor": "white",
            "linecolor": "white",
            "ticks": ""
           }
          },
          "scene": {
           "xaxis": {
            "backgroundcolor": "#E5ECF6",
            "gridcolor": "white",
            "gridwidth": 2,
            "linecolor": "white",
            "showbackground": true,
            "ticks": "",
            "zerolinecolor": "white"
           },
           "yaxis": {
            "backgroundcolor": "#E5ECF6",
            "gridcolor": "white",
            "gridwidth": 2,
            "linecolor": "white",
            "showbackground": true,
            "ticks": "",
            "zerolinecolor": "white"
           },
           "zaxis": {
            "backgroundcolor": "#E5ECF6",
            "gridcolor": "white",
            "gridwidth": 2,
            "linecolor": "white",
            "showbackground": true,
            "ticks": "",
            "zerolinecolor": "white"
           }
          },
          "shapedefaults": {
           "line": {
            "color": "#2a3f5f"
           }
          },
          "ternary": {
           "aaxis": {
            "gridcolor": "white",
            "linecolor": "white",
            "ticks": ""
           },
           "baxis": {
            "gridcolor": "white",
            "linecolor": "white",
            "ticks": ""
           },
           "bgcolor": "#E5ECF6",
           "caxis": {
            "gridcolor": "white",
            "linecolor": "white",
            "ticks": ""
           }
          },
          "title": {
           "x": 0.05
          },
          "xaxis": {
           "automargin": true,
           "gridcolor": "white",
           "linecolor": "white",
           "ticks": "",
           "title": {
            "standoff": 15
           },
           "zerolinecolor": "white",
           "zerolinewidth": 2
          },
          "yaxis": {
           "automargin": true,
           "gridcolor": "white",
           "linecolor": "white",
           "ticks": "",
           "title": {
            "standoff": 15
           },
           "zerolinecolor": "white",
           "zerolinewidth": 2
          }
         }
        },
        "title": {
         "text": "Trayectoria 3D Interactiva"
        },
        "updatemenus": [
         {
          "buttons": [
           {
            "args": [
             null,
             {
              "frame": {
               "duration": 200,
               "redraw": true
              }
             }
            ],
            "label": "Play",
            "method": "animate"
           }
          ],
          "type": "buttons",
          "x": 0.8,
          "xanchor": "left",
          "y": 1.05,
          "yanchor": "bottom"
         }
        ]
       }
      }
     },
     "metadata": {},
     "output_type": "display_data"
    }
   ],
   "source": [
    "# Crear el gráfico 3D interactivo\n",
    "fig = go.Figure(\n",
    "    data=[\n",
    "        go.Scatter3d(),\n",
    "        go.Scatter3d(\n",
    "            x=[df['x'].iloc[-1]],\n",
    "            y=[df['y'].iloc[-1]],\n",
    "            z=[df['z'].iloc[-1]],\n",
    "            mode='markers',\n",
    "            marker=dict(size=5, color='red'),  # Color opcional para diferenciar el último punto\n",
    "            name='Flor'\n",
    "        ),\n",
    "        go.Scatter3d(\n",
    "            x=df['x'][:-1],\n",
    "            y=df['y'][:-1],\n",
    "            z=df['z'][:-1],\n",
    "            mode='lines+markers',\n",
    "            marker=dict(size=0.1, color='blue'),\n",
    "            line=dict(width=0.1),\n",
    "            name = 'Trayectoria'\n",
    "        )\n",
    "    ]\n",
    ")\n",
    "\n",
    "\n",
    "# Agrego los frames\n",
    "fig.frames = [go.Frame(\n",
    "    data=[\n",
    "        go.Scatter3d(\n",
    "            x=df['x'][:k+1],\n",
    "            y=df['y'][:k+1],\n",
    "            z=df['z'][:k+1],\n",
    "            mode='lines+markers',\n",
    "            marker=dict(size=[0] * (k - 1) + [5], color='black'),\n",
    "            line=dict(width=4, color='black'),\n",
    "            name = 'Murciélago'\n",
    "        )\n",
    "    ]\n",
    ") for k in range(len(df))]\n",
    "\n",
    "# Configurar el diseño del gráfico\n",
    "fig.update_layout(\n",
    "    scene=dict(\n",
    "        xaxis_title='X',\n",
    "        yaxis_title='Y',\n",
    "        zaxis_title='Z',\n",
    "        xaxis=dict(showticklabels=False, tickmode=\"linear\", dtick=50, range=[min(df['x']) - 15, max(df['x']) + 15], backgroundcolor=\"lightblue\", gridwidth=0.5),\n",
    "        yaxis=dict(showticklabels=False, tickmode=\"linear\", dtick=50, range=[min(df['y']) - 15, max(df['y']) + 15], backgroundcolor=\"lightblue\", gridwidth=0.5),\n",
    "        zaxis=dict(showticklabels=False, tickmode=\"linear\", dtick=50,  range=[min(df['z']) - 15, max(df['z']) + 15], backgroundcolor=\"lightblue\", gridwidth=0.5)\n",
    "    ),\n",
    "    title='Trayectoria 3D Interactiva',\n",
    "    updatemenus=[dict(\n",
    "            type=\"buttons\", \n",
    "            y=1.05, x=0.8, xanchor='left', yanchor='bottom',\n",
    "            buttons=[\n",
    "                dict(\n",
    "                    label='Play', method='animate',\n",
    "                    args=[None, dict(frame=dict(duration=200, redraw=True))]\n",
    "                )\n",
    "            ]\n",
    "    )],\n",
    ")\n",
    "\n",
    "\n",
    "# Mostrar el gráfico\n",
    "fig.show()"
   ]
  },
  {
   "cell_type": "code",
   "execution_count": null,
   "metadata": {},
   "outputs": [],
   "source": []
  }
 ],
 "metadata": {
  "kernelspec": {
   "display_name": "Python 3",
   "language": "python",
   "name": "python3"
  },
  "language_info": {
   "codemirror_mode": {
    "name": "ipython",
    "version": 3
   },
   "file_extension": ".py",
   "mimetype": "text/x-python",
   "name": "python",
   "nbconvert_exporter": "python",
   "pygments_lexer": "ipython3",
   "version": "3.11.3"
  }
 },
 "nbformat": 4,
 "nbformat_minor": 2
}
