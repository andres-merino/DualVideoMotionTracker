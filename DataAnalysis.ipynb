{
 "cells": [
  {
   "cell_type": "markdown",
   "metadata": {},
   "source": [
    "# DataAnalysis"
   ]
  },
  {
   "cell_type": "markdown",
   "metadata": {},
   "source": [
    "## Paquetes"
   ]
  },
  {
   "cell_type": "code",
   "execution_count": 60,
   "metadata": {},
   "outputs": [],
   "source": [
    "import pandas as pd\n",
    "import numpy as np\n",
    "\n",
    "import plotly.graph_objects as go"
   ]
  },
  {
   "cell_type": "markdown",
   "metadata": {},
   "source": [
    "## Funciones"
   ]
  },
  {
   "cell_type": "code",
   "execution_count": 61,
   "metadata": {},
   "outputs": [],
   "source": [
    "def extract_coordinates(point):\n",
    "    point = point.strip(\"()\")\n",
    "    x, y = point.split(\", \")\n",
    "    return int(x), int(y)\n",
    "\n",
    "def type_point(row):\n",
    "    # empty\n",
    "    if 0 in row.values:\n",
    "        return 0\n",
    "    # feeding\n",
    "    elif -2 in row.values:\n",
    "        return -2\n",
    "    else:\n",
    "        return 1"
   ]
  },
  {
   "cell_type": "markdown",
   "metadata": {},
   "source": [
    "## Código"
   ]
  },
  {
   "cell_type": "markdown",
   "metadata": {},
   "source": [
    "### Lectura de datos"
   ]
  },
  {
   "cell_type": "code",
   "execution_count": 62,
   "metadata": {},
   "outputs": [],
   "source": [
    "# Read the data from the excel file\n",
    "data = pd.read_excel('data/output_points_6_no.xlsx')\n",
    "\n",
    "# Split columns into two\n",
    "for column in data.columns:\n",
    "    data[column + ' (x)'] = data[column].apply(lambda p: extract_coordinates(p)[0])\n",
    "    data[column + ' (y)'] = data[column].apply(lambda p: extract_coordinates(p)[1])\n",
    "\n",
    "# Drop the original columns\n",
    "data = data.drop(columns=data.columns[:6])\n",
    "\n",
    "# Delete column Right Point 1 y 2 (x)\n",
    "data = data.drop(columns=['Right Point 1 (x)', 'Right Point 2 (x)'])\n",
    "\n",
    "# Add type column\n",
    "data['type'] = data.apply(type_point, axis=1)\n",
    "\n",
    "# Delete rows with type 0 values\n",
    "data = data[data['type'] != 0]\n",
    "data = data.reset_index(drop=True)\n",
    "\n",
    "# Change -1 values to nan\n",
    "data = data.replace(-1, np.nan)\n",
    "\n",
    "# Find first row with the value equal to -2\n",
    "feed_o = data.index[data['type'] == -2].tolist()[0]\n",
    "# Find last row with the value equal to -2\n",
    "feed_f = data.index[data['type'] == -2].tolist()[-1]\n",
    "\n",
    "# Separate feeding points\n",
    "data_bef = data.iloc[:feed_o]\n",
    "data_fee = data.iloc[feed_o:feed_f+1]\n",
    "data_aft = data.iloc[feed_f+1:]\n",
    "\n",
    "# Complete nan by interpolation\n",
    "data_bef = data_bef.interpolate()\n",
    "data_fee = data_fee.interpolate()\n",
    "data_aft = data_aft.interpolate()\n",
    "\n",
    "# Recalculate Right Point 1 (y) and Right Point 2 (y)\n",
    "data_bef['Left Point 1 (z)'] = 480 - data_bef['Right Point 1 (y)']\n",
    "data_bef['Left Point 2 (z)'] = 480 - data_bef['Right Point 2 (y)']\n",
    "data_fee['Left Point 1 (z)'] = 480 - data_fee['Right Point 1 (y)']\n",
    "data_fee['Left Point 2 (z)'] = 480 - data_fee['Right Point 2 (y)']\n",
    "data_aft['Left Point 1 (z)'] = 480 - data_aft['Right Point 1 (y)']\n",
    "data_aft['Left Point 2 (z)'] = 480 - data_aft['Right Point 2 (y)']"
   ]
  },
  {
   "cell_type": "code",
   "execution_count": 63,
   "metadata": {},
   "outputs": [
    {
     "name": "stdout",
     "output_type": "stream",
     "text": [
      "        x      y      z\n",
      "12  264.0  109.0  401.0\n",
      "13  265.0  107.0  400.0\n",
      "14  264.0   95.0  395.0\n",
      "15  257.0   92.0  384.0\n",
      "16  252.0   93.0  356.0\n"
     ]
    }
   ],
   "source": [
    "# Take Left Point 1 and 2 and Right Point a 1 and 2\n",
    "flower_bef = data_bef[['Left Point 1 (x)', 'Left Point 1 (y)', 'Left Point 1 (z)']]\n",
    "flower_fee = data_fee[['Left Point 1 (x)', 'Left Point 1 (y)', 'Left Point 1 (z)']]\n",
    "flower_aft = data_aft[['Left Point 1 (x)', 'Left Point 1 (y)', 'Left Point 1 (z)']]\n",
    "\n",
    "bat_bef = data_bef[['Left Point 2 (x)', 'Left Point 2 (y)', 'Left Point 2 (z)']]\n",
    "bat_fee = flower_fee\n",
    "bat_aft = data_aft[['Left Point 2 (x)', 'Left Point 2 (y)', 'Left Point 2 (z)']]\n",
    "\n",
    "# Rename columns\n",
    "flower_bef.columns = ['x', 'y', 'z']\n",
    "flower_fee.columns = ['x', 'y', 'z']\n",
    "flower_aft.columns = ['x', 'y', 'z']\n",
    "\n",
    "bat_bef.columns = ['x', 'y', 'z']\n",
    "bat_fee.columns = ['x', 'y', 'z']\n",
    "bat_aft.columns = ['x', 'y', 'z']\n",
    "\n",
    "# Show the data\n",
    "print(bat_fee.head())\n",
    "\n",
    "# Concatenate the data\n",
    "flower = pd.concat([flower_bef, flower_fee, flower_aft])\n",
    "bat = pd.concat([bat_bef, bat_fee, bat_aft])\n",
    "data = pd.concat([flower, bat])"
   ]
  },
  {
   "cell_type": "markdown",
   "metadata": {},
   "source": [
    "### Gráfico 3D"
   ]
  },
  {
   "cell_type": "code",
   "execution_count": 64,
   "metadata": {},
   "outputs": [],
   "source": [
    "df = flower_fee.copy()"
   ]
  },
  {
   "cell_type": "code",
   "execution_count": 65,
   "metadata": {},
   "outputs": [
    {
     "name": "stderr",
     "output_type": "stream",
     "text": [
      "C:\\Users\\aemer\\AppData\\Local\\Temp\\ipykernel_24256\\2118972295.py:6: FutureWarning:\n",
      "\n",
      "The behavior of `series[i:j]` with an integer-dtype index is deprecated. In a future version, this will be treated as *label-based* indexing, consistent with e.g. `series[i]` lookups. To retain the old behavior, use `series.iloc[i:j]`. To get the future behavior, use `series.loc[i:j]`.\n",
      "\n",
      "C:\\Users\\aemer\\AppData\\Local\\Temp\\ipykernel_24256\\2118972295.py:7: FutureWarning:\n",
      "\n",
      "The behavior of `series[i:j]` with an integer-dtype index is deprecated. In a future version, this will be treated as *label-based* indexing, consistent with e.g. `series[i]` lookups. To retain the old behavior, use `series.iloc[i:j]`. To get the future behavior, use `series.loc[i:j]`.\n",
      "\n",
      "C:\\Users\\aemer\\AppData\\Local\\Temp\\ipykernel_24256\\2118972295.py:8: FutureWarning:\n",
      "\n",
      "The behavior of `series[i:j]` with an integer-dtype index is deprecated. In a future version, this will be treated as *label-based* indexing, consistent with e.g. `series[i]` lookups. To retain the old behavior, use `series.iloc[i:j]`. To get the future behavior, use `series.loc[i:j]`.\n",
      "\n"
     ]
    },
    {
     "data": {
      "application/vnd.plotly.v1+json": {
       "config": {
        "plotlyServerURL": "https://plot.ly"
       },
       "data": [
        {
         "line": {
          "width": 2
         },
         "marker": {
          "size": 2
         },
         "mode": "lines+markers",
         "name": "Trayectoria",
         "type": "scatter3d",
         "x": [
          264,
          265,
          264,
          257,
          252,
          247,
          245,
          240,
          238,
          235,
          235,
          232,
          230,
          229,
          227,
          226,
          223,
          224,
          224,
          220,
          221,
          220,
          222,
          222,
          222,
          226,
          230
         ],
         "y": [
          109,
          107,
          95,
          92,
          93,
          106,
          115,
          124,
          127,
          128,
          128,
          124,
          121,
          126,
          128,
          127,
          122,
          122,
          126,
          126,
          123,
          122,
          127,
          130,
          129,
          129,
          129
         ],
         "z": [
          401,
          400,
          395,
          384,
          356,
          346,
          332,
          326,
          315,
          308,
          301,
          298,
          293,
          283,
          277,
          274,
          271,
          264,
          264,
          256,
          259,
          260,
          258,
          255,
          255,
          261,
          259
         ]
        }
       ],
       "layout": {
        "scene": {
         "camera": {
          "eye": {
           "x": 1.5,
           "y": 1.5,
           "z": 1.5
          }
         },
         "xaxis": {
          "backgroundcolor": "lightblue",
          "dtick": 50,
          "gridwidth": 0.5,
          "range": [
           210,
           275
          ],
          "showticklabels": false,
          "tickmode": "linear",
          "title": {
           "text": "X"
          }
         },
         "yaxis": {
          "backgroundcolor": "lightblue",
          "dtick": 50,
          "gridwidth": 0.5,
          "range": [
           82,
           147
          ],
          "showticklabels": false,
          "tickmode": "linear",
          "title": {
           "text": "Y"
          }
         },
         "zaxis": {
          "backgroundcolor": "lightblue",
          "dtick": 50,
          "gridwidth": 0.5,
          "range": [
           245,
           411
          ],
          "showticklabels": false,
          "tickmode": "linear",
          "title": {
           "text": "Z"
          }
         }
        },
        "template": {
         "data": {
          "bar": [
           {
            "error_x": {
             "color": "#2a3f5f"
            },
            "error_y": {
             "color": "#2a3f5f"
            },
            "marker": {
             "line": {
              "color": "#E5ECF6",
              "width": 0.5
             },
             "pattern": {
              "fillmode": "overlay",
              "size": 10,
              "solidity": 0.2
             }
            },
            "type": "bar"
           }
          ],
          "barpolar": [
           {
            "marker": {
             "line": {
              "color": "#E5ECF6",
              "width": 0.5
             },
             "pattern": {
              "fillmode": "overlay",
              "size": 10,
              "solidity": 0.2
             }
            },
            "type": "barpolar"
           }
          ],
          "carpet": [
           {
            "aaxis": {
             "endlinecolor": "#2a3f5f",
             "gridcolor": "white",
             "linecolor": "white",
             "minorgridcolor": "white",
             "startlinecolor": "#2a3f5f"
            },
            "baxis": {
             "endlinecolor": "#2a3f5f",
             "gridcolor": "white",
             "linecolor": "white",
             "minorgridcolor": "white",
             "startlinecolor": "#2a3f5f"
            },
            "type": "carpet"
           }
          ],
          "choropleth": [
           {
            "colorbar": {
             "outlinewidth": 0,
             "ticks": ""
            },
            "type": "choropleth"
           }
          ],
          "contour": [
           {
            "colorbar": {
             "outlinewidth": 0,
             "ticks": ""
            },
            "colorscale": [
             [
              0,
              "#0d0887"
             ],
             [
              0.1111111111111111,
              "#46039f"
             ],
             [
              0.2222222222222222,
              "#7201a8"
             ],
             [
              0.3333333333333333,
              "#9c179e"
             ],
             [
              0.4444444444444444,
              "#bd3786"
             ],
             [
              0.5555555555555556,
              "#d8576b"
             ],
             [
              0.6666666666666666,
              "#ed7953"
             ],
             [
              0.7777777777777778,
              "#fb9f3a"
             ],
             [
              0.8888888888888888,
              "#fdca26"
             ],
             [
              1,
              "#f0f921"
             ]
            ],
            "type": "contour"
           }
          ],
          "contourcarpet": [
           {
            "colorbar": {
             "outlinewidth": 0,
             "ticks": ""
            },
            "type": "contourcarpet"
           }
          ],
          "heatmap": [
           {
            "colorbar": {
             "outlinewidth": 0,
             "ticks": ""
            },
            "colorscale": [
             [
              0,
              "#0d0887"
             ],
             [
              0.1111111111111111,
              "#46039f"
             ],
             [
              0.2222222222222222,
              "#7201a8"
             ],
             [
              0.3333333333333333,
              "#9c179e"
             ],
             [
              0.4444444444444444,
              "#bd3786"
             ],
             [
              0.5555555555555556,
              "#d8576b"
             ],
             [
              0.6666666666666666,
              "#ed7953"
             ],
             [
              0.7777777777777778,
              "#fb9f3a"
             ],
             [
              0.8888888888888888,
              "#fdca26"
             ],
             [
              1,
              "#f0f921"
             ]
            ],
            "type": "heatmap"
           }
          ],
          "heatmapgl": [
           {
            "colorbar": {
             "outlinewidth": 0,
             "ticks": ""
            },
            "colorscale": [
             [
              0,
              "#0d0887"
             ],
             [
              0.1111111111111111,
              "#46039f"
             ],
             [
              0.2222222222222222,
              "#7201a8"
             ],
             [
              0.3333333333333333,
              "#9c179e"
             ],
             [
              0.4444444444444444,
              "#bd3786"
             ],
             [
              0.5555555555555556,
              "#d8576b"
             ],
             [
              0.6666666666666666,
              "#ed7953"
             ],
             [
              0.7777777777777778,
              "#fb9f3a"
             ],
             [
              0.8888888888888888,
              "#fdca26"
             ],
             [
              1,
              "#f0f921"
             ]
            ],
            "type": "heatmapgl"
           }
          ],
          "histogram": [
           {
            "marker": {
             "pattern": {
              "fillmode": "overlay",
              "size": 10,
              "solidity": 0.2
             }
            },
            "type": "histogram"
           }
          ],
          "histogram2d": [
           {
            "colorbar": {
             "outlinewidth": 0,
             "ticks": ""
            },
            "colorscale": [
             [
              0,
              "#0d0887"
             ],
             [
              0.1111111111111111,
              "#46039f"
             ],
             [
              0.2222222222222222,
              "#7201a8"
             ],
             [
              0.3333333333333333,
              "#9c179e"
             ],
             [
              0.4444444444444444,
              "#bd3786"
             ],
             [
              0.5555555555555556,
              "#d8576b"
             ],
             [
              0.6666666666666666,
              "#ed7953"
             ],
             [
              0.7777777777777778,
              "#fb9f3a"
             ],
             [
              0.8888888888888888,
              "#fdca26"
             ],
             [
              1,
              "#f0f921"
             ]
            ],
            "type": "histogram2d"
           }
          ],
          "histogram2dcontour": [
           {
            "colorbar": {
             "outlinewidth": 0,
             "ticks": ""
            },
            "colorscale": [
             [
              0,
              "#0d0887"
             ],
             [
              0.1111111111111111,
              "#46039f"
             ],
             [
              0.2222222222222222,
              "#7201a8"
             ],
             [
              0.3333333333333333,
              "#9c179e"
             ],
             [
              0.4444444444444444,
              "#bd3786"
             ],
             [
              0.5555555555555556,
              "#d8576b"
             ],
             [
              0.6666666666666666,
              "#ed7953"
             ],
             [
              0.7777777777777778,
              "#fb9f3a"
             ],
             [
              0.8888888888888888,
              "#fdca26"
             ],
             [
              1,
              "#f0f921"
             ]
            ],
            "type": "histogram2dcontour"
           }
          ],
          "mesh3d": [
           {
            "colorbar": {
             "outlinewidth": 0,
             "ticks": ""
            },
            "type": "mesh3d"
           }
          ],
          "parcoords": [
           {
            "line": {
             "colorbar": {
              "outlinewidth": 0,
              "ticks": ""
             }
            },
            "type": "parcoords"
           }
          ],
          "pie": [
           {
            "automargin": true,
            "type": "pie"
           }
          ],
          "scatter": [
           {
            "fillpattern": {
             "fillmode": "overlay",
             "size": 10,
             "solidity": 0.2
            },
            "type": "scatter"
           }
          ],
          "scatter3d": [
           {
            "line": {
             "colorbar": {
              "outlinewidth": 0,
              "ticks": ""
             }
            },
            "marker": {
             "colorbar": {
              "outlinewidth": 0,
              "ticks": ""
             }
            },
            "type": "scatter3d"
           }
          ],
          "scattercarpet": [
           {
            "marker": {
             "colorbar": {
              "outlinewidth": 0,
              "ticks": ""
             }
            },
            "type": "scattercarpet"
           }
          ],
          "scattergeo": [
           {
            "marker": {
             "colorbar": {
              "outlinewidth": 0,
              "ticks": ""
             }
            },
            "type": "scattergeo"
           }
          ],
          "scattergl": [
           {
            "marker": {
             "colorbar": {
              "outlinewidth": 0,
              "ticks": ""
             }
            },
            "type": "scattergl"
           }
          ],
          "scattermapbox": [
           {
            "marker": {
             "colorbar": {
              "outlinewidth": 0,
              "ticks": ""
             }
            },
            "type": "scattermapbox"
           }
          ],
          "scatterpolar": [
           {
            "marker": {
             "colorbar": {
              "outlinewidth": 0,
              "ticks": ""
             }
            },
            "type": "scatterpolar"
           }
          ],
          "scatterpolargl": [
           {
            "marker": {
             "colorbar": {
              "outlinewidth": 0,
              "ticks": ""
             }
            },
            "type": "scatterpolargl"
           }
          ],
          "scatterternary": [
           {
            "marker": {
             "colorbar": {
              "outlinewidth": 0,
              "ticks": ""
             }
            },
            "type": "scatterternary"
           }
          ],
          "surface": [
           {
            "colorbar": {
             "outlinewidth": 0,
             "ticks": ""
            },
            "colorscale": [
             [
              0,
              "#0d0887"
             ],
             [
              0.1111111111111111,
              "#46039f"
             ],
             [
              0.2222222222222222,
              "#7201a8"
             ],
             [
              0.3333333333333333,
              "#9c179e"
             ],
             [
              0.4444444444444444,
              "#bd3786"
             ],
             [
              0.5555555555555556,
              "#d8576b"
             ],
             [
              0.6666666666666666,
              "#ed7953"
             ],
             [
              0.7777777777777778,
              "#fb9f3a"
             ],
             [
              0.8888888888888888,
              "#fdca26"
             ],
             [
              1,
              "#f0f921"
             ]
            ],
            "type": "surface"
           }
          ],
          "table": [
           {
            "cells": {
             "fill": {
              "color": "#EBF0F8"
             },
             "line": {
              "color": "white"
             }
            },
            "header": {
             "fill": {
              "color": "#C8D4E3"
             },
             "line": {
              "color": "white"
             }
            },
            "type": "table"
           }
          ]
         },
         "layout": {
          "annotationdefaults": {
           "arrowcolor": "#2a3f5f",
           "arrowhead": 0,
           "arrowwidth": 1
          },
          "autotypenumbers": "strict",
          "coloraxis": {
           "colorbar": {
            "outlinewidth": 0,
            "ticks": ""
           }
          },
          "colorscale": {
           "diverging": [
            [
             0,
             "#8e0152"
            ],
            [
             0.1,
             "#c51b7d"
            ],
            [
             0.2,
             "#de77ae"
            ],
            [
             0.3,
             "#f1b6da"
            ],
            [
             0.4,
             "#fde0ef"
            ],
            [
             0.5,
             "#f7f7f7"
            ],
            [
             0.6,
             "#e6f5d0"
            ],
            [
             0.7,
             "#b8e186"
            ],
            [
             0.8,
             "#7fbc41"
            ],
            [
             0.9,
             "#4d9221"
            ],
            [
             1,
             "#276419"
            ]
           ],
           "sequential": [
            [
             0,
             "#0d0887"
            ],
            [
             0.1111111111111111,
             "#46039f"
            ],
            [
             0.2222222222222222,
             "#7201a8"
            ],
            [
             0.3333333333333333,
             "#9c179e"
            ],
            [
             0.4444444444444444,
             "#bd3786"
            ],
            [
             0.5555555555555556,
             "#d8576b"
            ],
            [
             0.6666666666666666,
             "#ed7953"
            ],
            [
             0.7777777777777778,
             "#fb9f3a"
            ],
            [
             0.8888888888888888,
             "#fdca26"
            ],
            [
             1,
             "#f0f921"
            ]
           ],
           "sequentialminus": [
            [
             0,
             "#0d0887"
            ],
            [
             0.1111111111111111,
             "#46039f"
            ],
            [
             0.2222222222222222,
             "#7201a8"
            ],
            [
             0.3333333333333333,
             "#9c179e"
            ],
            [
             0.4444444444444444,
             "#bd3786"
            ],
            [
             0.5555555555555556,
             "#d8576b"
            ],
            [
             0.6666666666666666,
             "#ed7953"
            ],
            [
             0.7777777777777778,
             "#fb9f3a"
            ],
            [
             0.8888888888888888,
             "#fdca26"
            ],
            [
             1,
             "#f0f921"
            ]
           ]
          },
          "colorway": [
           "#636efa",
           "#EF553B",
           "#00cc96",
           "#ab63fa",
           "#FFA15A",
           "#19d3f3",
           "#FF6692",
           "#B6E880",
           "#FF97FF",
           "#FECB52"
          ],
          "font": {
           "color": "#2a3f5f"
          },
          "geo": {
           "bgcolor": "white",
           "lakecolor": "white",
           "landcolor": "#E5ECF6",
           "showlakes": true,
           "showland": true,
           "subunitcolor": "white"
          },
          "hoverlabel": {
           "align": "left"
          },
          "hovermode": "closest",
          "mapbox": {
           "style": "light"
          },
          "paper_bgcolor": "white",
          "plot_bgcolor": "#E5ECF6",
          "polar": {
           "angularaxis": {
            "gridcolor": "white",
            "linecolor": "white",
            "ticks": ""
           },
           "bgcolor": "#E5ECF6",
           "radialaxis": {
            "gridcolor": "white",
            "linecolor": "white",
            "ticks": ""
           }
          },
          "scene": {
           "xaxis": {
            "backgroundcolor": "#E5ECF6",
            "gridcolor": "white",
            "gridwidth": 2,
            "linecolor": "white",
            "showbackground": true,
            "ticks": "",
            "zerolinecolor": "white"
           },
           "yaxis": {
            "backgroundcolor": "#E5ECF6",
            "gridcolor": "white",
            "gridwidth": 2,
            "linecolor": "white",
            "showbackground": true,
            "ticks": "",
            "zerolinecolor": "white"
           },
           "zaxis": {
            "backgroundcolor": "#E5ECF6",
            "gridcolor": "white",
            "gridwidth": 2,
            "linecolor": "white",
            "showbackground": true,
            "ticks": "",
            "zerolinecolor": "white"
           }
          },
          "shapedefaults": {
           "line": {
            "color": "#2a3f5f"
           }
          },
          "ternary": {
           "aaxis": {
            "gridcolor": "white",
            "linecolor": "white",
            "ticks": ""
           },
           "baxis": {
            "gridcolor": "white",
            "linecolor": "white",
            "ticks": ""
           },
           "bgcolor": "#E5ECF6",
           "caxis": {
            "gridcolor": "white",
            "linecolor": "white",
            "ticks": ""
           }
          },
          "title": {
           "x": 0.05
          },
          "xaxis": {
           "automargin": true,
           "gridcolor": "white",
           "linecolor": "white",
           "ticks": "",
           "title": {
            "standoff": 15
           },
           "zerolinecolor": "white",
           "zerolinewidth": 2
          },
          "yaxis": {
           "automargin": true,
           "gridcolor": "white",
           "linecolor": "white",
           "ticks": "",
           "title": {
            "standoff": 15
           },
           "zerolinecolor": "white",
           "zerolinewidth": 2
          }
         }
        },
        "title": {
         "text": "Trayectoria 3D Interactiva"
        }
       }
      }
     },
     "metadata": {},
     "output_type": "display_data"
    }
   ],
   "source": [
    "# Crear el gráfico 3D interactivo\n",
    "fig = go.Figure()\n",
    "\n",
    "# Añadir la trayectoria con todos los puntos menos el último\n",
    "fig.add_trace(go.Scatter3d(\n",
    "    x=df['x'][:-1],\n",
    "    y=df['y'][:-1],\n",
    "    z=df['z'][:-1],\n",
    "    mode='lines+markers',\n",
    "    marker=dict(size=2),\n",
    "    line=dict(width=2),\n",
    "    name = 'Trayectoria'\n",
    "))\n",
    "\n",
    "# Configurar el diseño del gráfico\n",
    "fig.update_layout(\n",
    "    scene=dict(\n",
    "        xaxis_title='X',\n",
    "        yaxis_title='Y',\n",
    "        zaxis_title='Z',\n",
    "        xaxis=dict(showticklabels=False, tickmode=\"linear\", dtick=50, range=[min(df['x']) - 10, max(df['x']) + 10], backgroundcolor=\"lightblue\", gridwidth=0.5),\n",
    "        yaxis=dict(showticklabels=False, tickmode=\"linear\", dtick=50, range=[min(df['y']) - 10, max(df['y']) + 10], backgroundcolor=\"lightblue\", gridwidth=0.5),\n",
    "        zaxis=dict(showticklabels=False, tickmode=\"linear\", dtick=50,  range=[min(df['z']) - 10, max(df['z']) + 10], backgroundcolor=\"lightblue\", gridwidth=0.5)\n",
    "    ),\n",
    "    title='Trayectoria 3D Interactiva'\n",
    ")\n",
    "\n",
    "# Configurar la cámara para que salga cuadrado y alejado de los puntos\n",
    "camera = dict(\n",
    "    eye=dict(x=1.5, y=1.5, z=1.5)\n",
    ")\n",
    "\n",
    "fig.update_layout(scene_camera=camera) \n",
    "\n",
    "# Mostrar el gráfico\n",
    "fig.show()"
   ]
  },
  {
   "cell_type": "markdown",
   "metadata": {},
   "source": [
    "### Curvatura"
   ]
  },
  {
   "cell_type": "code",
   "execution_count": 66,
   "metadata": {},
   "outputs": [
    {
     "name": "stdout",
     "output_type": "stream",
     "text": [
      "Desviación Estándar de la Curvatura: 0.11839630768194657\n",
      "        x      y      z  curvatura\n",
      "12  264.0  109.0  401.0   0.522636\n",
      "13  265.0  107.0  400.0   0.056668\n",
      "14  264.0   95.0  395.0   0.058465\n",
      "15  257.0   92.0  384.0   0.018195\n",
      "16  252.0   93.0  356.0   0.016047\n",
      "17  247.0  106.0  346.0   0.013642\n",
      "18  245.0  115.0  332.0   0.005260\n",
      "19  240.0  124.0  326.0   0.021481\n",
      "20  238.0  127.0  315.0   0.028453\n",
      "21  235.0  128.0  308.0   0.035979\n",
      "22  235.0  128.0  301.0   0.080051\n",
      "23  232.0  124.0  298.0   0.056583\n",
      "24  230.0  121.0  293.0   0.056258\n",
      "25  229.0  126.0  283.0   0.005709\n",
      "26  227.0  128.0  277.0   0.139049\n",
      "27  226.0  127.0  274.0   0.052802\n",
      "28  223.0  122.0  271.0   0.080044\n",
      "29  224.0  122.0  264.0   0.137986\n",
      "30  224.0  126.0  264.0   0.081246\n",
      "31  220.0  126.0  256.0   0.303592\n"
     ]
    }
   ],
   "source": [
    "# Convertir a arrays de numpy\n",
    "x = np.array(df['x'])\n",
    "y = np.array(df['y'])\n",
    "z = np.array(df['z'])\n",
    "\n",
    "# Calcular las derivadas usando diferencias finitas\n",
    "dx = np.gradient(x)\n",
    "dy = np.gradient(y)\n",
    "dz = np.gradient(z)\n",
    "\n",
    "ddx = np.gradient(dx)\n",
    "ddy = np.gradient(dy)\n",
    "ddz = np.gradient(dz)\n",
    "\n",
    "# Calcular la curvatura\n",
    "curvatura = np.zeros(len(x))\n",
    "\n",
    "for i in range(len(x)):\n",
    "    # Vectores de la primera y segunda derivada\n",
    "    r_prime = np.array([dx[i], dy[i], dz[i]])\n",
    "    r_double_prime = np.array([ddx[i], ddy[i], ddz[i]])\n",
    "    \n",
    "    # Producto cruzado de r' y r''\n",
    "    cross_product = np.cross(r_prime, r_double_prime)\n",
    "    \n",
    "    # Magnitud de r'\n",
    "    norm_r_prime = np.linalg.norm(r_prime)\n",
    "    \n",
    "    # Curvatura\n",
    "    curvatura[i] = np.linalg.norm(cross_product) / (norm_r_prime**3)\n",
    "\n",
    "# Añadir la curvatura al DataFrame\n",
    "df['curvatura'] = curvatura\n",
    "\n",
    "# Desviación Estánda de la curvatura\n",
    "std_curvatura = np.std(curvatura)\n",
    "\n",
    "# Mostrar la desviación estándar de la curvatura\n",
    "print('Desviación Estándar de la Curvatura:', std_curvatura)\n",
    "\n",
    "\n",
    "# Mostrar el DataFrame\n",
    "print(df.head(20))"
   ]
  },
  {
   "cell_type": "markdown",
   "metadata": {},
   "source": [
    "### Animación"
   ]
  },
  {
   "cell_type": "code",
   "execution_count": 67,
   "metadata": {},
   "outputs": [],
   "source": [
    "df = bat.copy()"
   ]
  },
  {
   "cell_type": "code",
   "execution_count": 79,
   "metadata": {},
   "outputs": [
    {
     "name": "stderr",
     "output_type": "stream",
     "text": [
      "C:\\Users\\aemer\\AppData\\Local\\Temp\\ipykernel_24256\\2455947361.py:64: FutureWarning:\n",
      "\n",
      "The behavior of `series[i:j]` with an integer-dtype index is deprecated. In a future version, this will be treated as *label-based* indexing, consistent with e.g. `series[i]` lookups. To retain the old behavior, use `series.iloc[i:j]`. To get the future behavior, use `series.loc[i:j]`.\n",
      "\n",
      "C:\\Users\\aemer\\AppData\\Local\\Temp\\ipykernel_24256\\2455947361.py:65: FutureWarning:\n",
      "\n",
      "The behavior of `series[i:j]` with an integer-dtype index is deprecated. In a future version, this will be treated as *label-based* indexing, consistent with e.g. `series[i]` lookups. To retain the old behavior, use `series.iloc[i:j]`. To get the future behavior, use `series.loc[i:j]`.\n",
      "\n",
      "C:\\Users\\aemer\\AppData\\Local\\Temp\\ipykernel_24256\\2455947361.py:66: FutureWarning:\n",
      "\n",
      "The behavior of `series[i:j]` with an integer-dtype index is deprecated. In a future version, this will be treated as *label-based* indexing, consistent with e.g. `series[i]` lookups. To retain the old behavior, use `series.iloc[i:j]`. To get the future behavior, use `series.loc[i:j]`.\n",
      "\n",
      "C:\\Users\\aemer\\AppData\\Local\\Temp\\ipykernel_24256\\2455947361.py:114: FutureWarning:\n",
      "\n",
      "The behavior of `series[i:j]` with an integer-dtype index is deprecated. In a future version, this will be treated as *label-based* indexing, consistent with e.g. `series[i]` lookups. To retain the old behavior, use `series.iloc[i:j]`. To get the future behavior, use `series.loc[i:j]`.\n",
      "\n",
      "C:\\Users\\aemer\\AppData\\Local\\Temp\\ipykernel_24256\\2455947361.py:115: FutureWarning:\n",
      "\n",
      "The behavior of `series[i:j]` with an integer-dtype index is deprecated. In a future version, this will be treated as *label-based* indexing, consistent with e.g. `series[i]` lookups. To retain the old behavior, use `series.iloc[i:j]`. To get the future behavior, use `series.loc[i:j]`.\n",
      "\n",
      "C:\\Users\\aemer\\AppData\\Local\\Temp\\ipykernel_24256\\2455947361.py:116: FutureWarning:\n",
      "\n",
      "The behavior of `series[i:j]` with an integer-dtype index is deprecated. In a future version, this will be treated as *label-based* indexing, consistent with e.g. `series[i]` lookups. To retain the old behavior, use `series.iloc[i:j]`. To get the future behavior, use `series.loc[i:j]`.\n",
      "\n",
      "C:\\Users\\aemer\\AppData\\Local\\Temp\\ipykernel_24256\\2455947361.py:124: FutureWarning:\n",
      "\n",
      "The behavior of `series[i:j]` with an integer-dtype index is deprecated. In a future version, this will be treated as *label-based* indexing, consistent with e.g. `series[i]` lookups. To retain the old behavior, use `series.iloc[i:j]`. To get the future behavior, use `series.loc[i:j]`.\n",
      "\n",
      "C:\\Users\\aemer\\AppData\\Local\\Temp\\ipykernel_24256\\2455947361.py:125: FutureWarning:\n",
      "\n",
      "The behavior of `series[i:j]` with an integer-dtype index is deprecated. In a future version, this will be treated as *label-based* indexing, consistent with e.g. `series[i]` lookups. To retain the old behavior, use `series.iloc[i:j]`. To get the future behavior, use `series.loc[i:j]`.\n",
      "\n",
      "C:\\Users\\aemer\\AppData\\Local\\Temp\\ipykernel_24256\\2455947361.py:126: FutureWarning:\n",
      "\n",
      "The behavior of `series[i:j]` with an integer-dtype index is deprecated. In a future version, this will be treated as *label-based* indexing, consistent with e.g. `series[i]` lookups. To retain the old behavior, use `series.iloc[i:j]`. To get the future behavior, use `series.loc[i:j]`.\n",
      "\n"
     ]
    },
    {
     "data": {
      "application/vnd.plotly.v1+json": {
       "config": {
        "plotlyServerURL": "https://plot.ly"
       },
       "data": [
        {
         "type": "scatter3d"
        },
        {
         "type": "scatter3d"
        },
        {
         "type": "scatter3d"
        },
        {
         "type": "scatter3d"
        },
        {
         "type": "scatter3d"
        },
        {
         "type": "scatter3d"
        },
        {
         "type": "scatter3d"
        },
        {
         "type": "scatter3d"
        },
        {
         "type": "scatter3d"
        },
        {
         "type": "scatter3d"
        },
        {
         "type": "scatter3d"
        },
        {
         "marker": {
          "color": "black",
          "size": 5
         },
         "mode": "markers",
         "name": "Murciélago",
         "type": "scatter3d",
         "x": [
          408
         ],
         "y": [
          313
         ],
         "z": [
          111
         ]
        },
        {
         "line": {
          "width": 0.1
         },
         "marker": {
          "color": "red",
          "size": 0.1
         },
         "mode": "lines+markers",
         "name": "Trayectoria",
         "type": "scatter3d",
         "x": [
          408,
          369,
          340,
          305,
          270,
          258,
          263,
          269,
          267,
          269,
          268,
          264,
          264,
          265,
          264,
          257,
          252,
          247,
          245,
          240,
          238,
          235,
          235,
          232,
          230,
          229,
          227,
          226,
          223,
          224,
          224,
          220,
          221,
          220,
          222,
          222,
          222,
          226,
          230,
          233,
          240,
          252,
          254,
          260,
          268,
          279,
          283,
          288,
          293,
          295,
          296,
          294,
          283,
          283,
          293,
          293
         ],
         "y": [
          313,
          244,
          194,
          159,
          125,
          109,
          107,
          106,
          109,
          107,
          110,
          101,
          109,
          107,
          95,
          92,
          93,
          106,
          115,
          124,
          127,
          128,
          128,
          124,
          121,
          126,
          128,
          127,
          122,
          122,
          126,
          126,
          123,
          122,
          127,
          130,
          129,
          129,
          129,
          137,
          134,
          135,
          124,
          116,
          105,
          97,
          81,
          73,
          61,
          52,
          59,
          41,
          43,
          36,
          49,
          49
         ],
         "z": [
          111,
          182,
          257,
          317,
          394,
          408,
          428,
          427,
          412,
          404,
          391,
          383,
          401,
          400,
          395,
          384,
          356,
          346,
          332,
          326,
          315,
          308,
          301,
          298,
          293,
          283,
          277,
          274,
          271,
          264,
          264,
          256,
          259,
          260,
          258,
          255,
          255,
          261,
          259,
          263,
          255,
          271,
          273,
          274,
          282,
          310,
          324,
          342,
          352,
          379,
          391,
          415,
          411,
          399,
          377.5,
          356
         ]
        }
       ],
       "frames": [
        {
         "data": [
          {
           "line": {
            "color": "black",
            "width": 4
           },
           "marker": {
            "color": "black",
            "size": [
             5
            ]
           },
           "mode": "lines+markers",
           "name": "Aproximación",
           "type": "scatter3d",
           "x": [
            408
           ],
           "y": [
            313
           ],
           "z": [
            111
           ]
          },
          {
           "line": {
            "color": "red",
            "width": 4
           },
           "marker": {
            "color": "red",
            "size": [
             5
            ]
           },
           "mode": "lines+markers",
           "name": "Flor",
           "type": "scatter3d",
           "x": [
            268
           ],
           "y": [
            108
           ],
           "z": [
            406
           ]
          }
         ]
        },
        {
         "data": [
          {
           "line": {
            "color": "black",
            "width": 4
           },
           "marker": {
            "color": "black",
            "size": [
             5
            ]
           },
           "mode": "lines+markers",
           "name": "Aproximación",
           "type": "scatter3d",
           "x": [
            408,
            369
           ],
           "y": [
            313,
            244
           ],
           "z": [
            111,
            182
           ]
          },
          {
           "line": {
            "color": "red",
            "width": 4
           },
           "marker": {
            "color": "red",
            "size": [
             5
            ]
           },
           "mode": "lines+markers",
           "name": "Flor",
           "type": "scatter3d",
           "x": [
            268,
            267
           ],
           "y": [
            108,
            108
           ],
           "z": [
            406,
            407
           ]
          }
         ]
        },
        {
         "data": [
          {
           "line": {
            "color": "black",
            "width": 4
           },
           "marker": {
            "color": "black",
            "size": [
             0,
             5
            ]
           },
           "mode": "lines+markers",
           "name": "Aproximación",
           "type": "scatter3d",
           "x": [
            408,
            369,
            340
           ],
           "y": [
            313,
            244,
            194
           ],
           "z": [
            111,
            182,
            257
           ]
          },
          {
           "line": {
            "color": "red",
            "width": 4
           },
           "marker": {
            "color": "red",
            "size": [
             0,
             5
            ]
           },
           "mode": "lines+markers",
           "name": "Flor",
           "type": "scatter3d",
           "x": [
            268,
            267,
            267
           ],
           "y": [
            108,
            108,
            107
           ],
           "z": [
            406,
            407,
            410
           ]
          }
         ]
        },
        {
         "data": [
          {
           "line": {
            "color": "black",
            "width": 4
           },
           "marker": {
            "color": "black",
            "size": [
             0,
             0,
             5
            ]
           },
           "mode": "lines+markers",
           "name": "Aproximación",
           "type": "scatter3d",
           "x": [
            408,
            369,
            340,
            305
           ],
           "y": [
            313,
            244,
            194,
            159
           ],
           "z": [
            111,
            182,
            257,
            317
           ]
          },
          {
           "line": {
            "color": "red",
            "width": 4
           },
           "marker": {
            "color": "red",
            "size": [
             0,
             0,
             5
            ]
           },
           "mode": "lines+markers",
           "name": "Flor",
           "type": "scatter3d",
           "x": [
            268,
            267,
            267,
            269
           ],
           "y": [
            108,
            108,
            107,
            108
           ],
           "z": [
            406,
            407,
            410,
            407
           ]
          }
         ]
        },
        {
         "data": [
          {
           "line": {
            "color": "black",
            "width": 4
           },
           "marker": {
            "color": "black",
            "size": [
             0,
             0,
             0,
             5
            ]
           },
           "mode": "lines+markers",
           "name": "Aproximación",
           "type": "scatter3d",
           "x": [
            408,
            369,
            340,
            305,
            270
           ],
           "y": [
            313,
            244,
            194,
            159,
            125
           ],
           "z": [
            111,
            182,
            257,
            317,
            394
           ]
          },
          {
           "line": {
            "color": "red",
            "width": 4
           },
           "marker": {
            "color": "red",
            "size": [
             0,
             0,
             0,
             5
            ]
           },
           "mode": "lines+markers",
           "name": "Flor",
           "type": "scatter3d",
           "x": [
            268,
            267,
            267,
            269,
            269
           ],
           "y": [
            108,
            108,
            107,
            108,
            108
           ],
           "z": [
            406,
            407,
            410,
            407,
            410
           ]
          }
         ]
        },
        {
         "data": [
          {
           "line": {
            "color": "black",
            "width": 4
           },
           "marker": {
            "color": "black",
            "size": [
             0,
             0,
             0,
             0,
             5
            ]
           },
           "mode": "lines+markers",
           "name": "Aproximación",
           "type": "scatter3d",
           "x": [
            408,
            369,
            340,
            305,
            270,
            258
           ],
           "y": [
            313,
            244,
            194,
            159,
            125,
            109
           ],
           "z": [
            111,
            182,
            257,
            317,
            394,
            408
           ]
          },
          {
           "line": {
            "color": "red",
            "width": 4
           },
           "marker": {
            "color": "red",
            "size": [
             0,
             0,
             0,
             0,
             5
            ]
           },
           "mode": "lines+markers",
           "name": "Flor",
           "type": "scatter3d",
           "x": [
            268,
            267,
            267,
            269,
            269,
            269
           ],
           "y": [
            108,
            108,
            107,
            108,
            108,
            106
           ],
           "z": [
            406,
            407,
            410,
            407,
            410,
            412
           ]
          }
         ]
        },
        {
         "data": [
          {
           "line": {
            "color": "black",
            "width": 4
           },
           "marker": {
            "color": "black",
            "size": [
             0,
             0,
             0,
             0,
             0,
             5
            ]
           },
           "mode": "lines+markers",
           "name": "Aproximación",
           "type": "scatter3d",
           "x": [
            408,
            369,
            340,
            305,
            270,
            258,
            263
           ],
           "y": [
            313,
            244,
            194,
            159,
            125,
            109,
            107
           ],
           "z": [
            111,
            182,
            257,
            317,
            394,
            408,
            428
           ]
          },
          {
           "line": {
            "color": "red",
            "width": 4
           },
           "marker": {
            "color": "red",
            "size": [
             0,
             0,
             0,
             0,
             0,
             5
            ]
           },
           "mode": "lines+markers",
           "name": "Flor",
           "type": "scatter3d",
           "x": [
            268,
            267,
            267,
            269,
            269,
            269,
            269
           ],
           "y": [
            108,
            108,
            107,
            108,
            108,
            106,
            109
           ],
           "z": [
            406,
            407,
            410,
            407,
            410,
            412,
            409
           ]
          }
         ]
        },
        {
         "data": [
          {
           "line": {
            "color": "black",
            "width": 4
           },
           "marker": {
            "color": "black",
            "size": [
             0,
             0,
             0,
             0,
             0,
             0,
             5
            ]
           },
           "mode": "lines+markers",
           "name": "Aproximación",
           "type": "scatter3d",
           "x": [
            408,
            369,
            340,
            305,
            270,
            258,
            263,
            269
           ],
           "y": [
            313,
            244,
            194,
            159,
            125,
            109,
            107,
            106
           ],
           "z": [
            111,
            182,
            257,
            317,
            394,
            408,
            428,
            427
           ]
          },
          {
           "line": {
            "color": "red",
            "width": 4
           },
           "marker": {
            "color": "red",
            "size": [
             0,
             0,
             0,
             0,
             0,
             0,
             5
            ]
           },
           "mode": "lines+markers",
           "name": "Flor",
           "type": "scatter3d",
           "x": [
            268,
            267,
            267,
            269,
            269,
            269,
            269,
            266.5
           ],
           "y": [
            108,
            108,
            107,
            108,
            108,
            106,
            109,
            108
           ],
           "z": [
            406,
            407,
            410,
            407,
            410,
            412,
            409,
            407
           ]
          }
         ]
        },
        {
         "data": [
          {
           "line": {
            "color": "black",
            "width": 4
           },
           "marker": {
            "color": "black",
            "size": [
             0,
             0,
             0,
             0,
             0,
             0,
             0,
             5
            ]
           },
           "mode": "lines+markers",
           "name": "Aproximación",
           "type": "scatter3d",
           "x": [
            408,
            369,
            340,
            305,
            270,
            258,
            263,
            269,
            267
           ],
           "y": [
            313,
            244,
            194,
            159,
            125,
            109,
            107,
            106,
            109
           ],
           "z": [
            111,
            182,
            257,
            317,
            394,
            408,
            428,
            427,
            412
           ]
          },
          {
           "line": {
            "color": "red",
            "width": 4
           },
           "marker": {
            "color": "red",
            "size": [
             0,
             0,
             0,
             0,
             0,
             0,
             0,
             5
            ]
           },
           "mode": "lines+markers",
           "name": "Flor",
           "type": "scatter3d",
           "x": [
            268,
            267,
            267,
            269,
            269,
            269,
            269,
            266.5,
            264
           ],
           "y": [
            108,
            108,
            107,
            108,
            108,
            106,
            109,
            108,
            107
           ],
           "z": [
            406,
            407,
            410,
            407,
            410,
            412,
            409,
            407,
            407
           ]
          }
         ]
        },
        {
         "data": [
          {
           "line": {
            "color": "black",
            "width": 4
           },
           "marker": {
            "color": "black",
            "size": [
             0,
             0,
             0,
             0,
             0,
             0,
             0,
             0,
             5
            ]
           },
           "mode": "lines+markers",
           "name": "Aproximación",
           "type": "scatter3d",
           "x": [
            408,
            369,
            340,
            305,
            270,
            258,
            263,
            269,
            267,
            269
           ],
           "y": [
            313,
            244,
            194,
            159,
            125,
            109,
            107,
            106,
            109,
            107
           ],
           "z": [
            111,
            182,
            257,
            317,
            394,
            408,
            428,
            427,
            412,
            404
           ]
          },
          {
           "line": {
            "color": "red",
            "width": 4
           },
           "marker": {
            "color": "red",
            "size": [
             0,
             0,
             0,
             0,
             0,
             0,
             0,
             0,
             5
            ]
           },
           "mode": "lines+markers",
           "name": "Flor",
           "type": "scatter3d",
           "x": [
            268,
            267,
            267,
            269,
            269,
            269,
            269,
            266.5,
            264,
            266
           ],
           "y": [
            108,
            108,
            107,
            108,
            108,
            106,
            109,
            108,
            107,
            111
           ],
           "z": [
            406,
            407,
            410,
            407,
            410,
            412,
            409,
            407,
            407,
            404
           ]
          }
         ]
        },
        {
         "data": [
          {
           "line": {
            "color": "black",
            "width": 4
           },
           "marker": {
            "color": "black",
            "size": [
             0,
             0,
             0,
             0,
             0,
             0,
             0,
             0,
             0,
             5
            ]
           },
           "mode": "lines+markers",
           "name": "Aproximación",
           "type": "scatter3d",
           "x": [
            408,
            369,
            340,
            305,
            270,
            258,
            263,
            269,
            267,
            269,
            268
           ],
           "y": [
            313,
            244,
            194,
            159,
            125,
            109,
            107,
            106,
            109,
            107,
            110
           ],
           "z": [
            111,
            182,
            257,
            317,
            394,
            408,
            428,
            427,
            412,
            404,
            391
           ]
          },
          {
           "line": {
            "color": "red",
            "width": 4
           },
           "marker": {
            "color": "red",
            "size": [
             0,
             0,
             0,
             0,
             0,
             0,
             0,
             0,
             0,
             5
            ]
           },
           "mode": "lines+markers",
           "name": "Flor",
           "type": "scatter3d",
           "x": [
            268,
            267,
            267,
            269,
            269,
            269,
            269,
            266.5,
            264,
            266,
            264
           ],
           "y": [
            108,
            108,
            107,
            108,
            108,
            106,
            109,
            108,
            107,
            111,
            109
           ],
           "z": [
            406,
            407,
            410,
            407,
            410,
            412,
            409,
            407,
            407,
            404,
            402
           ]
          }
         ]
        },
        {
         "data": [
          {
           "line": {
            "color": "black",
            "width": 4
           },
           "marker": {
            "color": "black",
            "size": [
             0,
             0,
             0,
             0,
             0,
             0,
             0,
             0,
             0,
             0,
             5
            ]
           },
           "mode": "lines+markers",
           "name": "Aproximación",
           "type": "scatter3d",
           "x": [
            408,
            369,
            340,
            305,
            270,
            258,
            263,
            269,
            267,
            269,
            268,
            264
           ],
           "y": [
            313,
            244,
            194,
            159,
            125,
            109,
            107,
            106,
            109,
            107,
            110,
            101
           ],
           "z": [
            111,
            182,
            257,
            317,
            394,
            408,
            428,
            427,
            412,
            404,
            391,
            383
           ]
          },
          {
           "line": {
            "color": "red",
            "width": 4
           },
           "marker": {
            "color": "red",
            "size": [
             0,
             0,
             0,
             0,
             0,
             0,
             0,
             0,
             0,
             0,
             5
            ]
           },
           "mode": "lines+markers",
           "name": "Flor",
           "type": "scatter3d",
           "x": [
            268,
            267,
            267,
            269,
            269,
            269,
            269,
            266.5,
            264,
            266,
            264,
            264
           ],
           "y": [
            108,
            108,
            107,
            108,
            108,
            106,
            109,
            108,
            107,
            111,
            109,
            111
           ],
           "z": [
            406,
            407,
            410,
            407,
            410,
            412,
            409,
            407,
            407,
            404,
            402,
            397
           ]
          }
         ]
        },
        {
         "data": [
          {
           "line": {
            "color": "blue",
            "width": 4
           },
           "marker": {
            "color": "blue",
            "size": [
             5
            ]
           },
           "mode": "lines+markers",
           "name": "Alimentación",
           "type": "scatter3d",
           "x": [
            264
           ],
           "y": [
            109
           ],
           "z": [
            401
           ]
          },
          {
           "line": {
            "color": "black",
            "width": 4
           },
           "mode": "lines",
           "name": "Flor",
           "type": "scatter3d",
           "x": [
            268,
            267,
            267,
            269,
            269,
            269,
            269,
            266.5,
            264,
            266,
            264,
            264
           ],
           "y": [
            108,
            108,
            107,
            108,
            108,
            106,
            109,
            108,
            107,
            111,
            109,
            111
           ],
           "z": [
            406,
            407,
            410,
            407,
            410,
            412,
            409,
            407,
            407,
            404,
            402,
            397
           ]
          },
          {
           "line": {
            "color": "black",
            "width": 4
           },
           "mode": "lines",
           "name": "Aproximación",
           "type": "scatter3d",
           "x": [
            408,
            369,
            340,
            305,
            270,
            258,
            263,
            269,
            267,
            269,
            268,
            264
           ],
           "y": [
            313,
            244,
            194,
            159,
            125,
            109,
            107,
            106,
            109,
            107,
            110,
            101
           ],
           "z": [
            111,
            182,
            257,
            317,
            394,
            408,
            428,
            427,
            412,
            404,
            391,
            383
           ]
          },
          {
           "marker": {
            "color": "red",
            "size": 5
           },
           "mode": "markers",
           "name": "Flor",
           "type": "scatter3d",
           "x": [
            264
           ],
           "y": [
            111
           ],
           "z": [
            397
           ]
          },
          {
           "marker": {
            "color": "black",
            "size": 5
           },
           "mode": "markers",
           "name": "Murciélago",
           "type": "scatter3d",
           "x": [
            264
           ],
           "y": [
            101
           ],
           "z": [
            383
           ]
          }
         ]
        },
        {
         "data": [
          {
           "line": {
            "color": "blue",
            "width": 4
           },
           "marker": {
            "color": "blue",
            "size": [
             5
            ]
           },
           "mode": "lines+markers",
           "name": "Alimentación",
           "type": "scatter3d",
           "x": [
            264,
            265
           ],
           "y": [
            109,
            107
           ],
           "z": [
            401,
            400
           ]
          },
          {
           "line": {
            "color": "black",
            "width": 4
           },
           "mode": "lines",
           "name": "Flor",
           "type": "scatter3d",
           "x": [
            268,
            267,
            267,
            269,
            269,
            269,
            269,
            266.5,
            264,
            266,
            264,
            264
           ],
           "y": [
            108,
            108,
            107,
            108,
            108,
            106,
            109,
            108,
            107,
            111,
            109,
            111
           ],
           "z": [
            406,
            407,
            410,
            407,
            410,
            412,
            409,
            407,
            407,
            404,
            402,
            397
           ]
          },
          {
           "line": {
            "color": "black",
            "width": 4
           },
           "mode": "lines",
           "name": "Aproximación",
           "type": "scatter3d",
           "x": [
            408,
            369,
            340,
            305,
            270,
            258,
            263,
            269,
            267,
            269,
            268,
            264
           ],
           "y": [
            313,
            244,
            194,
            159,
            125,
            109,
            107,
            106,
            109,
            107,
            110,
            101
           ],
           "z": [
            111,
            182,
            257,
            317,
            394,
            408,
            428,
            427,
            412,
            404,
            391,
            383
           ]
          },
          {
           "marker": {
            "color": "red",
            "size": 5
           },
           "mode": "markers",
           "name": "Flor",
           "type": "scatter3d",
           "x": [
            264
           ],
           "y": [
            111
           ],
           "z": [
            397
           ]
          },
          {
           "marker": {
            "color": "black",
            "size": 5
           },
           "mode": "markers",
           "name": "Murciélago",
           "type": "scatter3d",
           "x": [
            264
           ],
           "y": [
            101
           ],
           "z": [
            383
           ]
          }
         ]
        },
        {
         "data": [
          {
           "line": {
            "color": "blue",
            "width": 4
           },
           "marker": {
            "color": "blue",
            "size": [
             0,
             5
            ]
           },
           "mode": "lines+markers",
           "name": "Alimentación",
           "type": "scatter3d",
           "x": [
            264,
            265,
            264
           ],
           "y": [
            109,
            107,
            95
           ],
           "z": [
            401,
            400,
            395
           ]
          },
          {
           "line": {
            "color": "black",
            "width": 4
           },
           "mode": "lines",
           "name": "Flor",
           "type": "scatter3d",
           "x": [
            268,
            267,
            267,
            269,
            269,
            269,
            269,
            266.5,
            264,
            266,
            264,
            264
           ],
           "y": [
            108,
            108,
            107,
            108,
            108,
            106,
            109,
            108,
            107,
            111,
            109,
            111
           ],
           "z": [
            406,
            407,
            410,
            407,
            410,
            412,
            409,
            407,
            407,
            404,
            402,
            397
           ]
          },
          {
           "line": {
            "color": "black",
            "width": 4
           },
           "mode": "lines",
           "name": "Aproximación",
           "type": "scatter3d",
           "x": [
            408,
            369,
            340,
            305,
            270,
            258,
            263,
            269,
            267,
            269,
            268,
            264
           ],
           "y": [
            313,
            244,
            194,
            159,
            125,
            109,
            107,
            106,
            109,
            107,
            110,
            101
           ],
           "z": [
            111,
            182,
            257,
            317,
            394,
            408,
            428,
            427,
            412,
            404,
            391,
            383
           ]
          },
          {
           "marker": {
            "color": "red",
            "size": 5
           },
           "mode": "markers",
           "name": "Flor",
           "type": "scatter3d",
           "x": [
            264
           ],
           "y": [
            111
           ],
           "z": [
            397
           ]
          },
          {
           "marker": {
            "color": "black",
            "size": 5
           },
           "mode": "markers",
           "name": "Murciélago",
           "type": "scatter3d",
           "x": [
            264
           ],
           "y": [
            101
           ],
           "z": [
            383
           ]
          }
         ]
        },
        {
         "data": [
          {
           "line": {
            "color": "blue",
            "width": 4
           },
           "marker": {
            "color": "blue",
            "size": [
             0,
             0,
             5
            ]
           },
           "mode": "lines+markers",
           "name": "Alimentación",
           "type": "scatter3d",
           "x": [
            264,
            265,
            264,
            257
           ],
           "y": [
            109,
            107,
            95,
            92
           ],
           "z": [
            401,
            400,
            395,
            384
           ]
          },
          {
           "line": {
            "color": "black",
            "width": 4
           },
           "mode": "lines",
           "name": "Flor",
           "type": "scatter3d",
           "x": [
            268,
            267,
            267,
            269,
            269,
            269,
            269,
            266.5,
            264,
            266,
            264,
            264
           ],
           "y": [
            108,
            108,
            107,
            108,
            108,
            106,
            109,
            108,
            107,
            111,
            109,
            111
           ],
           "z": [
            406,
            407,
            410,
            407,
            410,
            412,
            409,
            407,
            407,
            404,
            402,
            397
           ]
          },
          {
           "line": {
            "color": "black",
            "width": 4
           },
           "mode": "lines",
           "name": "Aproximación",
           "type": "scatter3d",
           "x": [
            408,
            369,
            340,
            305,
            270,
            258,
            263,
            269,
            267,
            269,
            268,
            264
           ],
           "y": [
            313,
            244,
            194,
            159,
            125,
            109,
            107,
            106,
            109,
            107,
            110,
            101
           ],
           "z": [
            111,
            182,
            257,
            317,
            394,
            408,
            428,
            427,
            412,
            404,
            391,
            383
           ]
          },
          {
           "marker": {
            "color": "red",
            "size": 5
           },
           "mode": "markers",
           "name": "Flor",
           "type": "scatter3d",
           "x": [
            264
           ],
           "y": [
            111
           ],
           "z": [
            397
           ]
          },
          {
           "marker": {
            "color": "black",
            "size": 5
           },
           "mode": "markers",
           "name": "Murciélago",
           "type": "scatter3d",
           "x": [
            264
           ],
           "y": [
            101
           ],
           "z": [
            383
           ]
          }
         ]
        },
        {
         "data": [
          {
           "line": {
            "color": "blue",
            "width": 4
           },
           "marker": {
            "color": "blue",
            "size": [
             0,
             0,
             0,
             5
            ]
           },
           "mode": "lines+markers",
           "name": "Alimentación",
           "type": "scatter3d",
           "x": [
            264,
            265,
            264,
            257,
            252
           ],
           "y": [
            109,
            107,
            95,
            92,
            93
           ],
           "z": [
            401,
            400,
            395,
            384,
            356
           ]
          },
          {
           "line": {
            "color": "black",
            "width": 4
           },
           "mode": "lines",
           "name": "Flor",
           "type": "scatter3d",
           "x": [
            268,
            267,
            267,
            269,
            269,
            269,
            269,
            266.5,
            264,
            266,
            264,
            264
           ],
           "y": [
            108,
            108,
            107,
            108,
            108,
            106,
            109,
            108,
            107,
            111,
            109,
            111
           ],
           "z": [
            406,
            407,
            410,
            407,
            410,
            412,
            409,
            407,
            407,
            404,
            402,
            397
           ]
          },
          {
           "line": {
            "color": "black",
            "width": 4
           },
           "mode": "lines",
           "name": "Aproximación",
           "type": "scatter3d",
           "x": [
            408,
            369,
            340,
            305,
            270,
            258,
            263,
            269,
            267,
            269,
            268,
            264
           ],
           "y": [
            313,
            244,
            194,
            159,
            125,
            109,
            107,
            106,
            109,
            107,
            110,
            101
           ],
           "z": [
            111,
            182,
            257,
            317,
            394,
            408,
            428,
            427,
            412,
            404,
            391,
            383
           ]
          },
          {
           "marker": {
            "color": "red",
            "size": 5
           },
           "mode": "markers",
           "name": "Flor",
           "type": "scatter3d",
           "x": [
            264
           ],
           "y": [
            111
           ],
           "z": [
            397
           ]
          },
          {
           "marker": {
            "color": "black",
            "size": 5
           },
           "mode": "markers",
           "name": "Murciélago",
           "type": "scatter3d",
           "x": [
            264
           ],
           "y": [
            101
           ],
           "z": [
            383
           ]
          }
         ]
        },
        {
         "data": [
          {
           "line": {
            "color": "blue",
            "width": 4
           },
           "marker": {
            "color": "blue",
            "size": [
             0,
             0,
             0,
             0,
             5
            ]
           },
           "mode": "lines+markers",
           "name": "Alimentación",
           "type": "scatter3d",
           "x": [
            264,
            265,
            264,
            257,
            252,
            247
           ],
           "y": [
            109,
            107,
            95,
            92,
            93,
            106
           ],
           "z": [
            401,
            400,
            395,
            384,
            356,
            346
           ]
          },
          {
           "line": {
            "color": "black",
            "width": 4
           },
           "mode": "lines",
           "name": "Flor",
           "type": "scatter3d",
           "x": [
            268,
            267,
            267,
            269,
            269,
            269,
            269,
            266.5,
            264,
            266,
            264,
            264
           ],
           "y": [
            108,
            108,
            107,
            108,
            108,
            106,
            109,
            108,
            107,
            111,
            109,
            111
           ],
           "z": [
            406,
            407,
            410,
            407,
            410,
            412,
            409,
            407,
            407,
            404,
            402,
            397
           ]
          },
          {
           "line": {
            "color": "black",
            "width": 4
           },
           "mode": "lines",
           "name": "Aproximación",
           "type": "scatter3d",
           "x": [
            408,
            369,
            340,
            305,
            270,
            258,
            263,
            269,
            267,
            269,
            268,
            264
           ],
           "y": [
            313,
            244,
            194,
            159,
            125,
            109,
            107,
            106,
            109,
            107,
            110,
            101
           ],
           "z": [
            111,
            182,
            257,
            317,
            394,
            408,
            428,
            427,
            412,
            404,
            391,
            383
           ]
          },
          {
           "marker": {
            "color": "red",
            "size": 5
           },
           "mode": "markers",
           "name": "Flor",
           "type": "scatter3d",
           "x": [
            264
           ],
           "y": [
            111
           ],
           "z": [
            397
           ]
          },
          {
           "marker": {
            "color": "black",
            "size": 5
           },
           "mode": "markers",
           "name": "Murciélago",
           "type": "scatter3d",
           "x": [
            264
           ],
           "y": [
            101
           ],
           "z": [
            383
           ]
          }
         ]
        },
        {
         "data": [
          {
           "line": {
            "color": "blue",
            "width": 4
           },
           "marker": {
            "color": "blue",
            "size": [
             0,
             0,
             0,
             0,
             0,
             5
            ]
           },
           "mode": "lines+markers",
           "name": "Alimentación",
           "type": "scatter3d",
           "x": [
            264,
            265,
            264,
            257,
            252,
            247,
            245
           ],
           "y": [
            109,
            107,
            95,
            92,
            93,
            106,
            115
           ],
           "z": [
            401,
            400,
            395,
            384,
            356,
            346,
            332
           ]
          },
          {
           "line": {
            "color": "black",
            "width": 4
           },
           "mode": "lines",
           "name": "Flor",
           "type": "scatter3d",
           "x": [
            268,
            267,
            267,
            269,
            269,
            269,
            269,
            266.5,
            264,
            266,
            264,
            264
           ],
           "y": [
            108,
            108,
            107,
            108,
            108,
            106,
            109,
            108,
            107,
            111,
            109,
            111
           ],
           "z": [
            406,
            407,
            410,
            407,
            410,
            412,
            409,
            407,
            407,
            404,
            402,
            397
           ]
          },
          {
           "line": {
            "color": "black",
            "width": 4
           },
           "mode": "lines",
           "name": "Aproximación",
           "type": "scatter3d",
           "x": [
            408,
            369,
            340,
            305,
            270,
            258,
            263,
            269,
            267,
            269,
            268,
            264
           ],
           "y": [
            313,
            244,
            194,
            159,
            125,
            109,
            107,
            106,
            109,
            107,
            110,
            101
           ],
           "z": [
            111,
            182,
            257,
            317,
            394,
            408,
            428,
            427,
            412,
            404,
            391,
            383
           ]
          },
          {
           "marker": {
            "color": "red",
            "size": 5
           },
           "mode": "markers",
           "name": "Flor",
           "type": "scatter3d",
           "x": [
            264
           ],
           "y": [
            111
           ],
           "z": [
            397
           ]
          },
          {
           "marker": {
            "color": "black",
            "size": 5
           },
           "mode": "markers",
           "name": "Murciélago",
           "type": "scatter3d",
           "x": [
            264
           ],
           "y": [
            101
           ],
           "z": [
            383
           ]
          }
         ]
        },
        {
         "data": [
          {
           "line": {
            "color": "blue",
            "width": 4
           },
           "marker": {
            "color": "blue",
            "size": [
             0,
             0,
             0,
             0,
             0,
             0,
             5
            ]
           },
           "mode": "lines+markers",
           "name": "Alimentación",
           "type": "scatter3d",
           "x": [
            264,
            265,
            264,
            257,
            252,
            247,
            245,
            240
           ],
           "y": [
            109,
            107,
            95,
            92,
            93,
            106,
            115,
            124
           ],
           "z": [
            401,
            400,
            395,
            384,
            356,
            346,
            332,
            326
           ]
          },
          {
           "line": {
            "color": "black",
            "width": 4
           },
           "mode": "lines",
           "name": "Flor",
           "type": "scatter3d",
           "x": [
            268,
            267,
            267,
            269,
            269,
            269,
            269,
            266.5,
            264,
            266,
            264,
            264
           ],
           "y": [
            108,
            108,
            107,
            108,
            108,
            106,
            109,
            108,
            107,
            111,
            109,
            111
           ],
           "z": [
            406,
            407,
            410,
            407,
            410,
            412,
            409,
            407,
            407,
            404,
            402,
            397
           ]
          },
          {
           "line": {
            "color": "black",
            "width": 4
           },
           "mode": "lines",
           "name": "Aproximación",
           "type": "scatter3d",
           "x": [
            408,
            369,
            340,
            305,
            270,
            258,
            263,
            269,
            267,
            269,
            268,
            264
           ],
           "y": [
            313,
            244,
            194,
            159,
            125,
            109,
            107,
            106,
            109,
            107,
            110,
            101
           ],
           "z": [
            111,
            182,
            257,
            317,
            394,
            408,
            428,
            427,
            412,
            404,
            391,
            383
           ]
          },
          {
           "marker": {
            "color": "red",
            "size": 5
           },
           "mode": "markers",
           "name": "Flor",
           "type": "scatter3d",
           "x": [
            264
           ],
           "y": [
            111
           ],
           "z": [
            397
           ]
          },
          {
           "marker": {
            "color": "black",
            "size": 5
           },
           "mode": "markers",
           "name": "Murciélago",
           "type": "scatter3d",
           "x": [
            264
           ],
           "y": [
            101
           ],
           "z": [
            383
           ]
          }
         ]
        },
        {
         "data": [
          {
           "line": {
            "color": "blue",
            "width": 4
           },
           "marker": {
            "color": "blue",
            "size": [
             0,
             0,
             0,
             0,
             0,
             0,
             0,
             5
            ]
           },
           "mode": "lines+markers",
           "name": "Alimentación",
           "type": "scatter3d",
           "x": [
            264,
            265,
            264,
            257,
            252,
            247,
            245,
            240,
            238
           ],
           "y": [
            109,
            107,
            95,
            92,
            93,
            106,
            115,
            124,
            127
           ],
           "z": [
            401,
            400,
            395,
            384,
            356,
            346,
            332,
            326,
            315
           ]
          },
          {
           "line": {
            "color": "black",
            "width": 4
           },
           "mode": "lines",
           "name": "Flor",
           "type": "scatter3d",
           "x": [
            268,
            267,
            267,
            269,
            269,
            269,
            269,
            266.5,
            264,
            266,
            264,
            264
           ],
           "y": [
            108,
            108,
            107,
            108,
            108,
            106,
            109,
            108,
            107,
            111,
            109,
            111
           ],
           "z": [
            406,
            407,
            410,
            407,
            410,
            412,
            409,
            407,
            407,
            404,
            402,
            397
           ]
          },
          {
           "line": {
            "color": "black",
            "width": 4
           },
           "mode": "lines",
           "name": "Aproximación",
           "type": "scatter3d",
           "x": [
            408,
            369,
            340,
            305,
            270,
            258,
            263,
            269,
            267,
            269,
            268,
            264
           ],
           "y": [
            313,
            244,
            194,
            159,
            125,
            109,
            107,
            106,
            109,
            107,
            110,
            101
           ],
           "z": [
            111,
            182,
            257,
            317,
            394,
            408,
            428,
            427,
            412,
            404,
            391,
            383
           ]
          },
          {
           "marker": {
            "color": "red",
            "size": 5
           },
           "mode": "markers",
           "name": "Flor",
           "type": "scatter3d",
           "x": [
            264
           ],
           "y": [
            111
           ],
           "z": [
            397
           ]
          },
          {
           "marker": {
            "color": "black",
            "size": 5
           },
           "mode": "markers",
           "name": "Murciélago",
           "type": "scatter3d",
           "x": [
            264
           ],
           "y": [
            101
           ],
           "z": [
            383
           ]
          }
         ]
        },
        {
         "data": [
          {
           "line": {
            "color": "blue",
            "width": 4
           },
           "marker": {
            "color": "blue",
            "size": [
             0,
             0,
             0,
             0,
             0,
             0,
             0,
             0,
             5
            ]
           },
           "mode": "lines+markers",
           "name": "Alimentación",
           "type": "scatter3d",
           "x": [
            264,
            265,
            264,
            257,
            252,
            247,
            245,
            240,
            238,
            235
           ],
           "y": [
            109,
            107,
            95,
            92,
            93,
            106,
            115,
            124,
            127,
            128
           ],
           "z": [
            401,
            400,
            395,
            384,
            356,
            346,
            332,
            326,
            315,
            308
           ]
          },
          {
           "line": {
            "color": "black",
            "width": 4
           },
           "mode": "lines",
           "name": "Flor",
           "type": "scatter3d",
           "x": [
            268,
            267,
            267,
            269,
            269,
            269,
            269,
            266.5,
            264,
            266,
            264,
            264
           ],
           "y": [
            108,
            108,
            107,
            108,
            108,
            106,
            109,
            108,
            107,
            111,
            109,
            111
           ],
           "z": [
            406,
            407,
            410,
            407,
            410,
            412,
            409,
            407,
            407,
            404,
            402,
            397
           ]
          },
          {
           "line": {
            "color": "black",
            "width": 4
           },
           "mode": "lines",
           "name": "Aproximación",
           "type": "scatter3d",
           "x": [
            408,
            369,
            340,
            305,
            270,
            258,
            263,
            269,
            267,
            269,
            268,
            264
           ],
           "y": [
            313,
            244,
            194,
            159,
            125,
            109,
            107,
            106,
            109,
            107,
            110,
            101
           ],
           "z": [
            111,
            182,
            257,
            317,
            394,
            408,
            428,
            427,
            412,
            404,
            391,
            383
           ]
          },
          {
           "marker": {
            "color": "red",
            "size": 5
           },
           "mode": "markers",
           "name": "Flor",
           "type": "scatter3d",
           "x": [
            264
           ],
           "y": [
            111
           ],
           "z": [
            397
           ]
          },
          {
           "marker": {
            "color": "black",
            "size": 5
           },
           "mode": "markers",
           "name": "Murciélago",
           "type": "scatter3d",
           "x": [
            264
           ],
           "y": [
            101
           ],
           "z": [
            383
           ]
          }
         ]
        },
        {
         "data": [
          {
           "line": {
            "color": "blue",
            "width": 4
           },
           "marker": {
            "color": "blue",
            "size": [
             0,
             0,
             0,
             0,
             0,
             0,
             0,
             0,
             0,
             5
            ]
           },
           "mode": "lines+markers",
           "name": "Alimentación",
           "type": "scatter3d",
           "x": [
            264,
            265,
            264,
            257,
            252,
            247,
            245,
            240,
            238,
            235,
            235
           ],
           "y": [
            109,
            107,
            95,
            92,
            93,
            106,
            115,
            124,
            127,
            128,
            128
           ],
           "z": [
            401,
            400,
            395,
            384,
            356,
            346,
            332,
            326,
            315,
            308,
            301
           ]
          },
          {
           "line": {
            "color": "black",
            "width": 4
           },
           "mode": "lines",
           "name": "Flor",
           "type": "scatter3d",
           "x": [
            268,
            267,
            267,
            269,
            269,
            269,
            269,
            266.5,
            264,
            266,
            264,
            264
           ],
           "y": [
            108,
            108,
            107,
            108,
            108,
            106,
            109,
            108,
            107,
            111,
            109,
            111
           ],
           "z": [
            406,
            407,
            410,
            407,
            410,
            412,
            409,
            407,
            407,
            404,
            402,
            397
           ]
          },
          {
           "line": {
            "color": "black",
            "width": 4
           },
           "mode": "lines",
           "name": "Aproximación",
           "type": "scatter3d",
           "x": [
            408,
            369,
            340,
            305,
            270,
            258,
            263,
            269,
            267,
            269,
            268,
            264
           ],
           "y": [
            313,
            244,
            194,
            159,
            125,
            109,
            107,
            106,
            109,
            107,
            110,
            101
           ],
           "z": [
            111,
            182,
            257,
            317,
            394,
            408,
            428,
            427,
            412,
            404,
            391,
            383
           ]
          },
          {
           "marker": {
            "color": "red",
            "size": 5
           },
           "mode": "markers",
           "name": "Flor",
           "type": "scatter3d",
           "x": [
            264
           ],
           "y": [
            111
           ],
           "z": [
            397
           ]
          },
          {
           "marker": {
            "color": "black",
            "size": 5
           },
           "mode": "markers",
           "name": "Murciélago",
           "type": "scatter3d",
           "x": [
            264
           ],
           "y": [
            101
           ],
           "z": [
            383
           ]
          }
         ]
        },
        {
         "data": [
          {
           "line": {
            "color": "blue",
            "width": 4
           },
           "marker": {
            "color": "blue",
            "size": [
             0,
             0,
             0,
             0,
             0,
             0,
             0,
             0,
             0,
             0,
             5
            ]
           },
           "mode": "lines+markers",
           "name": "Alimentación",
           "type": "scatter3d",
           "x": [
            264,
            265,
            264,
            257,
            252,
            247,
            245,
            240,
            238,
            235,
            235,
            232
           ],
           "y": [
            109,
            107,
            95,
            92,
            93,
            106,
            115,
            124,
            127,
            128,
            128,
            124
           ],
           "z": [
            401,
            400,
            395,
            384,
            356,
            346,
            332,
            326,
            315,
            308,
            301,
            298
           ]
          },
          {
           "line": {
            "color": "black",
            "width": 4
           },
           "mode": "lines",
           "name": "Flor",
           "type": "scatter3d",
           "x": [
            268,
            267,
            267,
            269,
            269,
            269,
            269,
            266.5,
            264,
            266,
            264,
            264
           ],
           "y": [
            108,
            108,
            107,
            108,
            108,
            106,
            109,
            108,
            107,
            111,
            109,
            111
           ],
           "z": [
            406,
            407,
            410,
            407,
            410,
            412,
            409,
            407,
            407,
            404,
            402,
            397
           ]
          },
          {
           "line": {
            "color": "black",
            "width": 4
           },
           "mode": "lines",
           "name": "Aproximación",
           "type": "scatter3d",
           "x": [
            408,
            369,
            340,
            305,
            270,
            258,
            263,
            269,
            267,
            269,
            268,
            264
           ],
           "y": [
            313,
            244,
            194,
            159,
            125,
            109,
            107,
            106,
            109,
            107,
            110,
            101
           ],
           "z": [
            111,
            182,
            257,
            317,
            394,
            408,
            428,
            427,
            412,
            404,
            391,
            383
           ]
          },
          {
           "marker": {
            "color": "red",
            "size": 5
           },
           "mode": "markers",
           "name": "Flor",
           "type": "scatter3d",
           "x": [
            264
           ],
           "y": [
            111
           ],
           "z": [
            397
           ]
          },
          {
           "marker": {
            "color": "black",
            "size": 5
           },
           "mode": "markers",
           "name": "Murciélago",
           "type": "scatter3d",
           "x": [
            264
           ],
           "y": [
            101
           ],
           "z": [
            383
           ]
          }
         ]
        },
        {
         "data": [
          {
           "line": {
            "color": "blue",
            "width": 4
           },
           "marker": {
            "color": "blue",
            "size": [
             0,
             0,
             0,
             0,
             0,
             0,
             0,
             0,
             0,
             0,
             0,
             5
            ]
           },
           "mode": "lines+markers",
           "name": "Alimentación",
           "type": "scatter3d",
           "x": [
            264,
            265,
            264,
            257,
            252,
            247,
            245,
            240,
            238,
            235,
            235,
            232,
            230
           ],
           "y": [
            109,
            107,
            95,
            92,
            93,
            106,
            115,
            124,
            127,
            128,
            128,
            124,
            121
           ],
           "z": [
            401,
            400,
            395,
            384,
            356,
            346,
            332,
            326,
            315,
            308,
            301,
            298,
            293
           ]
          },
          {
           "line": {
            "color": "black",
            "width": 4
           },
           "mode": "lines",
           "name": "Flor",
           "type": "scatter3d",
           "x": [
            268,
            267,
            267,
            269,
            269,
            269,
            269,
            266.5,
            264,
            266,
            264,
            264
           ],
           "y": [
            108,
            108,
            107,
            108,
            108,
            106,
            109,
            108,
            107,
            111,
            109,
            111
           ],
           "z": [
            406,
            407,
            410,
            407,
            410,
            412,
            409,
            407,
            407,
            404,
            402,
            397
           ]
          },
          {
           "line": {
            "color": "black",
            "width": 4
           },
           "mode": "lines",
           "name": "Aproximación",
           "type": "scatter3d",
           "x": [
            408,
            369,
            340,
            305,
            270,
            258,
            263,
            269,
            267,
            269,
            268,
            264
           ],
           "y": [
            313,
            244,
            194,
            159,
            125,
            109,
            107,
            106,
            109,
            107,
            110,
            101
           ],
           "z": [
            111,
            182,
            257,
            317,
            394,
            408,
            428,
            427,
            412,
            404,
            391,
            383
           ]
          },
          {
           "marker": {
            "color": "red",
            "size": 5
           },
           "mode": "markers",
           "name": "Flor",
           "type": "scatter3d",
           "x": [
            264
           ],
           "y": [
            111
           ],
           "z": [
            397
           ]
          },
          {
           "marker": {
            "color": "black",
            "size": 5
           },
           "mode": "markers",
           "name": "Murciélago",
           "type": "scatter3d",
           "x": [
            264
           ],
           "y": [
            101
           ],
           "z": [
            383
           ]
          }
         ]
        },
        {
         "data": [
          {
           "line": {
            "color": "blue",
            "width": 4
           },
           "marker": {
            "color": "blue",
            "size": [
             0,
             0,
             0,
             0,
             0,
             0,
             0,
             0,
             0,
             0,
             0,
             0,
             5
            ]
           },
           "mode": "lines+markers",
           "name": "Alimentación",
           "type": "scatter3d",
           "x": [
            264,
            265,
            264,
            257,
            252,
            247,
            245,
            240,
            238,
            235,
            235,
            232,
            230,
            229
           ],
           "y": [
            109,
            107,
            95,
            92,
            93,
            106,
            115,
            124,
            127,
            128,
            128,
            124,
            121,
            126
           ],
           "z": [
            401,
            400,
            395,
            384,
            356,
            346,
            332,
            326,
            315,
            308,
            301,
            298,
            293,
            283
           ]
          },
          {
           "line": {
            "color": "black",
            "width": 4
           },
           "mode": "lines",
           "name": "Flor",
           "type": "scatter3d",
           "x": [
            268,
            267,
            267,
            269,
            269,
            269,
            269,
            266.5,
            264,
            266,
            264,
            264
           ],
           "y": [
            108,
            108,
            107,
            108,
            108,
            106,
            109,
            108,
            107,
            111,
            109,
            111
           ],
           "z": [
            406,
            407,
            410,
            407,
            410,
            412,
            409,
            407,
            407,
            404,
            402,
            397
           ]
          },
          {
           "line": {
            "color": "black",
            "width": 4
           },
           "mode": "lines",
           "name": "Aproximación",
           "type": "scatter3d",
           "x": [
            408,
            369,
            340,
            305,
            270,
            258,
            263,
            269,
            267,
            269,
            268,
            264
           ],
           "y": [
            313,
            244,
            194,
            159,
            125,
            109,
            107,
            106,
            109,
            107,
            110,
            101
           ],
           "z": [
            111,
            182,
            257,
            317,
            394,
            408,
            428,
            427,
            412,
            404,
            391,
            383
           ]
          },
          {
           "marker": {
            "color": "red",
            "size": 5
           },
           "mode": "markers",
           "name": "Flor",
           "type": "scatter3d",
           "x": [
            264
           ],
           "y": [
            111
           ],
           "z": [
            397
           ]
          },
          {
           "marker": {
            "color": "black",
            "size": 5
           },
           "mode": "markers",
           "name": "Murciélago",
           "type": "scatter3d",
           "x": [
            264
           ],
           "y": [
            101
           ],
           "z": [
            383
           ]
          }
         ]
        },
        {
         "data": [
          {
           "line": {
            "color": "blue",
            "width": 4
           },
           "marker": {
            "color": "blue",
            "size": [
             0,
             0,
             0,
             0,
             0,
             0,
             0,
             0,
             0,
             0,
             0,
             0,
             0,
             5
            ]
           },
           "mode": "lines+markers",
           "name": "Alimentación",
           "type": "scatter3d",
           "x": [
            264,
            265,
            264,
            257,
            252,
            247,
            245,
            240,
            238,
            235,
            235,
            232,
            230,
            229,
            227
           ],
           "y": [
            109,
            107,
            95,
            92,
            93,
            106,
            115,
            124,
            127,
            128,
            128,
            124,
            121,
            126,
            128
           ],
           "z": [
            401,
            400,
            395,
            384,
            356,
            346,
            332,
            326,
            315,
            308,
            301,
            298,
            293,
            283,
            277
           ]
          },
          {
           "line": {
            "color": "black",
            "width": 4
           },
           "mode": "lines",
           "name": "Flor",
           "type": "scatter3d",
           "x": [
            268,
            267,
            267,
            269,
            269,
            269,
            269,
            266.5,
            264,
            266,
            264,
            264
           ],
           "y": [
            108,
            108,
            107,
            108,
            108,
            106,
            109,
            108,
            107,
            111,
            109,
            111
           ],
           "z": [
            406,
            407,
            410,
            407,
            410,
            412,
            409,
            407,
            407,
            404,
            402,
            397
           ]
          },
          {
           "line": {
            "color": "black",
            "width": 4
           },
           "mode": "lines",
           "name": "Aproximación",
           "type": "scatter3d",
           "x": [
            408,
            369,
            340,
            305,
            270,
            258,
            263,
            269,
            267,
            269,
            268,
            264
           ],
           "y": [
            313,
            244,
            194,
            159,
            125,
            109,
            107,
            106,
            109,
            107,
            110,
            101
           ],
           "z": [
            111,
            182,
            257,
            317,
            394,
            408,
            428,
            427,
            412,
            404,
            391,
            383
           ]
          },
          {
           "marker": {
            "color": "red",
            "size": 5
           },
           "mode": "markers",
           "name": "Flor",
           "type": "scatter3d",
           "x": [
            264
           ],
           "y": [
            111
           ],
           "z": [
            397
           ]
          },
          {
           "marker": {
            "color": "black",
            "size": 5
           },
           "mode": "markers",
           "name": "Murciélago",
           "type": "scatter3d",
           "x": [
            264
           ],
           "y": [
            101
           ],
           "z": [
            383
           ]
          }
         ]
        },
        {
         "data": [
          {
           "line": {
            "color": "blue",
            "width": 4
           },
           "marker": {
            "color": "blue",
            "size": [
             0,
             0,
             0,
             0,
             0,
             0,
             0,
             0,
             0,
             0,
             0,
             0,
             0,
             0,
             5
            ]
           },
           "mode": "lines+markers",
           "name": "Alimentación",
           "type": "scatter3d",
           "x": [
            264,
            265,
            264,
            257,
            252,
            247,
            245,
            240,
            238,
            235,
            235,
            232,
            230,
            229,
            227,
            226
           ],
           "y": [
            109,
            107,
            95,
            92,
            93,
            106,
            115,
            124,
            127,
            128,
            128,
            124,
            121,
            126,
            128,
            127
           ],
           "z": [
            401,
            400,
            395,
            384,
            356,
            346,
            332,
            326,
            315,
            308,
            301,
            298,
            293,
            283,
            277,
            274
           ]
          },
          {
           "line": {
            "color": "black",
            "width": 4
           },
           "mode": "lines",
           "name": "Flor",
           "type": "scatter3d",
           "x": [
            268,
            267,
            267,
            269,
            269,
            269,
            269,
            266.5,
            264,
            266,
            264,
            264
           ],
           "y": [
            108,
            108,
            107,
            108,
            108,
            106,
            109,
            108,
            107,
            111,
            109,
            111
           ],
           "z": [
            406,
            407,
            410,
            407,
            410,
            412,
            409,
            407,
            407,
            404,
            402,
            397
           ]
          },
          {
           "line": {
            "color": "black",
            "width": 4
           },
           "mode": "lines",
           "name": "Aproximación",
           "type": "scatter3d",
           "x": [
            408,
            369,
            340,
            305,
            270,
            258,
            263,
            269,
            267,
            269,
            268,
            264
           ],
           "y": [
            313,
            244,
            194,
            159,
            125,
            109,
            107,
            106,
            109,
            107,
            110,
            101
           ],
           "z": [
            111,
            182,
            257,
            317,
            394,
            408,
            428,
            427,
            412,
            404,
            391,
            383
           ]
          },
          {
           "marker": {
            "color": "red",
            "size": 5
           },
           "mode": "markers",
           "name": "Flor",
           "type": "scatter3d",
           "x": [
            264
           ],
           "y": [
            111
           ],
           "z": [
            397
           ]
          },
          {
           "marker": {
            "color": "black",
            "size": 5
           },
           "mode": "markers",
           "name": "Murciélago",
           "type": "scatter3d",
           "x": [
            264
           ],
           "y": [
            101
           ],
           "z": [
            383
           ]
          }
         ]
        },
        {
         "data": [
          {
           "line": {
            "color": "blue",
            "width": 4
           },
           "marker": {
            "color": "blue",
            "size": [
             0,
             0,
             0,
             0,
             0,
             0,
             0,
             0,
             0,
             0,
             0,
             0,
             0,
             0,
             0,
             5
            ]
           },
           "mode": "lines+markers",
           "name": "Alimentación",
           "type": "scatter3d",
           "x": [
            264,
            265,
            264,
            257,
            252,
            247,
            245,
            240,
            238,
            235,
            235,
            232,
            230,
            229,
            227,
            226,
            223
           ],
           "y": [
            109,
            107,
            95,
            92,
            93,
            106,
            115,
            124,
            127,
            128,
            128,
            124,
            121,
            126,
            128,
            127,
            122
           ],
           "z": [
            401,
            400,
            395,
            384,
            356,
            346,
            332,
            326,
            315,
            308,
            301,
            298,
            293,
            283,
            277,
            274,
            271
           ]
          },
          {
           "line": {
            "color": "black",
            "width": 4
           },
           "mode": "lines",
           "name": "Flor",
           "type": "scatter3d",
           "x": [
            268,
            267,
            267,
            269,
            269,
            269,
            269,
            266.5,
            264,
            266,
            264,
            264
           ],
           "y": [
            108,
            108,
            107,
            108,
            108,
            106,
            109,
            108,
            107,
            111,
            109,
            111
           ],
           "z": [
            406,
            407,
            410,
            407,
            410,
            412,
            409,
            407,
            407,
            404,
            402,
            397
           ]
          },
          {
           "line": {
            "color": "black",
            "width": 4
           },
           "mode": "lines",
           "name": "Aproximación",
           "type": "scatter3d",
           "x": [
            408,
            369,
            340,
            305,
            270,
            258,
            263,
            269,
            267,
            269,
            268,
            264
           ],
           "y": [
            313,
            244,
            194,
            159,
            125,
            109,
            107,
            106,
            109,
            107,
            110,
            101
           ],
           "z": [
            111,
            182,
            257,
            317,
            394,
            408,
            428,
            427,
            412,
            404,
            391,
            383
           ]
          },
          {
           "marker": {
            "color": "red",
            "size": 5
           },
           "mode": "markers",
           "name": "Flor",
           "type": "scatter3d",
           "x": [
            264
           ],
           "y": [
            111
           ],
           "z": [
            397
           ]
          },
          {
           "marker": {
            "color": "black",
            "size": 5
           },
           "mode": "markers",
           "name": "Murciélago",
           "type": "scatter3d",
           "x": [
            264
           ],
           "y": [
            101
           ],
           "z": [
            383
           ]
          }
         ]
        },
        {
         "data": [
          {
           "line": {
            "color": "blue",
            "width": 4
           },
           "marker": {
            "color": "blue",
            "size": [
             0,
             0,
             0,
             0,
             0,
             0,
             0,
             0,
             0,
             0,
             0,
             0,
             0,
             0,
             0,
             0,
             5
            ]
           },
           "mode": "lines+markers",
           "name": "Alimentación",
           "type": "scatter3d",
           "x": [
            264,
            265,
            264,
            257,
            252,
            247,
            245,
            240,
            238,
            235,
            235,
            232,
            230,
            229,
            227,
            226,
            223,
            224
           ],
           "y": [
            109,
            107,
            95,
            92,
            93,
            106,
            115,
            124,
            127,
            128,
            128,
            124,
            121,
            126,
            128,
            127,
            122,
            122
           ],
           "z": [
            401,
            400,
            395,
            384,
            356,
            346,
            332,
            326,
            315,
            308,
            301,
            298,
            293,
            283,
            277,
            274,
            271,
            264
           ]
          },
          {
           "line": {
            "color": "black",
            "width": 4
           },
           "mode": "lines",
           "name": "Flor",
           "type": "scatter3d",
           "x": [
            268,
            267,
            267,
            269,
            269,
            269,
            269,
            266.5,
            264,
            266,
            264,
            264
           ],
           "y": [
            108,
            108,
            107,
            108,
            108,
            106,
            109,
            108,
            107,
            111,
            109,
            111
           ],
           "z": [
            406,
            407,
            410,
            407,
            410,
            412,
            409,
            407,
            407,
            404,
            402,
            397
           ]
          },
          {
           "line": {
            "color": "black",
            "width": 4
           },
           "mode": "lines",
           "name": "Aproximación",
           "type": "scatter3d",
           "x": [
            408,
            369,
            340,
            305,
            270,
            258,
            263,
            269,
            267,
            269,
            268,
            264
           ],
           "y": [
            313,
            244,
            194,
            159,
            125,
            109,
            107,
            106,
            109,
            107,
            110,
            101
           ],
           "z": [
            111,
            182,
            257,
            317,
            394,
            408,
            428,
            427,
            412,
            404,
            391,
            383
           ]
          },
          {
           "marker": {
            "color": "red",
            "size": 5
           },
           "mode": "markers",
           "name": "Flor",
           "type": "scatter3d",
           "x": [
            264
           ],
           "y": [
            111
           ],
           "z": [
            397
           ]
          },
          {
           "marker": {
            "color": "black",
            "size": 5
           },
           "mode": "markers",
           "name": "Murciélago",
           "type": "scatter3d",
           "x": [
            264
           ],
           "y": [
            101
           ],
           "z": [
            383
           ]
          }
         ]
        },
        {
         "data": [
          {
           "line": {
            "color": "blue",
            "width": 4
           },
           "marker": {
            "color": "blue",
            "size": [
             0,
             0,
             0,
             0,
             0,
             0,
             0,
             0,
             0,
             0,
             0,
             0,
             0,
             0,
             0,
             0,
             0,
             5
            ]
           },
           "mode": "lines+markers",
           "name": "Alimentación",
           "type": "scatter3d",
           "x": [
            264,
            265,
            264,
            257,
            252,
            247,
            245,
            240,
            238,
            235,
            235,
            232,
            230,
            229,
            227,
            226,
            223,
            224,
            224
           ],
           "y": [
            109,
            107,
            95,
            92,
            93,
            106,
            115,
            124,
            127,
            128,
            128,
            124,
            121,
            126,
            128,
            127,
            122,
            122,
            126
           ],
           "z": [
            401,
            400,
            395,
            384,
            356,
            346,
            332,
            326,
            315,
            308,
            301,
            298,
            293,
            283,
            277,
            274,
            271,
            264,
            264
           ]
          },
          {
           "line": {
            "color": "black",
            "width": 4
           },
           "mode": "lines",
           "name": "Flor",
           "type": "scatter3d",
           "x": [
            268,
            267,
            267,
            269,
            269,
            269,
            269,
            266.5,
            264,
            266,
            264,
            264
           ],
           "y": [
            108,
            108,
            107,
            108,
            108,
            106,
            109,
            108,
            107,
            111,
            109,
            111
           ],
           "z": [
            406,
            407,
            410,
            407,
            410,
            412,
            409,
            407,
            407,
            404,
            402,
            397
           ]
          },
          {
           "line": {
            "color": "black",
            "width": 4
           },
           "mode": "lines",
           "name": "Aproximación",
           "type": "scatter3d",
           "x": [
            408,
            369,
            340,
            305,
            270,
            258,
            263,
            269,
            267,
            269,
            268,
            264
           ],
           "y": [
            313,
            244,
            194,
            159,
            125,
            109,
            107,
            106,
            109,
            107,
            110,
            101
           ],
           "z": [
            111,
            182,
            257,
            317,
            394,
            408,
            428,
            427,
            412,
            404,
            391,
            383
           ]
          },
          {
           "marker": {
            "color": "red",
            "size": 5
           },
           "mode": "markers",
           "name": "Flor",
           "type": "scatter3d",
           "x": [
            264
           ],
           "y": [
            111
           ],
           "z": [
            397
           ]
          },
          {
           "marker": {
            "color": "black",
            "size": 5
           },
           "mode": "markers",
           "name": "Murciélago",
           "type": "scatter3d",
           "x": [
            264
           ],
           "y": [
            101
           ],
           "z": [
            383
           ]
          }
         ]
        },
        {
         "data": [
          {
           "line": {
            "color": "blue",
            "width": 4
           },
           "marker": {
            "color": "blue",
            "size": [
             0,
             0,
             0,
             0,
             0,
             0,
             0,
             0,
             0,
             0,
             0,
             0,
             0,
             0,
             0,
             0,
             0,
             0,
             5
            ]
           },
           "mode": "lines+markers",
           "name": "Alimentación",
           "type": "scatter3d",
           "x": [
            264,
            265,
            264,
            257,
            252,
            247,
            245,
            240,
            238,
            235,
            235,
            232,
            230,
            229,
            227,
            226,
            223,
            224,
            224,
            220
           ],
           "y": [
            109,
            107,
            95,
            92,
            93,
            106,
            115,
            124,
            127,
            128,
            128,
            124,
            121,
            126,
            128,
            127,
            122,
            122,
            126,
            126
           ],
           "z": [
            401,
            400,
            395,
            384,
            356,
            346,
            332,
            326,
            315,
            308,
            301,
            298,
            293,
            283,
            277,
            274,
            271,
            264,
            264,
            256
           ]
          },
          {
           "line": {
            "color": "black",
            "width": 4
           },
           "mode": "lines",
           "name": "Flor",
           "type": "scatter3d",
           "x": [
            268,
            267,
            267,
            269,
            269,
            269,
            269,
            266.5,
            264,
            266,
            264,
            264
           ],
           "y": [
            108,
            108,
            107,
            108,
            108,
            106,
            109,
            108,
            107,
            111,
            109,
            111
           ],
           "z": [
            406,
            407,
            410,
            407,
            410,
            412,
            409,
            407,
            407,
            404,
            402,
            397
           ]
          },
          {
           "line": {
            "color": "black",
            "width": 4
           },
           "mode": "lines",
           "name": "Aproximación",
           "type": "scatter3d",
           "x": [
            408,
            369,
            340,
            305,
            270,
            258,
            263,
            269,
            267,
            269,
            268,
            264
           ],
           "y": [
            313,
            244,
            194,
            159,
            125,
            109,
            107,
            106,
            109,
            107,
            110,
            101
           ],
           "z": [
            111,
            182,
            257,
            317,
            394,
            408,
            428,
            427,
            412,
            404,
            391,
            383
           ]
          },
          {
           "marker": {
            "color": "red",
            "size": 5
           },
           "mode": "markers",
           "name": "Flor",
           "type": "scatter3d",
           "x": [
            264
           ],
           "y": [
            111
           ],
           "z": [
            397
           ]
          },
          {
           "marker": {
            "color": "black",
            "size": 5
           },
           "mode": "markers",
           "name": "Murciélago",
           "type": "scatter3d",
           "x": [
            264
           ],
           "y": [
            101
           ],
           "z": [
            383
           ]
          }
         ]
        },
        {
         "data": [
          {
           "line": {
            "color": "blue",
            "width": 4
           },
           "marker": {
            "color": "blue",
            "size": [
             0,
             0,
             0,
             0,
             0,
             0,
             0,
             0,
             0,
             0,
             0,
             0,
             0,
             0,
             0,
             0,
             0,
             0,
             0,
             5
            ]
           },
           "mode": "lines+markers",
           "name": "Alimentación",
           "type": "scatter3d",
           "x": [
            264,
            265,
            264,
            257,
            252,
            247,
            245,
            240,
            238,
            235,
            235,
            232,
            230,
            229,
            227,
            226,
            223,
            224,
            224,
            220,
            221
           ],
           "y": [
            109,
            107,
            95,
            92,
            93,
            106,
            115,
            124,
            127,
            128,
            128,
            124,
            121,
            126,
            128,
            127,
            122,
            122,
            126,
            126,
            123
           ],
           "z": [
            401,
            400,
            395,
            384,
            356,
            346,
            332,
            326,
            315,
            308,
            301,
            298,
            293,
            283,
            277,
            274,
            271,
            264,
            264,
            256,
            259
           ]
          },
          {
           "line": {
            "color": "black",
            "width": 4
           },
           "mode": "lines",
           "name": "Flor",
           "type": "scatter3d",
           "x": [
            268,
            267,
            267,
            269,
            269,
            269,
            269,
            266.5,
            264,
            266,
            264,
            264
           ],
           "y": [
            108,
            108,
            107,
            108,
            108,
            106,
            109,
            108,
            107,
            111,
            109,
            111
           ],
           "z": [
            406,
            407,
            410,
            407,
            410,
            412,
            409,
            407,
            407,
            404,
            402,
            397
           ]
          },
          {
           "line": {
            "color": "black",
            "width": 4
           },
           "mode": "lines",
           "name": "Aproximación",
           "type": "scatter3d",
           "x": [
            408,
            369,
            340,
            305,
            270,
            258,
            263,
            269,
            267,
            269,
            268,
            264
           ],
           "y": [
            313,
            244,
            194,
            159,
            125,
            109,
            107,
            106,
            109,
            107,
            110,
            101
           ],
           "z": [
            111,
            182,
            257,
            317,
            394,
            408,
            428,
            427,
            412,
            404,
            391,
            383
           ]
          },
          {
           "marker": {
            "color": "red",
            "size": 5
           },
           "mode": "markers",
           "name": "Flor",
           "type": "scatter3d",
           "x": [
            264
           ],
           "y": [
            111
           ],
           "z": [
            397
           ]
          },
          {
           "marker": {
            "color": "black",
            "size": 5
           },
           "mode": "markers",
           "name": "Murciélago",
           "type": "scatter3d",
           "x": [
            264
           ],
           "y": [
            101
           ],
           "z": [
            383
           ]
          }
         ]
        },
        {
         "data": [
          {
           "line": {
            "color": "blue",
            "width": 4
           },
           "marker": {
            "color": "blue",
            "size": [
             0,
             0,
             0,
             0,
             0,
             0,
             0,
             0,
             0,
             0,
             0,
             0,
             0,
             0,
             0,
             0,
             0,
             0,
             0,
             0,
             5
            ]
           },
           "mode": "lines+markers",
           "name": "Alimentación",
           "type": "scatter3d",
           "x": [
            264,
            265,
            264,
            257,
            252,
            247,
            245,
            240,
            238,
            235,
            235,
            232,
            230,
            229,
            227,
            226,
            223,
            224,
            224,
            220,
            221,
            220
           ],
           "y": [
            109,
            107,
            95,
            92,
            93,
            106,
            115,
            124,
            127,
            128,
            128,
            124,
            121,
            126,
            128,
            127,
            122,
            122,
            126,
            126,
            123,
            122
           ],
           "z": [
            401,
            400,
            395,
            384,
            356,
            346,
            332,
            326,
            315,
            308,
            301,
            298,
            293,
            283,
            277,
            274,
            271,
            264,
            264,
            256,
            259,
            260
           ]
          },
          {
           "line": {
            "color": "black",
            "width": 4
           },
           "mode": "lines",
           "name": "Flor",
           "type": "scatter3d",
           "x": [
            268,
            267,
            267,
            269,
            269,
            269,
            269,
            266.5,
            264,
            266,
            264,
            264
           ],
           "y": [
            108,
            108,
            107,
            108,
            108,
            106,
            109,
            108,
            107,
            111,
            109,
            111
           ],
           "z": [
            406,
            407,
            410,
            407,
            410,
            412,
            409,
            407,
            407,
            404,
            402,
            397
           ]
          },
          {
           "line": {
            "color": "black",
            "width": 4
           },
           "mode": "lines",
           "name": "Aproximación",
           "type": "scatter3d",
           "x": [
            408,
            369,
            340,
            305,
            270,
            258,
            263,
            269,
            267,
            269,
            268,
            264
           ],
           "y": [
            313,
            244,
            194,
            159,
            125,
            109,
            107,
            106,
            109,
            107,
            110,
            101
           ],
           "z": [
            111,
            182,
            257,
            317,
            394,
            408,
            428,
            427,
            412,
            404,
            391,
            383
           ]
          },
          {
           "marker": {
            "color": "red",
            "size": 5
           },
           "mode": "markers",
           "name": "Flor",
           "type": "scatter3d",
           "x": [
            264
           ],
           "y": [
            111
           ],
           "z": [
            397
           ]
          },
          {
           "marker": {
            "color": "black",
            "size": 5
           },
           "mode": "markers",
           "name": "Murciélago",
           "type": "scatter3d",
           "x": [
            264
           ],
           "y": [
            101
           ],
           "z": [
            383
           ]
          }
         ]
        },
        {
         "data": [
          {
           "line": {
            "color": "blue",
            "width": 4
           },
           "marker": {
            "color": "blue",
            "size": [
             0,
             0,
             0,
             0,
             0,
             0,
             0,
             0,
             0,
             0,
             0,
             0,
             0,
             0,
             0,
             0,
             0,
             0,
             0,
             0,
             0,
             5
            ]
           },
           "mode": "lines+markers",
           "name": "Alimentación",
           "type": "scatter3d",
           "x": [
            264,
            265,
            264,
            257,
            252,
            247,
            245,
            240,
            238,
            235,
            235,
            232,
            230,
            229,
            227,
            226,
            223,
            224,
            224,
            220,
            221,
            220,
            222
           ],
           "y": [
            109,
            107,
            95,
            92,
            93,
            106,
            115,
            124,
            127,
            128,
            128,
            124,
            121,
            126,
            128,
            127,
            122,
            122,
            126,
            126,
            123,
            122,
            127
           ],
           "z": [
            401,
            400,
            395,
            384,
            356,
            346,
            332,
            326,
            315,
            308,
            301,
            298,
            293,
            283,
            277,
            274,
            271,
            264,
            264,
            256,
            259,
            260,
            258
           ]
          },
          {
           "line": {
            "color": "black",
            "width": 4
           },
           "mode": "lines",
           "name": "Flor",
           "type": "scatter3d",
           "x": [
            268,
            267,
            267,
            269,
            269,
            269,
            269,
            266.5,
            264,
            266,
            264,
            264
           ],
           "y": [
            108,
            108,
            107,
            108,
            108,
            106,
            109,
            108,
            107,
            111,
            109,
            111
           ],
           "z": [
            406,
            407,
            410,
            407,
            410,
            412,
            409,
            407,
            407,
            404,
            402,
            397
           ]
          },
          {
           "line": {
            "color": "black",
            "width": 4
           },
           "mode": "lines",
           "name": "Aproximación",
           "type": "scatter3d",
           "x": [
            408,
            369,
            340,
            305,
            270,
            258,
            263,
            269,
            267,
            269,
            268,
            264
           ],
           "y": [
            313,
            244,
            194,
            159,
            125,
            109,
            107,
            106,
            109,
            107,
            110,
            101
           ],
           "z": [
            111,
            182,
            257,
            317,
            394,
            408,
            428,
            427,
            412,
            404,
            391,
            383
           ]
          },
          {
           "marker": {
            "color": "red",
            "size": 5
           },
           "mode": "markers",
           "name": "Flor",
           "type": "scatter3d",
           "x": [
            264
           ],
           "y": [
            111
           ],
           "z": [
            397
           ]
          },
          {
           "marker": {
            "color": "black",
            "size": 5
           },
           "mode": "markers",
           "name": "Murciélago",
           "type": "scatter3d",
           "x": [
            264
           ],
           "y": [
            101
           ],
           "z": [
            383
           ]
          }
         ]
        },
        {
         "data": [
          {
           "line": {
            "color": "blue",
            "width": 4
           },
           "marker": {
            "color": "blue",
            "size": [
             0,
             0,
             0,
             0,
             0,
             0,
             0,
             0,
             0,
             0,
             0,
             0,
             0,
             0,
             0,
             0,
             0,
             0,
             0,
             0,
             0,
             0,
             5
            ]
           },
           "mode": "lines+markers",
           "name": "Alimentación",
           "type": "scatter3d",
           "x": [
            264,
            265,
            264,
            257,
            252,
            247,
            245,
            240,
            238,
            235,
            235,
            232,
            230,
            229,
            227,
            226,
            223,
            224,
            224,
            220,
            221,
            220,
            222,
            222
           ],
           "y": [
            109,
            107,
            95,
            92,
            93,
            106,
            115,
            124,
            127,
            128,
            128,
            124,
            121,
            126,
            128,
            127,
            122,
            122,
            126,
            126,
            123,
            122,
            127,
            130
           ],
           "z": [
            401,
            400,
            395,
            384,
            356,
            346,
            332,
            326,
            315,
            308,
            301,
            298,
            293,
            283,
            277,
            274,
            271,
            264,
            264,
            256,
            259,
            260,
            258,
            255
           ]
          },
          {
           "line": {
            "color": "black",
            "width": 4
           },
           "mode": "lines",
           "name": "Flor",
           "type": "scatter3d",
           "x": [
            268,
            267,
            267,
            269,
            269,
            269,
            269,
            266.5,
            264,
            266,
            264,
            264
           ],
           "y": [
            108,
            108,
            107,
            108,
            108,
            106,
            109,
            108,
            107,
            111,
            109,
            111
           ],
           "z": [
            406,
            407,
            410,
            407,
            410,
            412,
            409,
            407,
            407,
            404,
            402,
            397
           ]
          },
          {
           "line": {
            "color": "black",
            "width": 4
           },
           "mode": "lines",
           "name": "Aproximación",
           "type": "scatter3d",
           "x": [
            408,
            369,
            340,
            305,
            270,
            258,
            263,
            269,
            267,
            269,
            268,
            264
           ],
           "y": [
            313,
            244,
            194,
            159,
            125,
            109,
            107,
            106,
            109,
            107,
            110,
            101
           ],
           "z": [
            111,
            182,
            257,
            317,
            394,
            408,
            428,
            427,
            412,
            404,
            391,
            383
           ]
          },
          {
           "marker": {
            "color": "red",
            "size": 5
           },
           "mode": "markers",
           "name": "Flor",
           "type": "scatter3d",
           "x": [
            264
           ],
           "y": [
            111
           ],
           "z": [
            397
           ]
          },
          {
           "marker": {
            "color": "black",
            "size": 5
           },
           "mode": "markers",
           "name": "Murciélago",
           "type": "scatter3d",
           "x": [
            264
           ],
           "y": [
            101
           ],
           "z": [
            383
           ]
          }
         ]
        },
        {
         "data": [
          {
           "line": {
            "color": "blue",
            "width": 4
           },
           "marker": {
            "color": "blue",
            "size": [
             0,
             0,
             0,
             0,
             0,
             0,
             0,
             0,
             0,
             0,
             0,
             0,
             0,
             0,
             0,
             0,
             0,
             0,
             0,
             0,
             0,
             0,
             0,
             5
            ]
           },
           "mode": "lines+markers",
           "name": "Alimentación",
           "type": "scatter3d",
           "x": [
            264,
            265,
            264,
            257,
            252,
            247,
            245,
            240,
            238,
            235,
            235,
            232,
            230,
            229,
            227,
            226,
            223,
            224,
            224,
            220,
            221,
            220,
            222,
            222,
            222
           ],
           "y": [
            109,
            107,
            95,
            92,
            93,
            106,
            115,
            124,
            127,
            128,
            128,
            124,
            121,
            126,
            128,
            127,
            122,
            122,
            126,
            126,
            123,
            122,
            127,
            130,
            129
           ],
           "z": [
            401,
            400,
            395,
            384,
            356,
            346,
            332,
            326,
            315,
            308,
            301,
            298,
            293,
            283,
            277,
            274,
            271,
            264,
            264,
            256,
            259,
            260,
            258,
            255,
            255
           ]
          },
          {
           "line": {
            "color": "black",
            "width": 4
           },
           "mode": "lines",
           "name": "Flor",
           "type": "scatter3d",
           "x": [
            268,
            267,
            267,
            269,
            269,
            269,
            269,
            266.5,
            264,
            266,
            264,
            264
           ],
           "y": [
            108,
            108,
            107,
            108,
            108,
            106,
            109,
            108,
            107,
            111,
            109,
            111
           ],
           "z": [
            406,
            407,
            410,
            407,
            410,
            412,
            409,
            407,
            407,
            404,
            402,
            397
           ]
          },
          {
           "line": {
            "color": "black",
            "width": 4
           },
           "mode": "lines",
           "name": "Aproximación",
           "type": "scatter3d",
           "x": [
            408,
            369,
            340,
            305,
            270,
            258,
            263,
            269,
            267,
            269,
            268,
            264
           ],
           "y": [
            313,
            244,
            194,
            159,
            125,
            109,
            107,
            106,
            109,
            107,
            110,
            101
           ],
           "z": [
            111,
            182,
            257,
            317,
            394,
            408,
            428,
            427,
            412,
            404,
            391,
            383
           ]
          },
          {
           "marker": {
            "color": "red",
            "size": 5
           },
           "mode": "markers",
           "name": "Flor",
           "type": "scatter3d",
           "x": [
            264
           ],
           "y": [
            111
           ],
           "z": [
            397
           ]
          },
          {
           "marker": {
            "color": "black",
            "size": 5
           },
           "mode": "markers",
           "name": "Murciélago",
           "type": "scatter3d",
           "x": [
            264
           ],
           "y": [
            101
           ],
           "z": [
            383
           ]
          }
         ]
        },
        {
         "data": [
          {
           "line": {
            "color": "blue",
            "width": 4
           },
           "marker": {
            "color": "blue",
            "size": [
             0,
             0,
             0,
             0,
             0,
             0,
             0,
             0,
             0,
             0,
             0,
             0,
             0,
             0,
             0,
             0,
             0,
             0,
             0,
             0,
             0,
             0,
             0,
             0,
             5
            ]
           },
           "mode": "lines+markers",
           "name": "Alimentación",
           "type": "scatter3d",
           "x": [
            264,
            265,
            264,
            257,
            252,
            247,
            245,
            240,
            238,
            235,
            235,
            232,
            230,
            229,
            227,
            226,
            223,
            224,
            224,
            220,
            221,
            220,
            222,
            222,
            222,
            226
           ],
           "y": [
            109,
            107,
            95,
            92,
            93,
            106,
            115,
            124,
            127,
            128,
            128,
            124,
            121,
            126,
            128,
            127,
            122,
            122,
            126,
            126,
            123,
            122,
            127,
            130,
            129,
            129
           ],
           "z": [
            401,
            400,
            395,
            384,
            356,
            346,
            332,
            326,
            315,
            308,
            301,
            298,
            293,
            283,
            277,
            274,
            271,
            264,
            264,
            256,
            259,
            260,
            258,
            255,
            255,
            261
           ]
          },
          {
           "line": {
            "color": "black",
            "width": 4
           },
           "mode": "lines",
           "name": "Flor",
           "type": "scatter3d",
           "x": [
            268,
            267,
            267,
            269,
            269,
            269,
            269,
            266.5,
            264,
            266,
            264,
            264
           ],
           "y": [
            108,
            108,
            107,
            108,
            108,
            106,
            109,
            108,
            107,
            111,
            109,
            111
           ],
           "z": [
            406,
            407,
            410,
            407,
            410,
            412,
            409,
            407,
            407,
            404,
            402,
            397
           ]
          },
          {
           "line": {
            "color": "black",
            "width": 4
           },
           "mode": "lines",
           "name": "Aproximación",
           "type": "scatter3d",
           "x": [
            408,
            369,
            340,
            305,
            270,
            258,
            263,
            269,
            267,
            269,
            268,
            264
           ],
           "y": [
            313,
            244,
            194,
            159,
            125,
            109,
            107,
            106,
            109,
            107,
            110,
            101
           ],
           "z": [
            111,
            182,
            257,
            317,
            394,
            408,
            428,
            427,
            412,
            404,
            391,
            383
           ]
          },
          {
           "marker": {
            "color": "red",
            "size": 5
           },
           "mode": "markers",
           "name": "Flor",
           "type": "scatter3d",
           "x": [
            264
           ],
           "y": [
            111
           ],
           "z": [
            397
           ]
          },
          {
           "marker": {
            "color": "black",
            "size": 5
           },
           "mode": "markers",
           "name": "Murciélago",
           "type": "scatter3d",
           "x": [
            264
           ],
           "y": [
            101
           ],
           "z": [
            383
           ]
          }
         ]
        },
        {
         "data": [
          {
           "line": {
            "color": "blue",
            "width": 4
           },
           "marker": {
            "color": "blue",
            "size": [
             0,
             0,
             0,
             0,
             0,
             0,
             0,
             0,
             0,
             0,
             0,
             0,
             0,
             0,
             0,
             0,
             0,
             0,
             0,
             0,
             0,
             0,
             0,
             0,
             0,
             5
            ]
           },
           "mode": "lines+markers",
           "name": "Alimentación",
           "type": "scatter3d",
           "x": [
            264,
            265,
            264,
            257,
            252,
            247,
            245,
            240,
            238,
            235,
            235,
            232,
            230,
            229,
            227,
            226,
            223,
            224,
            224,
            220,
            221,
            220,
            222,
            222,
            222,
            226,
            230
           ],
           "y": [
            109,
            107,
            95,
            92,
            93,
            106,
            115,
            124,
            127,
            128,
            128,
            124,
            121,
            126,
            128,
            127,
            122,
            122,
            126,
            126,
            123,
            122,
            127,
            130,
            129,
            129,
            129
           ],
           "z": [
            401,
            400,
            395,
            384,
            356,
            346,
            332,
            326,
            315,
            308,
            301,
            298,
            293,
            283,
            277,
            274,
            271,
            264,
            264,
            256,
            259,
            260,
            258,
            255,
            255,
            261,
            259
           ]
          },
          {
           "line": {
            "color": "black",
            "width": 4
           },
           "mode": "lines",
           "name": "Flor",
           "type": "scatter3d",
           "x": [
            268,
            267,
            267,
            269,
            269,
            269,
            269,
            266.5,
            264,
            266,
            264,
            264
           ],
           "y": [
            108,
            108,
            107,
            108,
            108,
            106,
            109,
            108,
            107,
            111,
            109,
            111
           ],
           "z": [
            406,
            407,
            410,
            407,
            410,
            412,
            409,
            407,
            407,
            404,
            402,
            397
           ]
          },
          {
           "line": {
            "color": "black",
            "width": 4
           },
           "mode": "lines",
           "name": "Aproximación",
           "type": "scatter3d",
           "x": [
            408,
            369,
            340,
            305,
            270,
            258,
            263,
            269,
            267,
            269,
            268,
            264
           ],
           "y": [
            313,
            244,
            194,
            159,
            125,
            109,
            107,
            106,
            109,
            107,
            110,
            101
           ],
           "z": [
            111,
            182,
            257,
            317,
            394,
            408,
            428,
            427,
            412,
            404,
            391,
            383
           ]
          },
          {
           "marker": {
            "color": "red",
            "size": 5
           },
           "mode": "markers",
           "name": "Flor",
           "type": "scatter3d",
           "x": [
            264
           ],
           "y": [
            111
           ],
           "z": [
            397
           ]
          },
          {
           "marker": {
            "color": "black",
            "size": 5
           },
           "mode": "markers",
           "name": "Murciélago",
           "type": "scatter3d",
           "x": [
            264
           ],
           "y": [
            101
           ],
           "z": [
            383
           ]
          }
         ]
        },
        {
         "data": [
          {
           "line": {
            "color": "blue",
            "width": 4
           },
           "marker": {
            "color": "blue",
            "size": [
             0,
             0,
             0,
             0,
             0,
             0,
             0,
             0,
             0,
             0,
             0,
             0,
             0,
             0,
             0,
             0,
             0,
             0,
             0,
             0,
             0,
             0,
             0,
             0,
             0,
             0,
             5
            ]
           },
           "mode": "lines+markers",
           "name": "Alimentación",
           "type": "scatter3d",
           "x": [
            264,
            265,
            264,
            257,
            252,
            247,
            245,
            240,
            238,
            235,
            235,
            232,
            230,
            229,
            227,
            226,
            223,
            224,
            224,
            220,
            221,
            220,
            222,
            222,
            222,
            226,
            230,
            233
           ],
           "y": [
            109,
            107,
            95,
            92,
            93,
            106,
            115,
            124,
            127,
            128,
            128,
            124,
            121,
            126,
            128,
            127,
            122,
            122,
            126,
            126,
            123,
            122,
            127,
            130,
            129,
            129,
            129,
            137
           ],
           "z": [
            401,
            400,
            395,
            384,
            356,
            346,
            332,
            326,
            315,
            308,
            301,
            298,
            293,
            283,
            277,
            274,
            271,
            264,
            264,
            256,
            259,
            260,
            258,
            255,
            255,
            261,
            259,
            263
           ]
          },
          {
           "line": {
            "color": "black",
            "width": 4
           },
           "mode": "lines",
           "name": "Flor",
           "type": "scatter3d",
           "x": [
            268,
            267,
            267,
            269,
            269,
            269,
            269,
            266.5,
            264,
            266,
            264,
            264
           ],
           "y": [
            108,
            108,
            107,
            108,
            108,
            106,
            109,
            108,
            107,
            111,
            109,
            111
           ],
           "z": [
            406,
            407,
            410,
            407,
            410,
            412,
            409,
            407,
            407,
            404,
            402,
            397
           ]
          },
          {
           "line": {
            "color": "black",
            "width": 4
           },
           "mode": "lines",
           "name": "Aproximación",
           "type": "scatter3d",
           "x": [
            408,
            369,
            340,
            305,
            270,
            258,
            263,
            269,
            267,
            269,
            268,
            264
           ],
           "y": [
            313,
            244,
            194,
            159,
            125,
            109,
            107,
            106,
            109,
            107,
            110,
            101
           ],
           "z": [
            111,
            182,
            257,
            317,
            394,
            408,
            428,
            427,
            412,
            404,
            391,
            383
           ]
          },
          {
           "marker": {
            "color": "red",
            "size": 5
           },
           "mode": "markers",
           "name": "Flor",
           "type": "scatter3d",
           "x": [
            264
           ],
           "y": [
            111
           ],
           "z": [
            397
           ]
          },
          {
           "marker": {
            "color": "black",
            "size": 5
           },
           "mode": "markers",
           "name": "Murciélago",
           "type": "scatter3d",
           "x": [
            264
           ],
           "y": [
            101
           ],
           "z": [
            383
           ]
          }
         ]
        },
        {
         "data": [
          {
           "line": {
            "color": "black",
            "width": 4
           },
           "marker": {
            "color": "black",
            "size": [
             5
            ]
           },
           "mode": "lines+markers",
           "name": "Alejamiento",
           "type": "scatter3d",
           "x": [
            240
           ],
           "y": [
            134
           ],
           "z": [
            255
           ]
          },
          {
           "line": {
            "color": "red",
            "width": 4
           },
           "marker": {
            "color": "red",
            "size": [
             5
            ]
           },
           "mode": "lines+markers",
           "name": "Flor",
           "type": "scatter3d",
           "x": [
            242
           ],
           "y": [
            140
           ],
           "z": [
            278
           ]
          },
          {
           "marker": {
            "color": "black",
            "size": 5
           },
           "mode": "markers",
           "name": "Murciélago",
           "type": "scatter3d",
           "x": [
            233
           ],
           "y": [
            137
           ],
           "z": [
            263
           ]
          },
          {
           "line": {
            "color": "blue",
            "width": 4
           },
           "mode": "lines",
           "name": "Aliemntación",
           "type": "scatter3d",
           "x": [
            264,
            265,
            264,
            257,
            252,
            247,
            245,
            240,
            238,
            235,
            235,
            232,
            230,
            229,
            227,
            226,
            223,
            224,
            224,
            220,
            221,
            220,
            222,
            222,
            222,
            226,
            230,
            233
           ],
           "y": [
            109,
            107,
            95,
            92,
            93,
            106,
            115,
            124,
            127,
            128,
            128,
            124,
            121,
            126,
            128,
            127,
            122,
            122,
            126,
            126,
            123,
            122,
            127,
            130,
            129,
            129,
            129,
            137
           ],
           "z": [
            401,
            400,
            395,
            384,
            356,
            346,
            332,
            326,
            315,
            308,
            301,
            298,
            293,
            283,
            277,
            274,
            271,
            264,
            264,
            256,
            259,
            260,
            258,
            255,
            255,
            261,
            259,
            263
           ]
          },
          {
           "line": {
            "color": "red",
            "width": 4
           },
           "mode": "lines",
           "name": "Flor",
           "type": "scatter3d",
           "x": [
            268,
            267,
            267,
            269,
            269,
            269,
            269,
            266.5,
            264,
            266,
            264,
            264
           ],
           "y": [
            108,
            108,
            107,
            108,
            108,
            106,
            109,
            108,
            107,
            111,
            109,
            111
           ],
           "z": [
            406,
            407,
            410,
            407,
            410,
            412,
            409,
            407,
            407,
            404,
            402,
            397
           ]
          },
          {
           "line": {
            "color": "black",
            "width": 4
           },
           "mode": "lines",
           "name": "Aproximación",
           "type": "scatter3d",
           "x": [
            408,
            369,
            340,
            305,
            270,
            258,
            263,
            269,
            267,
            269,
            268,
            264
           ],
           "y": [
            313,
            244,
            194,
            159,
            125,
            109,
            107,
            106,
            109,
            107,
            110,
            101
           ],
           "z": [
            111,
            182,
            257,
            317,
            394,
            408,
            428,
            427,
            412,
            404,
            391,
            383
           ]
          },
          {
           "marker": {
            "color": "red",
            "size": 5
           },
           "mode": "markers",
           "name": "Flor",
           "type": "scatter3d",
           "x": [
            264
           ],
           "y": [
            111
           ],
           "z": [
            397
           ]
          },
          {
           "marker": {
            "color": "black",
            "size": 5
           },
           "mode": "markers",
           "name": "Murciélago",
           "type": "scatter3d",
           "x": [
            264
           ],
           "y": [
            101
           ],
           "z": [
            383
           ]
          }
         ]
        },
        {
         "data": [
          {
           "line": {
            "color": "black",
            "width": 4
           },
           "marker": {
            "color": "black",
            "size": [
             5
            ]
           },
           "mode": "lines+markers",
           "name": "Alejamiento",
           "type": "scatter3d",
           "x": [
            240,
            252
           ],
           "y": [
            134,
            135
           ],
           "z": [
            255,
            271
           ]
          },
          {
           "line": {
            "color": "red",
            "width": 4
           },
           "marker": {
            "color": "red",
            "size": [
             5
            ]
           },
           "mode": "lines+markers",
           "name": "Flor",
           "type": "scatter3d",
           "x": [
            242,
            252
           ],
           "y": [
            140,
            129
           ],
           "z": [
            278,
            299
           ]
          },
          {
           "marker": {
            "color": "black",
            "size": 5
           },
           "mode": "markers",
           "name": "Murciélago",
           "type": "scatter3d",
           "x": [
            233
           ],
           "y": [
            137
           ],
           "z": [
            263
           ]
          },
          {
           "line": {
            "color": "blue",
            "width": 4
           },
           "mode": "lines",
           "name": "Aliemntación",
           "type": "scatter3d",
           "x": [
            264,
            265,
            264,
            257,
            252,
            247,
            245,
            240,
            238,
            235,
            235,
            232,
            230,
            229,
            227,
            226,
            223,
            224,
            224,
            220,
            221,
            220,
            222,
            222,
            222,
            226,
            230,
            233
           ],
           "y": [
            109,
            107,
            95,
            92,
            93,
            106,
            115,
            124,
            127,
            128,
            128,
            124,
            121,
            126,
            128,
            127,
            122,
            122,
            126,
            126,
            123,
            122,
            127,
            130,
            129,
            129,
            129,
            137
           ],
           "z": [
            401,
            400,
            395,
            384,
            356,
            346,
            332,
            326,
            315,
            308,
            301,
            298,
            293,
            283,
            277,
            274,
            271,
            264,
            264,
            256,
            259,
            260,
            258,
            255,
            255,
            261,
            259,
            263
           ]
          },
          {
           "line": {
            "color": "red",
            "width": 4
           },
           "mode": "lines",
           "name": "Flor",
           "type": "scatter3d",
           "x": [
            268,
            267,
            267,
            269,
            269,
            269,
            269,
            266.5,
            264,
            266,
            264,
            264
           ],
           "y": [
            108,
            108,
            107,
            108,
            108,
            106,
            109,
            108,
            107,
            111,
            109,
            111
           ],
           "z": [
            406,
            407,
            410,
            407,
            410,
            412,
            409,
            407,
            407,
            404,
            402,
            397
           ]
          },
          {
           "line": {
            "color": "black",
            "width": 4
           },
           "mode": "lines",
           "name": "Aproximación",
           "type": "scatter3d",
           "x": [
            408,
            369,
            340,
            305,
            270,
            258,
            263,
            269,
            267,
            269,
            268,
            264
           ],
           "y": [
            313,
            244,
            194,
            159,
            125,
            109,
            107,
            106,
            109,
            107,
            110,
            101
           ],
           "z": [
            111,
            182,
            257,
            317,
            394,
            408,
            428,
            427,
            412,
            404,
            391,
            383
           ]
          },
          {
           "marker": {
            "color": "red",
            "size": 5
           },
           "mode": "markers",
           "name": "Flor",
           "type": "scatter3d",
           "x": [
            264
           ],
           "y": [
            111
           ],
           "z": [
            397
           ]
          },
          {
           "marker": {
            "color": "black",
            "size": 5
           },
           "mode": "markers",
           "name": "Murciélago",
           "type": "scatter3d",
           "x": [
            264
           ],
           "y": [
            101
           ],
           "z": [
            383
           ]
          }
         ]
        },
        {
         "data": [
          {
           "line": {
            "color": "black",
            "width": 4
           },
           "marker": {
            "color": "black",
            "size": [
             0,
             5
            ]
           },
           "mode": "lines+markers",
           "name": "Alejamiento",
           "type": "scatter3d",
           "x": [
            240,
            252,
            254
           ],
           "y": [
            134,
            135,
            124
           ],
           "z": [
            255,
            271,
            273
           ]
          },
          {
           "line": {
            "color": "red",
            "width": 4
           },
           "marker": {
            "color": "red",
            "size": [
             0,
             5
            ]
           },
           "mode": "lines+markers",
           "name": "Flor",
           "type": "scatter3d",
           "x": [
            242,
            252,
            262
           ],
           "y": [
            140,
            129,
            124
           ],
           "z": [
            278,
            299,
            336
           ]
          },
          {
           "marker": {
            "color": "black",
            "size": 5
           },
           "mode": "markers",
           "name": "Murciélago",
           "type": "scatter3d",
           "x": [
            233
           ],
           "y": [
            137
           ],
           "z": [
            263
           ]
          },
          {
           "line": {
            "color": "blue",
            "width": 4
           },
           "mode": "lines",
           "name": "Aliemntación",
           "type": "scatter3d",
           "x": [
            264,
            265,
            264,
            257,
            252,
            247,
            245,
            240,
            238,
            235,
            235,
            232,
            230,
            229,
            227,
            226,
            223,
            224,
            224,
            220,
            221,
            220,
            222,
            222,
            222,
            226,
            230,
            233
           ],
           "y": [
            109,
            107,
            95,
            92,
            93,
            106,
            115,
            124,
            127,
            128,
            128,
            124,
            121,
            126,
            128,
            127,
            122,
            122,
            126,
            126,
            123,
            122,
            127,
            130,
            129,
            129,
            129,
            137
           ],
           "z": [
            401,
            400,
            395,
            384,
            356,
            346,
            332,
            326,
            315,
            308,
            301,
            298,
            293,
            283,
            277,
            274,
            271,
            264,
            264,
            256,
            259,
            260,
            258,
            255,
            255,
            261,
            259,
            263
           ]
          },
          {
           "line": {
            "color": "red",
            "width": 4
           },
           "mode": "lines",
           "name": "Flor",
           "type": "scatter3d",
           "x": [
            268,
            267,
            267,
            269,
            269,
            269,
            269,
            266.5,
            264,
            266,
            264,
            264
           ],
           "y": [
            108,
            108,
            107,
            108,
            108,
            106,
            109,
            108,
            107,
            111,
            109,
            111
           ],
           "z": [
            406,
            407,
            410,
            407,
            410,
            412,
            409,
            407,
            407,
            404,
            402,
            397
           ]
          },
          {
           "line": {
            "color": "black",
            "width": 4
           },
           "mode": "lines",
           "name": "Aproximación",
           "type": "scatter3d",
           "x": [
            408,
            369,
            340,
            305,
            270,
            258,
            263,
            269,
            267,
            269,
            268,
            264
           ],
           "y": [
            313,
            244,
            194,
            159,
            125,
            109,
            107,
            106,
            109,
            107,
            110,
            101
           ],
           "z": [
            111,
            182,
            257,
            317,
            394,
            408,
            428,
            427,
            412,
            404,
            391,
            383
           ]
          },
          {
           "marker": {
            "color": "red",
            "size": 5
           },
           "mode": "markers",
           "name": "Flor",
           "type": "scatter3d",
           "x": [
            264
           ],
           "y": [
            111
           ],
           "z": [
            397
           ]
          },
          {
           "marker": {
            "color": "black",
            "size": 5
           },
           "mode": "markers",
           "name": "Murciélago",
           "type": "scatter3d",
           "x": [
            264
           ],
           "y": [
            101
           ],
           "z": [
            383
           ]
          }
         ]
        },
        {
         "data": [
          {
           "line": {
            "color": "black",
            "width": 4
           },
           "marker": {
            "color": "black",
            "size": [
             0,
             0,
             5
            ]
           },
           "mode": "lines+markers",
           "name": "Alejamiento",
           "type": "scatter3d",
           "x": [
            240,
            252,
            254,
            260
           ],
           "y": [
            134,
            135,
            124,
            116
           ],
           "z": [
            255,
            271,
            273,
            274
           ]
          },
          {
           "line": {
            "color": "red",
            "width": 4
           },
           "marker": {
            "color": "red",
            "size": [
             0,
             0,
             5
            ]
           },
           "mode": "lines+markers",
           "name": "Flor",
           "type": "scatter3d",
           "x": [
            242,
            252,
            262,
            276
           ],
           "y": [
            140,
            129,
            124,
            122
           ],
           "z": [
            278,
            299,
            336,
            379
           ]
          },
          {
           "marker": {
            "color": "black",
            "size": 5
           },
           "mode": "markers",
           "name": "Murciélago",
           "type": "scatter3d",
           "x": [
            233
           ],
           "y": [
            137
           ],
           "z": [
            263
           ]
          },
          {
           "line": {
            "color": "blue",
            "width": 4
           },
           "mode": "lines",
           "name": "Aliemntación",
           "type": "scatter3d",
           "x": [
            264,
            265,
            264,
            257,
            252,
            247,
            245,
            240,
            238,
            235,
            235,
            232,
            230,
            229,
            227,
            226,
            223,
            224,
            224,
            220,
            221,
            220,
            222,
            222,
            222,
            226,
            230,
            233
           ],
           "y": [
            109,
            107,
            95,
            92,
            93,
            106,
            115,
            124,
            127,
            128,
            128,
            124,
            121,
            126,
            128,
            127,
            122,
            122,
            126,
            126,
            123,
            122,
            127,
            130,
            129,
            129,
            129,
            137
           ],
           "z": [
            401,
            400,
            395,
            384,
            356,
            346,
            332,
            326,
            315,
            308,
            301,
            298,
            293,
            283,
            277,
            274,
            271,
            264,
            264,
            256,
            259,
            260,
            258,
            255,
            255,
            261,
            259,
            263
           ]
          },
          {
           "line": {
            "color": "red",
            "width": 4
           },
           "mode": "lines",
           "name": "Flor",
           "type": "scatter3d",
           "x": [
            268,
            267,
            267,
            269,
            269,
            269,
            269,
            266.5,
            264,
            266,
            264,
            264
           ],
           "y": [
            108,
            108,
            107,
            108,
            108,
            106,
            109,
            108,
            107,
            111,
            109,
            111
           ],
           "z": [
            406,
            407,
            410,
            407,
            410,
            412,
            409,
            407,
            407,
            404,
            402,
            397
           ]
          },
          {
           "line": {
            "color": "black",
            "width": 4
           },
           "mode": "lines",
           "name": "Aproximación",
           "type": "scatter3d",
           "x": [
            408,
            369,
            340,
            305,
            270,
            258,
            263,
            269,
            267,
            269,
            268,
            264
           ],
           "y": [
            313,
            244,
            194,
            159,
            125,
            109,
            107,
            106,
            109,
            107,
            110,
            101
           ],
           "z": [
            111,
            182,
            257,
            317,
            394,
            408,
            428,
            427,
            412,
            404,
            391,
            383
           ]
          },
          {
           "marker": {
            "color": "red",
            "size": 5
           },
           "mode": "markers",
           "name": "Flor",
           "type": "scatter3d",
           "x": [
            264
           ],
           "y": [
            111
           ],
           "z": [
            397
           ]
          },
          {
           "marker": {
            "color": "black",
            "size": 5
           },
           "mode": "markers",
           "name": "Murciélago",
           "type": "scatter3d",
           "x": [
            264
           ],
           "y": [
            101
           ],
           "z": [
            383
           ]
          }
         ]
        },
        {
         "data": [
          {
           "line": {
            "color": "black",
            "width": 4
           },
           "marker": {
            "color": "black",
            "size": [
             0,
             0,
             0,
             5
            ]
           },
           "mode": "lines+markers",
           "name": "Alejamiento",
           "type": "scatter3d",
           "x": [
            240,
            252,
            254,
            260,
            268
           ],
           "y": [
            134,
            135,
            124,
            116,
            105
           ],
           "z": [
            255,
            271,
            273,
            274,
            282
           ]
          },
          {
           "line": {
            "color": "red",
            "width": 4
           },
           "marker": {
            "color": "red",
            "size": [
             0,
             0,
             0,
             5
            ]
           },
           "mode": "lines+markers",
           "name": "Flor",
           "type": "scatter3d",
           "x": [
            242,
            252,
            262,
            276,
            279
           ],
           "y": [
            140,
            129,
            124,
            122,
            105
           ],
           "z": [
            278,
            299,
            336,
            379,
            417
           ]
          },
          {
           "marker": {
            "color": "black",
            "size": 5
           },
           "mode": "markers",
           "name": "Murciélago",
           "type": "scatter3d",
           "x": [
            233
           ],
           "y": [
            137
           ],
           "z": [
            263
           ]
          },
          {
           "line": {
            "color": "blue",
            "width": 4
           },
           "mode": "lines",
           "name": "Aliemntación",
           "type": "scatter3d",
           "x": [
            264,
            265,
            264,
            257,
            252,
            247,
            245,
            240,
            238,
            235,
            235,
            232,
            230,
            229,
            227,
            226,
            223,
            224,
            224,
            220,
            221,
            220,
            222,
            222,
            222,
            226,
            230,
            233
           ],
           "y": [
            109,
            107,
            95,
            92,
            93,
            106,
            115,
            124,
            127,
            128,
            128,
            124,
            121,
            126,
            128,
            127,
            122,
            122,
            126,
            126,
            123,
            122,
            127,
            130,
            129,
            129,
            129,
            137
           ],
           "z": [
            401,
            400,
            395,
            384,
            356,
            346,
            332,
            326,
            315,
            308,
            301,
            298,
            293,
            283,
            277,
            274,
            271,
            264,
            264,
            256,
            259,
            260,
            258,
            255,
            255,
            261,
            259,
            263
           ]
          },
          {
           "line": {
            "color": "red",
            "width": 4
           },
           "mode": "lines",
           "name": "Flor",
           "type": "scatter3d",
           "x": [
            268,
            267,
            267,
            269,
            269,
            269,
            269,
            266.5,
            264,
            266,
            264,
            264
           ],
           "y": [
            108,
            108,
            107,
            108,
            108,
            106,
            109,
            108,
            107,
            111,
            109,
            111
           ],
           "z": [
            406,
            407,
            410,
            407,
            410,
            412,
            409,
            407,
            407,
            404,
            402,
            397
           ]
          },
          {
           "line": {
            "color": "black",
            "width": 4
           },
           "mode": "lines",
           "name": "Aproximación",
           "type": "scatter3d",
           "x": [
            408,
            369,
            340,
            305,
            270,
            258,
            263,
            269,
            267,
            269,
            268,
            264
           ],
           "y": [
            313,
            244,
            194,
            159,
            125,
            109,
            107,
            106,
            109,
            107,
            110,
            101
           ],
           "z": [
            111,
            182,
            257,
            317,
            394,
            408,
            428,
            427,
            412,
            404,
            391,
            383
           ]
          },
          {
           "marker": {
            "color": "red",
            "size": 5
           },
           "mode": "markers",
           "name": "Flor",
           "type": "scatter3d",
           "x": [
            264
           ],
           "y": [
            111
           ],
           "z": [
            397
           ]
          },
          {
           "marker": {
            "color": "black",
            "size": 5
           },
           "mode": "markers",
           "name": "Murciélago",
           "type": "scatter3d",
           "x": [
            264
           ],
           "y": [
            101
           ],
           "z": [
            383
           ]
          }
         ]
        },
        {
         "data": [
          {
           "line": {
            "color": "black",
            "width": 4
           },
           "marker": {
            "color": "black",
            "size": [
             0,
             0,
             0,
             0,
             5
            ]
           },
           "mode": "lines+markers",
           "name": "Alejamiento",
           "type": "scatter3d",
           "x": [
            240,
            252,
            254,
            260,
            268,
            279
           ],
           "y": [
            134,
            135,
            124,
            116,
            105,
            97
           ],
           "z": [
            255,
            271,
            273,
            274,
            282,
            310
           ]
          },
          {
           "line": {
            "color": "red",
            "width": 4
           },
           "marker": {
            "color": "red",
            "size": [
             0,
             0,
             0,
             0,
             5
            ]
           },
           "mode": "lines+markers",
           "name": "Flor",
           "type": "scatter3d",
           "x": [
            242,
            252,
            262,
            276,
            279,
            297
           ],
           "y": [
            140,
            129,
            124,
            122,
            105,
            81
           ],
           "z": [
            278,
            299,
            336,
            379,
            417,
            455
           ]
          },
          {
           "marker": {
            "color": "black",
            "size": 5
           },
           "mode": "markers",
           "name": "Murciélago",
           "type": "scatter3d",
           "x": [
            233
           ],
           "y": [
            137
           ],
           "z": [
            263
           ]
          },
          {
           "line": {
            "color": "blue",
            "width": 4
           },
           "mode": "lines",
           "name": "Aliemntación",
           "type": "scatter3d",
           "x": [
            264,
            265,
            264,
            257,
            252,
            247,
            245,
            240,
            238,
            235,
            235,
            232,
            230,
            229,
            227,
            226,
            223,
            224,
            224,
            220,
            221,
            220,
            222,
            222,
            222,
            226,
            230,
            233
           ],
           "y": [
            109,
            107,
            95,
            92,
            93,
            106,
            115,
            124,
            127,
            128,
            128,
            124,
            121,
            126,
            128,
            127,
            122,
            122,
            126,
            126,
            123,
            122,
            127,
            130,
            129,
            129,
            129,
            137
           ],
           "z": [
            401,
            400,
            395,
            384,
            356,
            346,
            332,
            326,
            315,
            308,
            301,
            298,
            293,
            283,
            277,
            274,
            271,
            264,
            264,
            256,
            259,
            260,
            258,
            255,
            255,
            261,
            259,
            263
           ]
          },
          {
           "line": {
            "color": "red",
            "width": 4
           },
           "mode": "lines",
           "name": "Flor",
           "type": "scatter3d",
           "x": [
            268,
            267,
            267,
            269,
            269,
            269,
            269,
            266.5,
            264,
            266,
            264,
            264
           ],
           "y": [
            108,
            108,
            107,
            108,
            108,
            106,
            109,
            108,
            107,
            111,
            109,
            111
           ],
           "z": [
            406,
            407,
            410,
            407,
            410,
            412,
            409,
            407,
            407,
            404,
            402,
            397
           ]
          },
          {
           "line": {
            "color": "black",
            "width": 4
           },
           "mode": "lines",
           "name": "Aproximación",
           "type": "scatter3d",
           "x": [
            408,
            369,
            340,
            305,
            270,
            258,
            263,
            269,
            267,
            269,
            268,
            264
           ],
           "y": [
            313,
            244,
            194,
            159,
            125,
            109,
            107,
            106,
            109,
            107,
            110,
            101
           ],
           "z": [
            111,
            182,
            257,
            317,
            394,
            408,
            428,
            427,
            412,
            404,
            391,
            383
           ]
          },
          {
           "marker": {
            "color": "red",
            "size": 5
           },
           "mode": "markers",
           "name": "Flor",
           "type": "scatter3d",
           "x": [
            264
           ],
           "y": [
            111
           ],
           "z": [
            397
           ]
          },
          {
           "marker": {
            "color": "black",
            "size": 5
           },
           "mode": "markers",
           "name": "Murciélago",
           "type": "scatter3d",
           "x": [
            264
           ],
           "y": [
            101
           ],
           "z": [
            383
           ]
          }
         ]
        },
        {
         "data": [
          {
           "line": {
            "color": "black",
            "width": 4
           },
           "marker": {
            "color": "black",
            "size": [
             0,
             0,
             0,
             0,
             0,
             5
            ]
           },
           "mode": "lines+markers",
           "name": "Alejamiento",
           "type": "scatter3d",
           "x": [
            240,
            252,
            254,
            260,
            268,
            279,
            283
           ],
           "y": [
            134,
            135,
            124,
            116,
            105,
            97,
            81
           ],
           "z": [
            255,
            271,
            273,
            274,
            282,
            310,
            324
           ]
          },
          {
           "line": {
            "color": "red",
            "width": 4
           },
           "marker": {
            "color": "red",
            "size": [
             0,
             0,
             0,
             0,
             0,
             5
            ]
           },
           "mode": "lines+markers",
           "name": "Flor",
           "type": "scatter3d",
           "x": [
            242,
            252,
            262,
            276,
            279,
            297,
            307
           ],
           "y": [
            140,
            129,
            124,
            122,
            105,
            81,
            66
           ],
           "z": [
            278,
            299,
            336,
            379,
            417,
            455,
            453.42857142857144
           ]
          },
          {
           "marker": {
            "color": "black",
            "size": 5
           },
           "mode": "markers",
           "name": "Murciélago",
           "type": "scatter3d",
           "x": [
            233
           ],
           "y": [
            137
           ],
           "z": [
            263
           ]
          },
          {
           "line": {
            "color": "blue",
            "width": 4
           },
           "mode": "lines",
           "name": "Aliemntación",
           "type": "scatter3d",
           "x": [
            264,
            265,
            264,
            257,
            252,
            247,
            245,
            240,
            238,
            235,
            235,
            232,
            230,
            229,
            227,
            226,
            223,
            224,
            224,
            220,
            221,
            220,
            222,
            222,
            222,
            226,
            230,
            233
           ],
           "y": [
            109,
            107,
            95,
            92,
            93,
            106,
            115,
            124,
            127,
            128,
            128,
            124,
            121,
            126,
            128,
            127,
            122,
            122,
            126,
            126,
            123,
            122,
            127,
            130,
            129,
            129,
            129,
            137
           ],
           "z": [
            401,
            400,
            395,
            384,
            356,
            346,
            332,
            326,
            315,
            308,
            301,
            298,
            293,
            283,
            277,
            274,
            271,
            264,
            264,
            256,
            259,
            260,
            258,
            255,
            255,
            261,
            259,
            263
           ]
          },
          {
           "line": {
            "color": "red",
            "width": 4
           },
           "mode": "lines",
           "name": "Flor",
           "type": "scatter3d",
           "x": [
            268,
            267,
            267,
            269,
            269,
            269,
            269,
            266.5,
            264,
            266,
            264,
            264
           ],
           "y": [
            108,
            108,
            107,
            108,
            108,
            106,
            109,
            108,
            107,
            111,
            109,
            111
           ],
           "z": [
            406,
            407,
            410,
            407,
            410,
            412,
            409,
            407,
            407,
            404,
            402,
            397
           ]
          },
          {
           "line": {
            "color": "black",
            "width": 4
           },
           "mode": "lines",
           "name": "Aproximación",
           "type": "scatter3d",
           "x": [
            408,
            369,
            340,
            305,
            270,
            258,
            263,
            269,
            267,
            269,
            268,
            264
           ],
           "y": [
            313,
            244,
            194,
            159,
            125,
            109,
            107,
            106,
            109,
            107,
            110,
            101
           ],
           "z": [
            111,
            182,
            257,
            317,
            394,
            408,
            428,
            427,
            412,
            404,
            391,
            383
           ]
          },
          {
           "marker": {
            "color": "red",
            "size": 5
           },
           "mode": "markers",
           "name": "Flor",
           "type": "scatter3d",
           "x": [
            264
           ],
           "y": [
            111
           ],
           "z": [
            397
           ]
          },
          {
           "marker": {
            "color": "black",
            "size": 5
           },
           "mode": "markers",
           "name": "Murciélago",
           "type": "scatter3d",
           "x": [
            264
           ],
           "y": [
            101
           ],
           "z": [
            383
           ]
          }
         ]
        },
        {
         "data": [
          {
           "line": {
            "color": "black",
            "width": 4
           },
           "marker": {
            "color": "black",
            "size": [
             0,
             0,
             0,
             0,
             0,
             0,
             5
            ]
           },
           "mode": "lines+markers",
           "name": "Alejamiento",
           "type": "scatter3d",
           "x": [
            240,
            252,
            254,
            260,
            268,
            279,
            283,
            288
           ],
           "y": [
            134,
            135,
            124,
            116,
            105,
            97,
            81,
            73
           ],
           "z": [
            255,
            271,
            273,
            274,
            282,
            310,
            324,
            342
           ]
          },
          {
           "line": {
            "color": "red",
            "width": 4
           },
           "marker": {
            "color": "red",
            "size": [
             0,
             0,
             0,
             0,
             0,
             0,
             5
            ]
           },
           "mode": "lines+markers",
           "name": "Flor",
           "type": "scatter3d",
           "x": [
            242,
            252,
            262,
            276,
            279,
            297,
            307,
            302
           ],
           "y": [
            140,
            129,
            124,
            122,
            105,
            81,
            66,
            49
           ],
           "z": [
            278,
            299,
            336,
            379,
            417,
            455,
            453.42857142857144,
            451.85714285714283
           ]
          },
          {
           "marker": {
            "color": "black",
            "size": 5
           },
           "mode": "markers",
           "name": "Murciélago",
           "type": "scatter3d",
           "x": [
            233
           ],
           "y": [
            137
           ],
           "z": [
            263
           ]
          },
          {
           "line": {
            "color": "blue",
            "width": 4
           },
           "mode": "lines",
           "name": "Aliemntación",
           "type": "scatter3d",
           "x": [
            264,
            265,
            264,
            257,
            252,
            247,
            245,
            240,
            238,
            235,
            235,
            232,
            230,
            229,
            227,
            226,
            223,
            224,
            224,
            220,
            221,
            220,
            222,
            222,
            222,
            226,
            230,
            233
           ],
           "y": [
            109,
            107,
            95,
            92,
            93,
            106,
            115,
            124,
            127,
            128,
            128,
            124,
            121,
            126,
            128,
            127,
            122,
            122,
            126,
            126,
            123,
            122,
            127,
            130,
            129,
            129,
            129,
            137
           ],
           "z": [
            401,
            400,
            395,
            384,
            356,
            346,
            332,
            326,
            315,
            308,
            301,
            298,
            293,
            283,
            277,
            274,
            271,
            264,
            264,
            256,
            259,
            260,
            258,
            255,
            255,
            261,
            259,
            263
           ]
          },
          {
           "line": {
            "color": "red",
            "width": 4
           },
           "mode": "lines",
           "name": "Flor",
           "type": "scatter3d",
           "x": [
            268,
            267,
            267,
            269,
            269,
            269,
            269,
            266.5,
            264,
            266,
            264,
            264
           ],
           "y": [
            108,
            108,
            107,
            108,
            108,
            106,
            109,
            108,
            107,
            111,
            109,
            111
           ],
           "z": [
            406,
            407,
            410,
            407,
            410,
            412,
            409,
            407,
            407,
            404,
            402,
            397
           ]
          },
          {
           "line": {
            "color": "black",
            "width": 4
           },
           "mode": "lines",
           "name": "Aproximación",
           "type": "scatter3d",
           "x": [
            408,
            369,
            340,
            305,
            270,
            258,
            263,
            269,
            267,
            269,
            268,
            264
           ],
           "y": [
            313,
            244,
            194,
            159,
            125,
            109,
            107,
            106,
            109,
            107,
            110,
            101
           ],
           "z": [
            111,
            182,
            257,
            317,
            394,
            408,
            428,
            427,
            412,
            404,
            391,
            383
           ]
          },
          {
           "marker": {
            "color": "red",
            "size": 5
           },
           "mode": "markers",
           "name": "Flor",
           "type": "scatter3d",
           "x": [
            264
           ],
           "y": [
            111
           ],
           "z": [
            397
           ]
          },
          {
           "marker": {
            "color": "black",
            "size": 5
           },
           "mode": "markers",
           "name": "Murciélago",
           "type": "scatter3d",
           "x": [
            264
           ],
           "y": [
            101
           ],
           "z": [
            383
           ]
          }
         ]
        },
        {
         "data": [
          {
           "line": {
            "color": "black",
            "width": 4
           },
           "marker": {
            "color": "black",
            "size": [
             0,
             0,
             0,
             0,
             0,
             0,
             0,
             5
            ]
           },
           "mode": "lines+markers",
           "name": "Alejamiento",
           "type": "scatter3d",
           "x": [
            240,
            252,
            254,
            260,
            268,
            279,
            283,
            288,
            293
           ],
           "y": [
            134,
            135,
            124,
            116,
            105,
            97,
            81,
            73,
            61
           ],
           "z": [
            255,
            271,
            273,
            274,
            282,
            310,
            324,
            342,
            352
           ]
          },
          {
           "line": {
            "color": "red",
            "width": 4
           },
           "marker": {
            "color": "red",
            "size": [
             0,
             0,
             0,
             0,
             0,
             0,
             0,
             5
            ]
           },
           "mode": "lines+markers",
           "name": "Flor",
           "type": "scatter3d",
           "x": [
            242,
            252,
            262,
            276,
            279,
            297,
            307,
            302,
            309
           ],
           "y": [
            140,
            129,
            124,
            122,
            105,
            81,
            66,
            49,
            50
           ],
           "z": [
            278,
            299,
            336,
            379,
            417,
            455,
            453.42857142857144,
            451.85714285714283,
            450.2857142857143
           ]
          },
          {
           "marker": {
            "color": "black",
            "size": 5
           },
           "mode": "markers",
           "name": "Murciélago",
           "type": "scatter3d",
           "x": [
            233
           ],
           "y": [
            137
           ],
           "z": [
            263
           ]
          },
          {
           "line": {
            "color": "blue",
            "width": 4
           },
           "mode": "lines",
           "name": "Aliemntación",
           "type": "scatter3d",
           "x": [
            264,
            265,
            264,
            257,
            252,
            247,
            245,
            240,
            238,
            235,
            235,
            232,
            230,
            229,
            227,
            226,
            223,
            224,
            224,
            220,
            221,
            220,
            222,
            222,
            222,
            226,
            230,
            233
           ],
           "y": [
            109,
            107,
            95,
            92,
            93,
            106,
            115,
            124,
            127,
            128,
            128,
            124,
            121,
            126,
            128,
            127,
            122,
            122,
            126,
            126,
            123,
            122,
            127,
            130,
            129,
            129,
            129,
            137
           ],
           "z": [
            401,
            400,
            395,
            384,
            356,
            346,
            332,
            326,
            315,
            308,
            301,
            298,
            293,
            283,
            277,
            274,
            271,
            264,
            264,
            256,
            259,
            260,
            258,
            255,
            255,
            261,
            259,
            263
           ]
          },
          {
           "line": {
            "color": "red",
            "width": 4
           },
           "mode": "lines",
           "name": "Flor",
           "type": "scatter3d",
           "x": [
            268,
            267,
            267,
            269,
            269,
            269,
            269,
            266.5,
            264,
            266,
            264,
            264
           ],
           "y": [
            108,
            108,
            107,
            108,
            108,
            106,
            109,
            108,
            107,
            111,
            109,
            111
           ],
           "z": [
            406,
            407,
            410,
            407,
            410,
            412,
            409,
            407,
            407,
            404,
            402,
            397
           ]
          },
          {
           "line": {
            "color": "black",
            "width": 4
           },
           "mode": "lines",
           "name": "Aproximación",
           "type": "scatter3d",
           "x": [
            408,
            369,
            340,
            305,
            270,
            258,
            263,
            269,
            267,
            269,
            268,
            264
           ],
           "y": [
            313,
            244,
            194,
            159,
            125,
            109,
            107,
            106,
            109,
            107,
            110,
            101
           ],
           "z": [
            111,
            182,
            257,
            317,
            394,
            408,
            428,
            427,
            412,
            404,
            391,
            383
           ]
          },
          {
           "marker": {
            "color": "red",
            "size": 5
           },
           "mode": "markers",
           "name": "Flor",
           "type": "scatter3d",
           "x": [
            264
           ],
           "y": [
            111
           ],
           "z": [
            397
           ]
          },
          {
           "marker": {
            "color": "black",
            "size": 5
           },
           "mode": "markers",
           "name": "Murciélago",
           "type": "scatter3d",
           "x": [
            264
           ],
           "y": [
            101
           ],
           "z": [
            383
           ]
          }
         ]
        },
        {
         "data": [
          {
           "line": {
            "color": "black",
            "width": 4
           },
           "marker": {
            "color": "black",
            "size": [
             0,
             0,
             0,
             0,
             0,
             0,
             0,
             0,
             5
            ]
           },
           "mode": "lines+markers",
           "name": "Alejamiento",
           "type": "scatter3d",
           "x": [
            240,
            252,
            254,
            260,
            268,
            279,
            283,
            288,
            293,
            295
           ],
           "y": [
            134,
            135,
            124,
            116,
            105,
            97,
            81,
            73,
            61,
            52
           ],
           "z": [
            255,
            271,
            273,
            274,
            282,
            310,
            324,
            342,
            352,
            379
           ]
          },
          {
           "line": {
            "color": "red",
            "width": 4
           },
           "marker": {
            "color": "red",
            "size": [
             0,
             0,
             0,
             0,
             0,
             0,
             0,
             0,
             5
            ]
           },
           "mode": "lines+markers",
           "name": "Flor",
           "type": "scatter3d",
           "x": [
            242,
            252,
            262,
            276,
            279,
            297,
            307,
            302,
            309,
            297
           ],
           "y": [
            140,
            129,
            124,
            122,
            105,
            81,
            66,
            49,
            50,
            60
           ],
           "z": [
            278,
            299,
            336,
            379,
            417,
            455,
            453.42857142857144,
            451.85714285714283,
            450.2857142857143,
            448.7142857142857
           ]
          },
          {
           "marker": {
            "color": "black",
            "size": 5
           },
           "mode": "markers",
           "name": "Murciélago",
           "type": "scatter3d",
           "x": [
            233
           ],
           "y": [
            137
           ],
           "z": [
            263
           ]
          },
          {
           "line": {
            "color": "blue",
            "width": 4
           },
           "mode": "lines",
           "name": "Aliemntación",
           "type": "scatter3d",
           "x": [
            264,
            265,
            264,
            257,
            252,
            247,
            245,
            240,
            238,
            235,
            235,
            232,
            230,
            229,
            227,
            226,
            223,
            224,
            224,
            220,
            221,
            220,
            222,
            222,
            222,
            226,
            230,
            233
           ],
           "y": [
            109,
            107,
            95,
            92,
            93,
            106,
            115,
            124,
            127,
            128,
            128,
            124,
            121,
            126,
            128,
            127,
            122,
            122,
            126,
            126,
            123,
            122,
            127,
            130,
            129,
            129,
            129,
            137
           ],
           "z": [
            401,
            400,
            395,
            384,
            356,
            346,
            332,
            326,
            315,
            308,
            301,
            298,
            293,
            283,
            277,
            274,
            271,
            264,
            264,
            256,
            259,
            260,
            258,
            255,
            255,
            261,
            259,
            263
           ]
          },
          {
           "line": {
            "color": "red",
            "width": 4
           },
           "mode": "lines",
           "name": "Flor",
           "type": "scatter3d",
           "x": [
            268,
            267,
            267,
            269,
            269,
            269,
            269,
            266.5,
            264,
            266,
            264,
            264
           ],
           "y": [
            108,
            108,
            107,
            108,
            108,
            106,
            109,
            108,
            107,
            111,
            109,
            111
           ],
           "z": [
            406,
            407,
            410,
            407,
            410,
            412,
            409,
            407,
            407,
            404,
            402,
            397
           ]
          },
          {
           "line": {
            "color": "black",
            "width": 4
           },
           "mode": "lines",
           "name": "Aproximación",
           "type": "scatter3d",
           "x": [
            408,
            369,
            340,
            305,
            270,
            258,
            263,
            269,
            267,
            269,
            268,
            264
           ],
           "y": [
            313,
            244,
            194,
            159,
            125,
            109,
            107,
            106,
            109,
            107,
            110,
            101
           ],
           "z": [
            111,
            182,
            257,
            317,
            394,
            408,
            428,
            427,
            412,
            404,
            391,
            383
           ]
          },
          {
           "marker": {
            "color": "red",
            "size": 5
           },
           "mode": "markers",
           "name": "Flor",
           "type": "scatter3d",
           "x": [
            264
           ],
           "y": [
            111
           ],
           "z": [
            397
           ]
          },
          {
           "marker": {
            "color": "black",
            "size": 5
           },
           "mode": "markers",
           "name": "Murciélago",
           "type": "scatter3d",
           "x": [
            264
           ],
           "y": [
            101
           ],
           "z": [
            383
           ]
          }
         ]
        },
        {
         "data": [
          {
           "line": {
            "color": "black",
            "width": 4
           },
           "marker": {
            "color": "black",
            "size": [
             0,
             0,
             0,
             0,
             0,
             0,
             0,
             0,
             0,
             5
            ]
           },
           "mode": "lines+markers",
           "name": "Alejamiento",
           "type": "scatter3d",
           "x": [
            240,
            252,
            254,
            260,
            268,
            279,
            283,
            288,
            293,
            295,
            296
           ],
           "y": [
            134,
            135,
            124,
            116,
            105,
            97,
            81,
            73,
            61,
            52,
            59
           ],
           "z": [
            255,
            271,
            273,
            274,
            282,
            310,
            324,
            342,
            352,
            379,
            391
           ]
          },
          {
           "line": {
            "color": "red",
            "width": 4
           },
           "marker": {
            "color": "red",
            "size": [
             0,
             0,
             0,
             0,
             0,
             0,
             0,
             0,
             0,
             5
            ]
           },
           "mode": "lines+markers",
           "name": "Flor",
           "type": "scatter3d",
           "x": [
            242,
            252,
            262,
            276,
            279,
            297,
            307,
            302,
            309,
            297,
            289
           ],
           "y": [
            140,
            129,
            124,
            122,
            105,
            81,
            66,
            49,
            50,
            60,
            77
           ],
           "z": [
            278,
            299,
            336,
            379,
            417,
            455,
            453.42857142857144,
            451.85714285714283,
            450.2857142857143,
            448.7142857142857,
            447.14285714285717
           ]
          },
          {
           "marker": {
            "color": "black",
            "size": 5
           },
           "mode": "markers",
           "name": "Murciélago",
           "type": "scatter3d",
           "x": [
            233
           ],
           "y": [
            137
           ],
           "z": [
            263
           ]
          },
          {
           "line": {
            "color": "blue",
            "width": 4
           },
           "mode": "lines",
           "name": "Aliemntación",
           "type": "scatter3d",
           "x": [
            264,
            265,
            264,
            257,
            252,
            247,
            245,
            240,
            238,
            235,
            235,
            232,
            230,
            229,
            227,
            226,
            223,
            224,
            224,
            220,
            221,
            220,
            222,
            222,
            222,
            226,
            230,
            233
           ],
           "y": [
            109,
            107,
            95,
            92,
            93,
            106,
            115,
            124,
            127,
            128,
            128,
            124,
            121,
            126,
            128,
            127,
            122,
            122,
            126,
            126,
            123,
            122,
            127,
            130,
            129,
            129,
            129,
            137
           ],
           "z": [
            401,
            400,
            395,
            384,
            356,
            346,
            332,
            326,
            315,
            308,
            301,
            298,
            293,
            283,
            277,
            274,
            271,
            264,
            264,
            256,
            259,
            260,
            258,
            255,
            255,
            261,
            259,
            263
           ]
          },
          {
           "line": {
            "color": "red",
            "width": 4
           },
           "mode": "lines",
           "name": "Flor",
           "type": "scatter3d",
           "x": [
            268,
            267,
            267,
            269,
            269,
            269,
            269,
            266.5,
            264,
            266,
            264,
            264
           ],
           "y": [
            108,
            108,
            107,
            108,
            108,
            106,
            109,
            108,
            107,
            111,
            109,
            111
           ],
           "z": [
            406,
            407,
            410,
            407,
            410,
            412,
            409,
            407,
            407,
            404,
            402,
            397
           ]
          },
          {
           "line": {
            "color": "black",
            "width": 4
           },
           "mode": "lines",
           "name": "Aproximación",
           "type": "scatter3d",
           "x": [
            408,
            369,
            340,
            305,
            270,
            258,
            263,
            269,
            267,
            269,
            268,
            264
           ],
           "y": [
            313,
            244,
            194,
            159,
            125,
            109,
            107,
            106,
            109,
            107,
            110,
            101
           ],
           "z": [
            111,
            182,
            257,
            317,
            394,
            408,
            428,
            427,
            412,
            404,
            391,
            383
           ]
          },
          {
           "marker": {
            "color": "red",
            "size": 5
           },
           "mode": "markers",
           "name": "Flor",
           "type": "scatter3d",
           "x": [
            264
           ],
           "y": [
            111
           ],
           "z": [
            397
           ]
          },
          {
           "marker": {
            "color": "black",
            "size": 5
           },
           "mode": "markers",
           "name": "Murciélago",
           "type": "scatter3d",
           "x": [
            264
           ],
           "y": [
            101
           ],
           "z": [
            383
           ]
          }
         ]
        },
        {
         "data": [
          {
           "line": {
            "color": "black",
            "width": 4
           },
           "marker": {
            "color": "black",
            "size": [
             0,
             0,
             0,
             0,
             0,
             0,
             0,
             0,
             0,
             0,
             5
            ]
           },
           "mode": "lines+markers",
           "name": "Alejamiento",
           "type": "scatter3d",
           "x": [
            240,
            252,
            254,
            260,
            268,
            279,
            283,
            288,
            293,
            295,
            296,
            294
           ],
           "y": [
            134,
            135,
            124,
            116,
            105,
            97,
            81,
            73,
            61,
            52,
            59,
            41
           ],
           "z": [
            255,
            271,
            273,
            274,
            282,
            310,
            324,
            342,
            352,
            379,
            391,
            415
           ]
          },
          {
           "line": {
            "color": "red",
            "width": 4
           },
           "marker": {
            "color": "red",
            "size": [
             0,
             0,
             0,
             0,
             0,
             0,
             0,
             0,
             0,
             0,
             5
            ]
           },
           "mode": "lines+markers",
           "name": "Flor",
           "type": "scatter3d",
           "x": [
            242,
            252,
            262,
            276,
            279,
            297,
            307,
            302,
            309,
            297,
            289,
            274
           ],
           "y": [
            140,
            129,
            124,
            122,
            105,
            81,
            66,
            49,
            50,
            60,
            77,
            87
           ],
           "z": [
            278,
            299,
            336,
            379,
            417,
            455,
            453.42857142857144,
            451.85714285714283,
            450.2857142857143,
            448.7142857142857,
            447.14285714285717,
            445.57142857142856
           ]
          },
          {
           "marker": {
            "color": "black",
            "size": 5
           },
           "mode": "markers",
           "name": "Murciélago",
           "type": "scatter3d",
           "x": [
            233
           ],
           "y": [
            137
           ],
           "z": [
            263
           ]
          },
          {
           "line": {
            "color": "blue",
            "width": 4
           },
           "mode": "lines",
           "name": "Aliemntación",
           "type": "scatter3d",
           "x": [
            264,
            265,
            264,
            257,
            252,
            247,
            245,
            240,
            238,
            235,
            235,
            232,
            230,
            229,
            227,
            226,
            223,
            224,
            224,
            220,
            221,
            220,
            222,
            222,
            222,
            226,
            230,
            233
           ],
           "y": [
            109,
            107,
            95,
            92,
            93,
            106,
            115,
            124,
            127,
            128,
            128,
            124,
            121,
            126,
            128,
            127,
            122,
            122,
            126,
            126,
            123,
            122,
            127,
            130,
            129,
            129,
            129,
            137
           ],
           "z": [
            401,
            400,
            395,
            384,
            356,
            346,
            332,
            326,
            315,
            308,
            301,
            298,
            293,
            283,
            277,
            274,
            271,
            264,
            264,
            256,
            259,
            260,
            258,
            255,
            255,
            261,
            259,
            263
           ]
          },
          {
           "line": {
            "color": "red",
            "width": 4
           },
           "mode": "lines",
           "name": "Flor",
           "type": "scatter3d",
           "x": [
            268,
            267,
            267,
            269,
            269,
            269,
            269,
            266.5,
            264,
            266,
            264,
            264
           ],
           "y": [
            108,
            108,
            107,
            108,
            108,
            106,
            109,
            108,
            107,
            111,
            109,
            111
           ],
           "z": [
            406,
            407,
            410,
            407,
            410,
            412,
            409,
            407,
            407,
            404,
            402,
            397
           ]
          },
          {
           "line": {
            "color": "black",
            "width": 4
           },
           "mode": "lines",
           "name": "Aproximación",
           "type": "scatter3d",
           "x": [
            408,
            369,
            340,
            305,
            270,
            258,
            263,
            269,
            267,
            269,
            268,
            264
           ],
           "y": [
            313,
            244,
            194,
            159,
            125,
            109,
            107,
            106,
            109,
            107,
            110,
            101
           ],
           "z": [
            111,
            182,
            257,
            317,
            394,
            408,
            428,
            427,
            412,
            404,
            391,
            383
           ]
          },
          {
           "marker": {
            "color": "red",
            "size": 5
           },
           "mode": "markers",
           "name": "Flor",
           "type": "scatter3d",
           "x": [
            264
           ],
           "y": [
            111
           ],
           "z": [
            397
           ]
          },
          {
           "marker": {
            "color": "black",
            "size": 5
           },
           "mode": "markers",
           "name": "Murciélago",
           "type": "scatter3d",
           "x": [
            264
           ],
           "y": [
            101
           ],
           "z": [
            383
           ]
          }
         ]
        },
        {
         "data": [
          {
           "line": {
            "color": "black",
            "width": 4
           },
           "marker": {
            "color": "black",
            "size": [
             0,
             0,
             0,
             0,
             0,
             0,
             0,
             0,
             0,
             0,
             0,
             5
            ]
           },
           "mode": "lines+markers",
           "name": "Alejamiento",
           "type": "scatter3d",
           "x": [
            240,
            252,
            254,
            260,
            268,
            279,
            283,
            288,
            293,
            295,
            296,
            294,
            283
           ],
           "y": [
            134,
            135,
            124,
            116,
            105,
            97,
            81,
            73,
            61,
            52,
            59,
            41,
            43
           ],
           "z": [
            255,
            271,
            273,
            274,
            282,
            310,
            324,
            342,
            352,
            379,
            391,
            415,
            411
           ]
          },
          {
           "line": {
            "color": "red",
            "width": 4
           },
           "marker": {
            "color": "red",
            "size": [
             0,
             0,
             0,
             0,
             0,
             0,
             0,
             0,
             0,
             0,
             0,
             5
            ]
           },
           "mode": "lines+markers",
           "name": "Flor",
           "type": "scatter3d",
           "x": [
            242,
            252,
            262,
            276,
            279,
            297,
            307,
            302,
            309,
            297,
            289,
            274,
            262
           ],
           "y": [
            140,
            129,
            124,
            122,
            105,
            81,
            66,
            49,
            50,
            60,
            77,
            87,
            88
           ],
           "z": [
            278,
            299,
            336,
            379,
            417,
            455,
            453.42857142857144,
            451.85714285714283,
            450.2857142857143,
            448.7142857142857,
            447.14285714285717,
            445.57142857142856,
            444
           ]
          },
          {
           "marker": {
            "color": "black",
            "size": 5
           },
           "mode": "markers",
           "name": "Murciélago",
           "type": "scatter3d",
           "x": [
            233
           ],
           "y": [
            137
           ],
           "z": [
            263
           ]
          },
          {
           "line": {
            "color": "blue",
            "width": 4
           },
           "mode": "lines",
           "name": "Aliemntación",
           "type": "scatter3d",
           "x": [
            264,
            265,
            264,
            257,
            252,
            247,
            245,
            240,
            238,
            235,
            235,
            232,
            230,
            229,
            227,
            226,
            223,
            224,
            224,
            220,
            221,
            220,
            222,
            222,
            222,
            226,
            230,
            233
           ],
           "y": [
            109,
            107,
            95,
            92,
            93,
            106,
            115,
            124,
            127,
            128,
            128,
            124,
            121,
            126,
            128,
            127,
            122,
            122,
            126,
            126,
            123,
            122,
            127,
            130,
            129,
            129,
            129,
            137
           ],
           "z": [
            401,
            400,
            395,
            384,
            356,
            346,
            332,
            326,
            315,
            308,
            301,
            298,
            293,
            283,
            277,
            274,
            271,
            264,
            264,
            256,
            259,
            260,
            258,
            255,
            255,
            261,
            259,
            263
           ]
          },
          {
           "line": {
            "color": "red",
            "width": 4
           },
           "mode": "lines",
           "name": "Flor",
           "type": "scatter3d",
           "x": [
            268,
            267,
            267,
            269,
            269,
            269,
            269,
            266.5,
            264,
            266,
            264,
            264
           ],
           "y": [
            108,
            108,
            107,
            108,
            108,
            106,
            109,
            108,
            107,
            111,
            109,
            111
           ],
           "z": [
            406,
            407,
            410,
            407,
            410,
            412,
            409,
            407,
            407,
            404,
            402,
            397
           ]
          },
          {
           "line": {
            "color": "black",
            "width": 4
           },
           "mode": "lines",
           "name": "Aproximación",
           "type": "scatter3d",
           "x": [
            408,
            369,
            340,
            305,
            270,
            258,
            263,
            269,
            267,
            269,
            268,
            264
           ],
           "y": [
            313,
            244,
            194,
            159,
            125,
            109,
            107,
            106,
            109,
            107,
            110,
            101
           ],
           "z": [
            111,
            182,
            257,
            317,
            394,
            408,
            428,
            427,
            412,
            404,
            391,
            383
           ]
          },
          {
           "marker": {
            "color": "red",
            "size": 5
           },
           "mode": "markers",
           "name": "Flor",
           "type": "scatter3d",
           "x": [
            264
           ],
           "y": [
            111
           ],
           "z": [
            397
           ]
          },
          {
           "marker": {
            "color": "black",
            "size": 5
           },
           "mode": "markers",
           "name": "Murciélago",
           "type": "scatter3d",
           "x": [
            264
           ],
           "y": [
            101
           ],
           "z": [
            383
           ]
          }
         ]
        },
        {
         "data": [
          {
           "line": {
            "color": "black",
            "width": 4
           },
           "marker": {
            "color": "black",
            "size": [
             0,
             0,
             0,
             0,
             0,
             0,
             0,
             0,
             0,
             0,
             0,
             0,
             5
            ]
           },
           "mode": "lines+markers",
           "name": "Alejamiento",
           "type": "scatter3d",
           "x": [
            240,
            252,
            254,
            260,
            268,
            279,
            283,
            288,
            293,
            295,
            296,
            294,
            283,
            283
           ],
           "y": [
            134,
            135,
            124,
            116,
            105,
            97,
            81,
            73,
            61,
            52,
            59,
            41,
            43,
            36
           ],
           "z": [
            255,
            271,
            273,
            274,
            282,
            310,
            324,
            342,
            352,
            379,
            391,
            415,
            411,
            399
           ]
          },
          {
           "line": {
            "color": "red",
            "width": 4
           },
           "marker": {
            "color": "red",
            "size": [
             0,
             0,
             0,
             0,
             0,
             0,
             0,
             0,
             0,
             0,
             0,
             0,
             5
            ]
           },
           "mode": "lines+markers",
           "name": "Flor",
           "type": "scatter3d",
           "x": [
            242,
            252,
            262,
            276,
            279,
            297,
            307,
            302,
            309,
            297,
            289,
            274,
            262,
            252
           ],
           "y": [
            140,
            129,
            124,
            122,
            105,
            81,
            66,
            49,
            50,
            60,
            77,
            87,
            88,
            93
           ],
           "z": [
            278,
            299,
            336,
            379,
            417,
            455,
            453.42857142857144,
            451.85714285714283,
            450.2857142857143,
            448.7142857142857,
            447.14285714285717,
            445.57142857142856,
            444,
            406
           ]
          },
          {
           "marker": {
            "color": "black",
            "size": 5
           },
           "mode": "markers",
           "name": "Murciélago",
           "type": "scatter3d",
           "x": [
            233
           ],
           "y": [
            137
           ],
           "z": [
            263
           ]
          },
          {
           "line": {
            "color": "blue",
            "width": 4
           },
           "mode": "lines",
           "name": "Aliemntación",
           "type": "scatter3d",
           "x": [
            264,
            265,
            264,
            257,
            252,
            247,
            245,
            240,
            238,
            235,
            235,
            232,
            230,
            229,
            227,
            226,
            223,
            224,
            224,
            220,
            221,
            220,
            222,
            222,
            222,
            226,
            230,
            233
           ],
           "y": [
            109,
            107,
            95,
            92,
            93,
            106,
            115,
            124,
            127,
            128,
            128,
            124,
            121,
            126,
            128,
            127,
            122,
            122,
            126,
            126,
            123,
            122,
            127,
            130,
            129,
            129,
            129,
            137
           ],
           "z": [
            401,
            400,
            395,
            384,
            356,
            346,
            332,
            326,
            315,
            308,
            301,
            298,
            293,
            283,
            277,
            274,
            271,
            264,
            264,
            256,
            259,
            260,
            258,
            255,
            255,
            261,
            259,
            263
           ]
          },
          {
           "line": {
            "color": "red",
            "width": 4
           },
           "mode": "lines",
           "name": "Flor",
           "type": "scatter3d",
           "x": [
            268,
            267,
            267,
            269,
            269,
            269,
            269,
            266.5,
            264,
            266,
            264,
            264
           ],
           "y": [
            108,
            108,
            107,
            108,
            108,
            106,
            109,
            108,
            107,
            111,
            109,
            111
           ],
           "z": [
            406,
            407,
            410,
            407,
            410,
            412,
            409,
            407,
            407,
            404,
            402,
            397
           ]
          },
          {
           "line": {
            "color": "black",
            "width": 4
           },
           "mode": "lines",
           "name": "Aproximación",
           "type": "scatter3d",
           "x": [
            408,
            369,
            340,
            305,
            270,
            258,
            263,
            269,
            267,
            269,
            268,
            264
           ],
           "y": [
            313,
            244,
            194,
            159,
            125,
            109,
            107,
            106,
            109,
            107,
            110,
            101
           ],
           "z": [
            111,
            182,
            257,
            317,
            394,
            408,
            428,
            427,
            412,
            404,
            391,
            383
           ]
          },
          {
           "marker": {
            "color": "red",
            "size": 5
           },
           "mode": "markers",
           "name": "Flor",
           "type": "scatter3d",
           "x": [
            264
           ],
           "y": [
            111
           ],
           "z": [
            397
           ]
          },
          {
           "marker": {
            "color": "black",
            "size": 5
           },
           "mode": "markers",
           "name": "Murciélago",
           "type": "scatter3d",
           "x": [
            264
           ],
           "y": [
            101
           ],
           "z": [
            383
           ]
          }
         ]
        },
        {
         "data": [
          {
           "line": {
            "color": "black",
            "width": 4
           },
           "marker": {
            "color": "black",
            "size": [
             0,
             0,
             0,
             0,
             0,
             0,
             0,
             0,
             0,
             0,
             0,
             0,
             0,
             5
            ]
           },
           "mode": "lines+markers",
           "name": "Alejamiento",
           "type": "scatter3d",
           "x": [
            240,
            252,
            254,
            260,
            268,
            279,
            283,
            288,
            293,
            295,
            296,
            294,
            283,
            283,
            293
           ],
           "y": [
            134,
            135,
            124,
            116,
            105,
            97,
            81,
            73,
            61,
            52,
            59,
            41,
            43,
            36,
            49
           ],
           "z": [
            255,
            271,
            273,
            274,
            282,
            310,
            324,
            342,
            352,
            379,
            391,
            415,
            411,
            399,
            377.5
           ]
          },
          {
           "line": {
            "color": "red",
            "width": 4
           },
           "marker": {
            "color": "red",
            "size": [
             0,
             0,
             0,
             0,
             0,
             0,
             0,
             0,
             0,
             0,
             0,
             0,
             0,
             5
            ]
           },
           "mode": "lines+markers",
           "name": "Flor",
           "type": "scatter3d",
           "x": [
            242,
            252,
            262,
            276,
            279,
            297,
            307,
            302,
            309,
            297,
            289,
            274,
            262,
            252,
            249
           ],
           "y": [
            140,
            129,
            124,
            122,
            105,
            81,
            66,
            49,
            50,
            60,
            77,
            87,
            88,
            93,
            110
           ],
           "z": [
            278,
            299,
            336,
            379,
            417,
            455,
            453.42857142857144,
            451.85714285714283,
            450.2857142857143,
            448.7142857142857,
            447.14285714285717,
            445.57142857142856,
            444,
            406,
            390
           ]
          },
          {
           "marker": {
            "color": "black",
            "size": 5
           },
           "mode": "markers",
           "name": "Murciélago",
           "type": "scatter3d",
           "x": [
            233
           ],
           "y": [
            137
           ],
           "z": [
            263
           ]
          },
          {
           "line": {
            "color": "blue",
            "width": 4
           },
           "mode": "lines",
           "name": "Aliemntación",
           "type": "scatter3d",
           "x": [
            264,
            265,
            264,
            257,
            252,
            247,
            245,
            240,
            238,
            235,
            235,
            232,
            230,
            229,
            227,
            226,
            223,
            224,
            224,
            220,
            221,
            220,
            222,
            222,
            222,
            226,
            230,
            233
           ],
           "y": [
            109,
            107,
            95,
            92,
            93,
            106,
            115,
            124,
            127,
            128,
            128,
            124,
            121,
            126,
            128,
            127,
            122,
            122,
            126,
            126,
            123,
            122,
            127,
            130,
            129,
            129,
            129,
            137
           ],
           "z": [
            401,
            400,
            395,
            384,
            356,
            346,
            332,
            326,
            315,
            308,
            301,
            298,
            293,
            283,
            277,
            274,
            271,
            264,
            264,
            256,
            259,
            260,
            258,
            255,
            255,
            261,
            259,
            263
           ]
          },
          {
           "line": {
            "color": "red",
            "width": 4
           },
           "mode": "lines",
           "name": "Flor",
           "type": "scatter3d",
           "x": [
            268,
            267,
            267,
            269,
            269,
            269,
            269,
            266.5,
            264,
            266,
            264,
            264
           ],
           "y": [
            108,
            108,
            107,
            108,
            108,
            106,
            109,
            108,
            107,
            111,
            109,
            111
           ],
           "z": [
            406,
            407,
            410,
            407,
            410,
            412,
            409,
            407,
            407,
            404,
            402,
            397
           ]
          },
          {
           "line": {
            "color": "black",
            "width": 4
           },
           "mode": "lines",
           "name": "Aproximación",
           "type": "scatter3d",
           "x": [
            408,
            369,
            340,
            305,
            270,
            258,
            263,
            269,
            267,
            269,
            268,
            264
           ],
           "y": [
            313,
            244,
            194,
            159,
            125,
            109,
            107,
            106,
            109,
            107,
            110,
            101
           ],
           "z": [
            111,
            182,
            257,
            317,
            394,
            408,
            428,
            427,
            412,
            404,
            391,
            383
           ]
          },
          {
           "marker": {
            "color": "red",
            "size": 5
           },
           "mode": "markers",
           "name": "Flor",
           "type": "scatter3d",
           "x": [
            264
           ],
           "y": [
            111
           ],
           "z": [
            397
           ]
          },
          {
           "marker": {
            "color": "black",
            "size": 5
           },
           "mode": "markers",
           "name": "Murciélago",
           "type": "scatter3d",
           "x": [
            264
           ],
           "y": [
            101
           ],
           "z": [
            383
           ]
          }
         ]
        },
        {
         "data": [
          {
           "line": {
            "color": "black",
            "width": 4
           },
           "marker": {
            "color": "black",
            "size": [
             0,
             0,
             0,
             0,
             0,
             0,
             0,
             0,
             0,
             0,
             0,
             0,
             0,
             0,
             5
            ]
           },
           "mode": "lines+markers",
           "name": "Alejamiento",
           "type": "scatter3d",
           "x": [
            240,
            252,
            254,
            260,
            268,
            279,
            283,
            288,
            293,
            295,
            296,
            294,
            283,
            283,
            293,
            293
           ],
           "y": [
            134,
            135,
            124,
            116,
            105,
            97,
            81,
            73,
            61,
            52,
            59,
            41,
            43,
            36,
            49,
            49
           ],
           "z": [
            255,
            271,
            273,
            274,
            282,
            310,
            324,
            342,
            352,
            379,
            391,
            415,
            411,
            399,
            377.5,
            356
           ]
          },
          {
           "line": {
            "color": "red",
            "width": 4
           },
           "marker": {
            "color": "red",
            "size": [
             0,
             0,
             0,
             0,
             0,
             0,
             0,
             0,
             0,
             0,
             0,
             0,
             0,
             0,
             5
            ]
           },
           "mode": "lines+markers",
           "name": "Flor",
           "type": "scatter3d",
           "x": [
            242,
            252,
            262,
            276,
            279,
            297,
            307,
            302,
            309,
            297,
            289,
            274,
            262,
            252,
            249,
            245
           ],
           "y": [
            140,
            129,
            124,
            122,
            105,
            81,
            66,
            49,
            50,
            60,
            77,
            87,
            88,
            93,
            110,
            111
           ],
           "z": [
            278,
            299,
            336,
            379,
            417,
            455,
            453.42857142857144,
            451.85714285714283,
            450.2857142857143,
            448.7142857142857,
            447.14285714285717,
            445.57142857142856,
            444,
            406,
            390,
            377
           ]
          },
          {
           "marker": {
            "color": "black",
            "size": 5
           },
           "mode": "markers",
           "name": "Murciélago",
           "type": "scatter3d",
           "x": [
            233
           ],
           "y": [
            137
           ],
           "z": [
            263
           ]
          },
          {
           "line": {
            "color": "blue",
            "width": 4
           },
           "mode": "lines",
           "name": "Aliemntación",
           "type": "scatter3d",
           "x": [
            264,
            265,
            264,
            257,
            252,
            247,
            245,
            240,
            238,
            235,
            235,
            232,
            230,
            229,
            227,
            226,
            223,
            224,
            224,
            220,
            221,
            220,
            222,
            222,
            222,
            226,
            230,
            233
           ],
           "y": [
            109,
            107,
            95,
            92,
            93,
            106,
            115,
            124,
            127,
            128,
            128,
            124,
            121,
            126,
            128,
            127,
            122,
            122,
            126,
            126,
            123,
            122,
            127,
            130,
            129,
            129,
            129,
            137
           ],
           "z": [
            401,
            400,
            395,
            384,
            356,
            346,
            332,
            326,
            315,
            308,
            301,
            298,
            293,
            283,
            277,
            274,
            271,
            264,
            264,
            256,
            259,
            260,
            258,
            255,
            255,
            261,
            259,
            263
           ]
          },
          {
           "line": {
            "color": "red",
            "width": 4
           },
           "mode": "lines",
           "name": "Flor",
           "type": "scatter3d",
           "x": [
            268,
            267,
            267,
            269,
            269,
            269,
            269,
            266.5,
            264,
            266,
            264,
            264
           ],
           "y": [
            108,
            108,
            107,
            108,
            108,
            106,
            109,
            108,
            107,
            111,
            109,
            111
           ],
           "z": [
            406,
            407,
            410,
            407,
            410,
            412,
            409,
            407,
            407,
            404,
            402,
            397
           ]
          },
          {
           "line": {
            "color": "black",
            "width": 4
           },
           "mode": "lines",
           "name": "Aproximación",
           "type": "scatter3d",
           "x": [
            408,
            369,
            340,
            305,
            270,
            258,
            263,
            269,
            267,
            269,
            268,
            264
           ],
           "y": [
            313,
            244,
            194,
            159,
            125,
            109,
            107,
            106,
            109,
            107,
            110,
            101
           ],
           "z": [
            111,
            182,
            257,
            317,
            394,
            408,
            428,
            427,
            412,
            404,
            391,
            383
           ]
          },
          {
           "marker": {
            "color": "red",
            "size": 5
           },
           "mode": "markers",
           "name": "Flor",
           "type": "scatter3d",
           "x": [
            264
           ],
           "y": [
            111
           ],
           "z": [
            397
           ]
          },
          {
           "marker": {
            "color": "black",
            "size": 5
           },
           "mode": "markers",
           "name": "Murciélago",
           "type": "scatter3d",
           "x": [
            264
           ],
           "y": [
            101
           ],
           "z": [
            383
           ]
          }
         ]
        },
        {
         "data": [
          {
           "line": {
            "color": "black",
            "width": 4
           },
           "marker": {
            "color": "black",
            "size": [
             0,
             0,
             0,
             0,
             0,
             0,
             0,
             0,
             0,
             0,
             0,
             0,
             0,
             0,
             0,
             5
            ]
           },
           "mode": "lines+markers",
           "name": "Alejamiento",
           "type": "scatter3d",
           "x": [
            240,
            252,
            254,
            260,
            268,
            279,
            283,
            288,
            293,
            295,
            296,
            294,
            283,
            283,
            293,
            293,
            293
           ],
           "y": [
            134,
            135,
            124,
            116,
            105,
            97,
            81,
            73,
            61,
            52,
            59,
            41,
            43,
            36,
            49,
            49,
            49
           ],
           "z": [
            255,
            271,
            273,
            274,
            282,
            310,
            324,
            342,
            352,
            379,
            391,
            415,
            411,
            399,
            377.5,
            356,
            356
           ]
          },
          {
           "line": {
            "color": "red",
            "width": 4
           },
           "marker": {
            "color": "red",
            "size": [
             0,
             0,
             0,
             0,
             0,
             0,
             0,
             0,
             0,
             0,
             0,
             0,
             0,
             0,
             0,
             5
            ]
           },
           "mode": "lines+markers",
           "name": "Flor",
           "type": "scatter3d",
           "x": [
            242,
            252,
            262,
            276,
            279,
            297,
            307,
            302,
            309,
            297,
            289,
            274,
            262,
            252,
            249,
            245,
            245
           ],
           "y": [
            140,
            129,
            124,
            122,
            105,
            81,
            66,
            49,
            50,
            60,
            77,
            87,
            88,
            93,
            110,
            111,
            111
           ],
           "z": [
            278,
            299,
            336,
            379,
            417,
            455,
            453.42857142857144,
            451.85714285714283,
            450.2857142857143,
            448.7142857142857,
            447.14285714285717,
            445.57142857142856,
            444,
            406,
            390,
            377,
            373
           ]
          },
          {
           "marker": {
            "color": "black",
            "size": 5
           },
           "mode": "markers",
           "name": "Murciélago",
           "type": "scatter3d",
           "x": [
            233
           ],
           "y": [
            137
           ],
           "z": [
            263
           ]
          },
          {
           "line": {
            "color": "blue",
            "width": 4
           },
           "mode": "lines",
           "name": "Aliemntación",
           "type": "scatter3d",
           "x": [
            264,
            265,
            264,
            257,
            252,
            247,
            245,
            240,
            238,
            235,
            235,
            232,
            230,
            229,
            227,
            226,
            223,
            224,
            224,
            220,
            221,
            220,
            222,
            222,
            222,
            226,
            230,
            233
           ],
           "y": [
            109,
            107,
            95,
            92,
            93,
            106,
            115,
            124,
            127,
            128,
            128,
            124,
            121,
            126,
            128,
            127,
            122,
            122,
            126,
            126,
            123,
            122,
            127,
            130,
            129,
            129,
            129,
            137
           ],
           "z": [
            401,
            400,
            395,
            384,
            356,
            346,
            332,
            326,
            315,
            308,
            301,
            298,
            293,
            283,
            277,
            274,
            271,
            264,
            264,
            256,
            259,
            260,
            258,
            255,
            255,
            261,
            259,
            263
           ]
          },
          {
           "line": {
            "color": "red",
            "width": 4
           },
           "mode": "lines",
           "name": "Flor",
           "type": "scatter3d",
           "x": [
            268,
            267,
            267,
            269,
            269,
            269,
            269,
            266.5,
            264,
            266,
            264,
            264
           ],
           "y": [
            108,
            108,
            107,
            108,
            108,
            106,
            109,
            108,
            107,
            111,
            109,
            111
           ],
           "z": [
            406,
            407,
            410,
            407,
            410,
            412,
            409,
            407,
            407,
            404,
            402,
            397
           ]
          },
          {
           "line": {
            "color": "black",
            "width": 4
           },
           "mode": "lines",
           "name": "Aproximación",
           "type": "scatter3d",
           "x": [
            408,
            369,
            340,
            305,
            270,
            258,
            263,
            269,
            267,
            269,
            268,
            264
           ],
           "y": [
            313,
            244,
            194,
            159,
            125,
            109,
            107,
            106,
            109,
            107,
            110,
            101
           ],
           "z": [
            111,
            182,
            257,
            317,
            394,
            408,
            428,
            427,
            412,
            404,
            391,
            383
           ]
          },
          {
           "marker": {
            "color": "red",
            "size": 5
           },
           "mode": "markers",
           "name": "Flor",
           "type": "scatter3d",
           "x": [
            264
           ],
           "y": [
            111
           ],
           "z": [
            397
           ]
          },
          {
           "marker": {
            "color": "black",
            "size": 5
           },
           "mode": "markers",
           "name": "Murciélago",
           "type": "scatter3d",
           "x": [
            264
           ],
           "y": [
            101
           ],
           "z": [
            383
           ]
          }
         ]
        }
       ],
       "layout": {
        "scene": {
         "xaxis": {
          "backgroundcolor": "lightblue",
          "dtick": 50,
          "gridwidth": 0.5,
          "range": [
           190,
           438
          ],
          "showticklabels": false,
          "tickmode": "linear",
          "title": {
           "text": "X"
          }
         },
         "yaxis": {
          "backgroundcolor": "lightblue",
          "dtick": 50,
          "gridwidth": 0.5,
          "range": [
           6,
           343
          ],
          "showticklabels": false,
          "tickmode": "linear",
          "title": {
           "text": "Y"
          }
         },
         "zaxis": {
          "backgroundcolor": "lightblue",
          "dtick": 50,
          "gridwidth": 0.5,
          "range": [
           81,
           485
          ],
          "showticklabels": false,
          "tickmode": "linear",
          "title": {
           "text": "Z"
          }
         }
        },
        "template": {
         "data": {
          "bar": [
           {
            "error_x": {
             "color": "#2a3f5f"
            },
            "error_y": {
             "color": "#2a3f5f"
            },
            "marker": {
             "line": {
              "color": "#E5ECF6",
              "width": 0.5
             },
             "pattern": {
              "fillmode": "overlay",
              "size": 10,
              "solidity": 0.2
             }
            },
            "type": "bar"
           }
          ],
          "barpolar": [
           {
            "marker": {
             "line": {
              "color": "#E5ECF6",
              "width": 0.5
             },
             "pattern": {
              "fillmode": "overlay",
              "size": 10,
              "solidity": 0.2
             }
            },
            "type": "barpolar"
           }
          ],
          "carpet": [
           {
            "aaxis": {
             "endlinecolor": "#2a3f5f",
             "gridcolor": "white",
             "linecolor": "white",
             "minorgridcolor": "white",
             "startlinecolor": "#2a3f5f"
            },
            "baxis": {
             "endlinecolor": "#2a3f5f",
             "gridcolor": "white",
             "linecolor": "white",
             "minorgridcolor": "white",
             "startlinecolor": "#2a3f5f"
            },
            "type": "carpet"
           }
          ],
          "choropleth": [
           {
            "colorbar": {
             "outlinewidth": 0,
             "ticks": ""
            },
            "type": "choropleth"
           }
          ],
          "contour": [
           {
            "colorbar": {
             "outlinewidth": 0,
             "ticks": ""
            },
            "colorscale": [
             [
              0,
              "#0d0887"
             ],
             [
              0.1111111111111111,
              "#46039f"
             ],
             [
              0.2222222222222222,
              "#7201a8"
             ],
             [
              0.3333333333333333,
              "#9c179e"
             ],
             [
              0.4444444444444444,
              "#bd3786"
             ],
             [
              0.5555555555555556,
              "#d8576b"
             ],
             [
              0.6666666666666666,
              "#ed7953"
             ],
             [
              0.7777777777777778,
              "#fb9f3a"
             ],
             [
              0.8888888888888888,
              "#fdca26"
             ],
             [
              1,
              "#f0f921"
             ]
            ],
            "type": "contour"
           }
          ],
          "contourcarpet": [
           {
            "colorbar": {
             "outlinewidth": 0,
             "ticks": ""
            },
            "type": "contourcarpet"
           }
          ],
          "heatmap": [
           {
            "colorbar": {
             "outlinewidth": 0,
             "ticks": ""
            },
            "colorscale": [
             [
              0,
              "#0d0887"
             ],
             [
              0.1111111111111111,
              "#46039f"
             ],
             [
              0.2222222222222222,
              "#7201a8"
             ],
             [
              0.3333333333333333,
              "#9c179e"
             ],
             [
              0.4444444444444444,
              "#bd3786"
             ],
             [
              0.5555555555555556,
              "#d8576b"
             ],
             [
              0.6666666666666666,
              "#ed7953"
             ],
             [
              0.7777777777777778,
              "#fb9f3a"
             ],
             [
              0.8888888888888888,
              "#fdca26"
             ],
             [
              1,
              "#f0f921"
             ]
            ],
            "type": "heatmap"
           }
          ],
          "heatmapgl": [
           {
            "colorbar": {
             "outlinewidth": 0,
             "ticks": ""
            },
            "colorscale": [
             [
              0,
              "#0d0887"
             ],
             [
              0.1111111111111111,
              "#46039f"
             ],
             [
              0.2222222222222222,
              "#7201a8"
             ],
             [
              0.3333333333333333,
              "#9c179e"
             ],
             [
              0.4444444444444444,
              "#bd3786"
             ],
             [
              0.5555555555555556,
              "#d8576b"
             ],
             [
              0.6666666666666666,
              "#ed7953"
             ],
             [
              0.7777777777777778,
              "#fb9f3a"
             ],
             [
              0.8888888888888888,
              "#fdca26"
             ],
             [
              1,
              "#f0f921"
             ]
            ],
            "type": "heatmapgl"
           }
          ],
          "histogram": [
           {
            "marker": {
             "pattern": {
              "fillmode": "overlay",
              "size": 10,
              "solidity": 0.2
             }
            },
            "type": "histogram"
           }
          ],
          "histogram2d": [
           {
            "colorbar": {
             "outlinewidth": 0,
             "ticks": ""
            },
            "colorscale": [
             [
              0,
              "#0d0887"
             ],
             [
              0.1111111111111111,
              "#46039f"
             ],
             [
              0.2222222222222222,
              "#7201a8"
             ],
             [
              0.3333333333333333,
              "#9c179e"
             ],
             [
              0.4444444444444444,
              "#bd3786"
             ],
             [
              0.5555555555555556,
              "#d8576b"
             ],
             [
              0.6666666666666666,
              "#ed7953"
             ],
             [
              0.7777777777777778,
              "#fb9f3a"
             ],
             [
              0.8888888888888888,
              "#fdca26"
             ],
             [
              1,
              "#f0f921"
             ]
            ],
            "type": "histogram2d"
           }
          ],
          "histogram2dcontour": [
           {
            "colorbar": {
             "outlinewidth": 0,
             "ticks": ""
            },
            "colorscale": [
             [
              0,
              "#0d0887"
             ],
             [
              0.1111111111111111,
              "#46039f"
             ],
             [
              0.2222222222222222,
              "#7201a8"
             ],
             [
              0.3333333333333333,
              "#9c179e"
             ],
             [
              0.4444444444444444,
              "#bd3786"
             ],
             [
              0.5555555555555556,
              "#d8576b"
             ],
             [
              0.6666666666666666,
              "#ed7953"
             ],
             [
              0.7777777777777778,
              "#fb9f3a"
             ],
             [
              0.8888888888888888,
              "#fdca26"
             ],
             [
              1,
              "#f0f921"
             ]
            ],
            "type": "histogram2dcontour"
           }
          ],
          "mesh3d": [
           {
            "colorbar": {
             "outlinewidth": 0,
             "ticks": ""
            },
            "type": "mesh3d"
           }
          ],
          "parcoords": [
           {
            "line": {
             "colorbar": {
              "outlinewidth": 0,
              "ticks": ""
             }
            },
            "type": "parcoords"
           }
          ],
          "pie": [
           {
            "automargin": true,
            "type": "pie"
           }
          ],
          "scatter": [
           {
            "fillpattern": {
             "fillmode": "overlay",
             "size": 10,
             "solidity": 0.2
            },
            "type": "scatter"
           }
          ],
          "scatter3d": [
           {
            "line": {
             "colorbar": {
              "outlinewidth": 0,
              "ticks": ""
             }
            },
            "marker": {
             "colorbar": {
              "outlinewidth": 0,
              "ticks": ""
             }
            },
            "type": "scatter3d"
           }
          ],
          "scattercarpet": [
           {
            "marker": {
             "colorbar": {
              "outlinewidth": 0,
              "ticks": ""
             }
            },
            "type": "scattercarpet"
           }
          ],
          "scattergeo": [
           {
            "marker": {
             "colorbar": {
              "outlinewidth": 0,
              "ticks": ""
             }
            },
            "type": "scattergeo"
           }
          ],
          "scattergl": [
           {
            "marker": {
             "colorbar": {
              "outlinewidth": 0,
              "ticks": ""
             }
            },
            "type": "scattergl"
           }
          ],
          "scattermapbox": [
           {
            "marker": {
             "colorbar": {
              "outlinewidth": 0,
              "ticks": ""
             }
            },
            "type": "scattermapbox"
           }
          ],
          "scatterpolar": [
           {
            "marker": {
             "colorbar": {
              "outlinewidth": 0,
              "ticks": ""
             }
            },
            "type": "scatterpolar"
           }
          ],
          "scatterpolargl": [
           {
            "marker": {
             "colorbar": {
              "outlinewidth": 0,
              "ticks": ""
             }
            },
            "type": "scatterpolargl"
           }
          ],
          "scatterternary": [
           {
            "marker": {
             "colorbar": {
              "outlinewidth": 0,
              "ticks": ""
             }
            },
            "type": "scatterternary"
           }
          ],
          "surface": [
           {
            "colorbar": {
             "outlinewidth": 0,
             "ticks": ""
            },
            "colorscale": [
             [
              0,
              "#0d0887"
             ],
             [
              0.1111111111111111,
              "#46039f"
             ],
             [
              0.2222222222222222,
              "#7201a8"
             ],
             [
              0.3333333333333333,
              "#9c179e"
             ],
             [
              0.4444444444444444,
              "#bd3786"
             ],
             [
              0.5555555555555556,
              "#d8576b"
             ],
             [
              0.6666666666666666,
              "#ed7953"
             ],
             [
              0.7777777777777778,
              "#fb9f3a"
             ],
             [
              0.8888888888888888,
              "#fdca26"
             ],
             [
              1,
              "#f0f921"
             ]
            ],
            "type": "surface"
           }
          ],
          "table": [
           {
            "cells": {
             "fill": {
              "color": "#EBF0F8"
             },
             "line": {
              "color": "white"
             }
            },
            "header": {
             "fill": {
              "color": "#C8D4E3"
             },
             "line": {
              "color": "white"
             }
            },
            "type": "table"
           }
          ]
         },
         "layout": {
          "annotationdefaults": {
           "arrowcolor": "#2a3f5f",
           "arrowhead": 0,
           "arrowwidth": 1
          },
          "autotypenumbers": "strict",
          "coloraxis": {
           "colorbar": {
            "outlinewidth": 0,
            "ticks": ""
           }
          },
          "colorscale": {
           "diverging": [
            [
             0,
             "#8e0152"
            ],
            [
             0.1,
             "#c51b7d"
            ],
            [
             0.2,
             "#de77ae"
            ],
            [
             0.3,
             "#f1b6da"
            ],
            [
             0.4,
             "#fde0ef"
            ],
            [
             0.5,
             "#f7f7f7"
            ],
            [
             0.6,
             "#e6f5d0"
            ],
            [
             0.7,
             "#b8e186"
            ],
            [
             0.8,
             "#7fbc41"
            ],
            [
             0.9,
             "#4d9221"
            ],
            [
             1,
             "#276419"
            ]
           ],
           "sequential": [
            [
             0,
             "#0d0887"
            ],
            [
             0.1111111111111111,
             "#46039f"
            ],
            [
             0.2222222222222222,
             "#7201a8"
            ],
            [
             0.3333333333333333,
             "#9c179e"
            ],
            [
             0.4444444444444444,
             "#bd3786"
            ],
            [
             0.5555555555555556,
             "#d8576b"
            ],
            [
             0.6666666666666666,
             "#ed7953"
            ],
            [
             0.7777777777777778,
             "#fb9f3a"
            ],
            [
             0.8888888888888888,
             "#fdca26"
            ],
            [
             1,
             "#f0f921"
            ]
           ],
           "sequentialminus": [
            [
             0,
             "#0d0887"
            ],
            [
             0.1111111111111111,
             "#46039f"
            ],
            [
             0.2222222222222222,
             "#7201a8"
            ],
            [
             0.3333333333333333,
             "#9c179e"
            ],
            [
             0.4444444444444444,
             "#bd3786"
            ],
            [
             0.5555555555555556,
             "#d8576b"
            ],
            [
             0.6666666666666666,
             "#ed7953"
            ],
            [
             0.7777777777777778,
             "#fb9f3a"
            ],
            [
             0.8888888888888888,
             "#fdca26"
            ],
            [
             1,
             "#f0f921"
            ]
           ]
          },
          "colorway": [
           "#636efa",
           "#EF553B",
           "#00cc96",
           "#ab63fa",
           "#FFA15A",
           "#19d3f3",
           "#FF6692",
           "#B6E880",
           "#FF97FF",
           "#FECB52"
          ],
          "font": {
           "color": "#2a3f5f"
          },
          "geo": {
           "bgcolor": "white",
           "lakecolor": "white",
           "landcolor": "#E5ECF6",
           "showlakes": true,
           "showland": true,
           "subunitcolor": "white"
          },
          "hoverlabel": {
           "align": "left"
          },
          "hovermode": "closest",
          "mapbox": {
           "style": "light"
          },
          "paper_bgcolor": "white",
          "plot_bgcolor": "#E5ECF6",
          "polar": {
           "angularaxis": {
            "gridcolor": "white",
            "linecolor": "white",
            "ticks": ""
           },
           "bgcolor": "#E5ECF6",
           "radialaxis": {
            "gridcolor": "white",
            "linecolor": "white",
            "ticks": ""
           }
          },
          "scene": {
           "xaxis": {
            "backgroundcolor": "#E5ECF6",
            "gridcolor": "white",
            "gridwidth": 2,
            "linecolor": "white",
            "showbackground": true,
            "ticks": "",
            "zerolinecolor": "white"
           },
           "yaxis": {
            "backgroundcolor": "#E5ECF6",
            "gridcolor": "white",
            "gridwidth": 2,
            "linecolor": "white",
            "showbackground": true,
            "ticks": "",
            "zerolinecolor": "white"
           },
           "zaxis": {
            "backgroundcolor": "#E5ECF6",
            "gridcolor": "white",
            "gridwidth": 2,
            "linecolor": "white",
            "showbackground": true,
            "ticks": "",
            "zerolinecolor": "white"
           }
          },
          "shapedefaults": {
           "line": {
            "color": "#2a3f5f"
           }
          },
          "ternary": {
           "aaxis": {
            "gridcolor": "white",
            "linecolor": "white",
            "ticks": ""
           },
           "baxis": {
            "gridcolor": "white",
            "linecolor": "white",
            "ticks": ""
           },
           "bgcolor": "#E5ECF6",
           "caxis": {
            "gridcolor": "white",
            "linecolor": "white",
            "ticks": ""
           }
          },
          "title": {
           "x": 0.05
          },
          "xaxis": {
           "automargin": true,
           "gridcolor": "white",
           "linecolor": "white",
           "ticks": "",
           "title": {
            "standoff": 15
           },
           "zerolinecolor": "white",
           "zerolinewidth": 2
          },
          "yaxis": {
           "automargin": true,
           "gridcolor": "white",
           "linecolor": "white",
           "ticks": "",
           "title": {
            "standoff": 15
           },
           "zerolinecolor": "white",
           "zerolinewidth": 2
          }
         }
        },
        "title": {
         "text": "Trayectoria 3D Interactiva"
        },
        "updatemenus": [
         {
          "buttons": [
           {
            "args": [
             null,
             {
              "frame": {
               "duration": 200,
               "redraw": true
              }
             }
            ],
            "label": "Play",
            "method": "animate"
           }
          ],
          "type": "buttons",
          "x": 0.8,
          "xanchor": "left",
          "y": 1.05,
          "yanchor": "bottom"
         }
        ]
       }
      }
     },
     "metadata": {},
     "output_type": "display_data"
    }
   ],
   "source": [
    "# Crear el gráfico 3D interactivo\n",
    "fig = go.Figure(\n",
    "    data=[\n",
    "        go.Scatter3d(),\n",
    "        go.Scatter3d(),\n",
    "        go.Scatter3d(),\n",
    "        go.Scatter3d(),\n",
    "        go.Scatter3d(),\n",
    "        go.Scatter3d(),\n",
    "        go.Scatter3d(),\n",
    "        go.Scatter3d(),\n",
    "        go.Scatter3d(),\n",
    "        go.Scatter3d(),\n",
    "        go.Scatter3d(),\n",
    "        go.Scatter3d(\n",
    "            x=[bat['x'].iloc[0]],\n",
    "            y=[bat['y'].iloc[0]],\n",
    "            z=[bat['z'].iloc[0]],\n",
    "            mode='markers',\n",
    "            marker=dict(size=5, color='black'), \n",
    "            name='Murciélago'\n",
    "        ),\n",
    "        go.Scatter3d(\n",
    "            x=bat['x'][:-1],\n",
    "            y=bat['y'][:-1],\n",
    "            z=bat['z'][:-1],\n",
    "            mode='lines+markers',\n",
    "            marker=dict(size=0.1, color='red'),\n",
    "            line=dict(width=0.1),\n",
    "            name='Trayectoria'\n",
    "        )\n",
    "    ]\n",
    ")\n",
    "\n",
    "\n",
    "# Agrego los frames\n",
    "bef = [go.Frame(\n",
    "    data=[\n",
    "        go.Scatter3d(\n",
    "            x=bat_bef['x'][:k+1],\n",
    "            y=bat_bef['y'][:k+1],\n",
    "            z=bat_bef['z'][:k+1],\n",
    "            mode='lines+markers',\n",
    "            marker=dict(size=[0] * (k - 1) + [5], color='black'),\n",
    "            line=dict(width=4, color='black'),\n",
    "            name = 'Aproximación'\n",
    "        )\n",
    "    ] + [\n",
    "        go.Scatter3d(\n",
    "            x=flower_bef['x'][:k+1],\n",
    "            y=flower_bef['y'][:k+1],\n",
    "            z=flower_bef['z'][:k+1],\n",
    "            mode='lines+markers',\n",
    "            marker=dict(size=[0] * (k - 1) + [5], color='red'),\n",
    "            line=dict(width=4, color='red'),\n",
    "            name = 'Flor'\n",
    "        )\n",
    "    ]\n",
    ") for k in range(len(bat_bef))]\n",
    "\n",
    "fee = [go.Frame(\n",
    "    data=[\n",
    "        go.Scatter3d(\n",
    "            x=bat_fee['x'][:k+1],\n",
    "            y=bat_fee['y'][:k+1],\n",
    "            z=bat_fee['z'][:k+1],\n",
    "            mode='lines+markers',\n",
    "            marker=dict(size=[0] * (k - 1) + [5], color='blue'),\n",
    "            line=dict(width=4, color='blue'),\n",
    "            name = 'Alimentación'\n",
    "        )\n",
    "    ] + [\n",
    "        go.Scatter3d(\n",
    "            x=flower_bef['x'],\n",
    "            y=flower_bef['y'],\n",
    "            z=flower_bef['z'],\n",
    "            mode='lines',\n",
    "            line=dict(width=4, color='black'),\n",
    "            name = 'Flor'\n",
    "        )\n",
    "    ] + [\n",
    "        go.Scatter3d(\n",
    "            x=bat_bef['x'],\n",
    "            y=bat_bef['y'],\n",
    "            z=bat_bef['z'],\n",
    "            mode='lines',\n",
    "            line=dict(width=4, color='black'),\n",
    "            name = 'Aproximación'\n",
    "        )\n",
    "    ] + [\n",
    "        go.Scatter3d(\n",
    "            x=[flower_bef['x'].iloc[-1]],\n",
    "            y=[flower_bef['y'].iloc[-1]],\n",
    "            z=[flower_bef['z'].iloc[-1]],\n",
    "            mode='markers',\n",
    "            marker=dict(size=5, color='red'), \n",
    "            name='Flor'\n",
    "        )\n",
    "    ] + [\n",
    "        go.Scatter3d(\n",
    "            x=[bat_bef['x'].iloc[-1]],\n",
    "            y=[bat_bef['y'].iloc[-1]],\n",
    "            z=[bat_bef['z'].iloc[-1]],\n",
    "            mode='markers',\n",
    "            marker=dict(size=5, color='black'), \n",
    "            name='Murciélago'\n",
    "        )\n",
    "    ]\n",
    ") for k in range(len(bat_fee))]\n",
    "\n",
    "aft = [go.Frame(\n",
    "    data=[\n",
    "        go.Scatter3d(\n",
    "            x=bat_aft['x'][:k+1],\n",
    "            y=bat_aft['y'][:k+1],\n",
    "            z=bat_aft['z'][:k+1],\n",
    "            mode='lines+markers',\n",
    "            marker=dict(size=[0] * (k - 1) + [5], color='black'),\n",
    "            line=dict(width=4, color='black'),\n",
    "            name = 'Alejamiento'\n",
    "        )\n",
    "    ] + [\n",
    "        go.Scatter3d(\n",
    "            x=flower_aft['x'][:k+1],\n",
    "            y=flower_aft['y'][:k+1],\n",
    "            z=flower_aft['z'][:k+1],\n",
    "            mode='lines+markers',\n",
    "            marker=dict(size=[0] * (k - 1) + [5], color='red'),\n",
    "            line=dict(width=4, color='red'),\n",
    "            name = 'Flor'\n",
    "        )\n",
    "    ] + [\n",
    "        go.Scatter3d(\n",
    "            x=[bat_fee['x'].iloc[-1]],\n",
    "            y=[bat_fee['y'].iloc[-1]],\n",
    "            z=[bat_fee['z'].iloc[-1]],\n",
    "            mode='markers',\n",
    "            marker=dict(size=5, color='black'), \n",
    "            name='Murciélago'\n",
    "        )\n",
    "    ] + [\n",
    "        go.Scatter3d(\n",
    "            x=bat_fee['x'],\n",
    "            y=bat_fee['y'],\n",
    "            z=bat_fee['z'],\n",
    "            mode='lines',\n",
    "            line=dict(width=4, color='blue'),\n",
    "            name = 'Aliemntación'\n",
    "        )\n",
    "    ] + [\n",
    "        go.Scatter3d(\n",
    "            x=flower_bef['x'],\n",
    "            y=flower_bef['y'],\n",
    "            z=flower_bef['z'],\n",
    "            mode='lines',\n",
    "            line=dict(width=4, color='red'),\n",
    "            name = 'Flor'\n",
    "        )\n",
    "    ] + [\n",
    "        go.Scatter3d(\n",
    "            x=bat_bef['x'],\n",
    "            y=bat_bef['y'],\n",
    "            z=bat_bef['z'],\n",
    "            mode='lines',\n",
    "            line=dict(width=4, color='black'),\n",
    "            name = 'Aproximación'\n",
    "        )\n",
    "    ] + [\n",
    "        go.Scatter3d(\n",
    "            x=[flower_bef['x'].iloc[-1]],\n",
    "            y=[flower_bef['y'].iloc[-1]],\n",
    "            z=[flower_bef['z'].iloc[-1]],\n",
    "            mode='markers',\n",
    "            marker=dict(size=5, color='red'), \n",
    "            name='Flor'\n",
    "        )\n",
    "    ] + [\n",
    "        go.Scatter3d(\n",
    "            x=[bat_bef['x'].iloc[-1]],\n",
    "            y=[bat_bef['y'].iloc[-1]],\n",
    "            z=[bat_bef['z'].iloc[-1]],\n",
    "            mode='markers',\n",
    "            marker=dict(size=5, color='black'), \n",
    "            name='Murciélago'\n",
    "        )\n",
    "    ]\n",
    ") for k in range(len(bat_aft))]\n",
    "\n",
    "fig.frames = bef + fee + aft\n",
    "\n",
    "\n",
    "# Configurar el diseño del gráfico\n",
    "fig.update_layout(\n",
    "    scene=dict(\n",
    "        xaxis_title='X',\n",
    "        yaxis_title='Y',\n",
    "        zaxis_title='Z',\n",
    "        xaxis=dict(showticklabels=False, tickmode=\"linear\", dtick=100, range=[min(data['x']) - 30, max(data['x']) + 30], backgroundcolor=\"lightblue\", gridwidth=0.5),\n",
    "        yaxis=dict(showticklabels=False, tickmode=\"linear\", dtick=100, range=[min(data['y']) - 30, max(data['y']) + 30], backgroundcolor=\"lightblue\", gridwidth=0.5),\n",
    "        zaxis=dict(showticklabels=False, tickmode=\"linear\", dtick=100,  range=[min(data['z']) - 30, max(data['z']) + 30], backgroundcolor=\"lightblue\", gridwidth=0.5)\n",
    "    ),\n",
    "    title='Trayectoria 3D Interactiva',\n",
    "    updatemenus=[dict(\n",
    "            type=\"buttons\", \n",
    "            y=1.05, x=0.8, xanchor='left', yanchor='bottom',\n",
    "            buttons=[\n",
    "                dict(\n",
    "                    label='Play', method='animate',\n",
    "                    args=[None, dict(frame=dict(duration=200, redraw=True))]\n",
    "                )\n",
    "            ]\n",
    "    )],\n",
    ")\n",
    "\n",
    "\n",
    "# Mostrar el gráfico\n",
    "fig.show()"
   ]
  },
  {
   "cell_type": "code",
   "execution_count": null,
   "metadata": {},
   "outputs": [],
   "source": []
  },
  {
   "cell_type": "code",
   "execution_count": null,
   "metadata": {},
   "outputs": [],
   "source": []
  }
 ],
 "metadata": {
  "kernelspec": {
   "display_name": "Python 3",
   "language": "python",
   "name": "python3"
  },
  "language_info": {
   "codemirror_mode": {
    "name": "ipython",
    "version": 3
   },
   "file_extension": ".py",
   "mimetype": "text/x-python",
   "name": "python",
   "nbconvert_exporter": "python",
   "pygments_lexer": "ipython3",
   "version": "3.11.3"
  }
 },
 "nbformat": 4,
 "nbformat_minor": 2
}
