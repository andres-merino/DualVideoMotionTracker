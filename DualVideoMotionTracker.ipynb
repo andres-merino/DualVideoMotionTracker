{
 "cells": [
  {
   "cell_type": "markdown",
   "metadata": {},
   "source": [
    "# DualVideoMotionTracker"
   ]
  },
  {
   "cell_type": "markdown",
   "metadata": {},
   "source": [
    "## Packages"
   ]
  },
  {
   "cell_type": "code",
   "execution_count": 1,
   "metadata": {},
   "outputs": [],
   "source": [
    "from DualVideoMotionTracker import process_videos"
   ]
  },
  {
   "cell_type": "markdown",
   "metadata": {},
   "source": [
    "## Test"
   ]
  },
  {
   "cell_type": "markdown",
   "metadata": {},
   "source": [
    "Define the paths for the dorsal and lateral videos, as well as the output CSV file. Run the `process_videos()` function with these paths and the initial frames for each video. Interact with the interface to mark points of interest in both videos and use the bottom buttons for detection options, feeding status, or record deletion. Upon completion, you will receive a CSV file with the coordinates of the points marked in each frame. To finish the process, press ESC."
   ]
  },
  {
   "cell_type": "code",
   "execution_count": 3,
   "metadata": {},
   "outputs": [
    {
     "name": "stdout",
     "output_type": "stream",
     "text": [
      "Left Point 1: (0, 0)\n",
      "Left Point 2: (0, 0)\n",
      "Left Point 3: (0, 0)\n",
      "Right Point 1: (0, 0)\n",
      "Right Point 2: (0, 0)\n",
      "Right Point 3: (0, 0)\n",
      "Clicked points for the current frame: [(0, 0), (0, 0), (0, 0), (0, 0), (0, 0), (0, 0)]\n",
      "Left Point 1: (270, 118)\n",
      "Left Point 2: (291, 218)\n",
      "Left Point 3: (440, 251)\n",
      "Right Point 1: (199, 97)\n",
      "Right Point 2: (-2, -2)\n",
      "Right Point 3: (-2, -2)\n",
      "Clicked points for the current frame: [(270, 118), (291, 218), (440, 251), (199, 97), (-2, -2), (-2, -2)]\n",
      "Right Point 1: (482, 105)\n",
      "Data saved to data/output_points.csv\n"
     ]
    }
   ],
   "source": [
    "# Paths to the video files\n",
    "video_path_dorsal = \"videos/6-top.mp4\"\n",
    "video_path_lateral = \"videos/6-lat.mp4\"\n",
    "\n",
    "# Output Excel file path\n",
    "output_excel_path = \"data/output_points.csv\"\n",
    "\n",
    "# Process the videos starting from specific frames\n",
    "process_videos(video_path_dorsal, video_path_lateral, output_excel_path, start_frame_top=1, start_frame_lat=0)"
   ]
  }
 ],
 "metadata": {
  "kernelspec": {
   "display_name": "Python 3",
   "language": "python",
   "name": "python3"
  },
  "language_info": {
   "codemirror_mode": {
    "name": "ipython",
    "version": 3
   },
   "file_extension": ".py",
   "mimetype": "text/x-python",
   "name": "python",
   "nbconvert_exporter": "python",
   "pygments_lexer": "ipython3",
   "version": "3.9.7"
  }
 },
 "nbformat": 4,
 "nbformat_minor": 2
}
